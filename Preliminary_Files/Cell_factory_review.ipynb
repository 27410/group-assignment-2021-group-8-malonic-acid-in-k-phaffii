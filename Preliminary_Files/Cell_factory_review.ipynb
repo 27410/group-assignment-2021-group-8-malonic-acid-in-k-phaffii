{
 "cells": [
  {
   "cell_type": "markdown",
   "id": "3664bd71",
   "metadata": {},
   "source": [
    "# 1\tLiterature review of the cell factory\n",
    "## 1.1 Introduction to Komagataella phaffii\n",
    "The organism chosen as a cell chassis in this report is the methylotrophic yeast _Komagataella phaffii_, also know under its outdated name _Pichia Pastoris_, which is still often used in applied sciences. The genus _Komagataella_ comprises of 7 species, of which _K. phaffii_ and _K. pastoris_ are most used and only ones that have been studied in detail. (Heistinger 2020).\n",
    " ![grafik.png](attachment:grafik.png)\n",
    "(https://www.hcp-detection.org/expression-systems-for-therapeutic-biopharmaceuticals/expression-system-pichia-pastoris/#prettyPhoto/0/)\n"
   ]
  },
  {
   "attachments": {},
   "cell_type": "markdown",
   "id": "8dd76683",
   "metadata": {},
   "source": [
    "## 1.2\tGeneral Advantages\n",
    "_Komagataella phaffii_ is a methylotrophic, Crabtree negative yeast, that is non-pathogenic and widely used as a cell factory. The organism grows very fast on glucose or glycerol to high biomass concentrations and can use ammonium as a nitrogen source (Heistinger 2020). _K. phaffii_ is a robust cell chassis with high genetic stability and endurance against mechanical and physiological stress (Gasser 2018). It is also able to grow on methanol as the only carbon source, due to its strong methanol-inducible promoters on the respective pathway gene (Heistinger 2020). This is exploited in metabolic engineering by introducing recombinant genes into the methanol assimilation pathway region (Bernauer 2021) and using these inducing and non-inducing genes to promote the production of a target metabolite. _K. phaffii_ also owns other, methanol free pathways that can be used in this way. The cells allow the production of biopharmaceuticals with complex human like glycan structures (Heistinger 2020). There are well-established and precises genetic modification strategies and new advances opened _K. phaffii_ as a viable model organism. Recently it was also managed to synthetically implement a pathway similar to the CBB-Cycle into a strain, that allowed the growth of _K. phaffii_ on CO2 as carbon source alone (Bernauer 2021).\n"
   ]
  },
  {
   "cell_type": "markdown",
   "id": "3f159b42",
   "metadata": {},
   "source": [
    "## 1.3\tGeneral Disadvantages\n",
    "As a Crabtree-negative yeast _K. phaffii_ is not capable of fermentative process under anaerobic conditions. This makes the cells very dependent and sensitive on oxygen supply. To ensure such high growth rates, the sufficient aeration of the broth can be the limiting factor (Bernauer 2021). The high oxygen uptake for assimilating methanol also results in substantial biochemical reaction heat formation and cause troubles for process control and tank design (Gasser 2018). Furthermore the cells show a need for biotin supplemented to the feeding media (Bernauer 2021). In general _K. phaffii_ is less researched than _S. cerevisiae_, which has been in use for centuries and its processes are refined and proven (Gasser 2018).\n"
   ]
  },
  {
   "cell_type": "markdown",
   "id": "74ca94ad",
   "metadata": {},
   "source": [
    "## 1.4\tSuitability of the cell factory for the product\n",
    "The existing metabolism already produces beta-alanine, a key precursor for the desired pathway to malonic acid. It is only necessary to introduce two more reactions and therefore enzymes to enable the production (Miao 2021, Song 2016). The biggest advantage of _K. phaffii_ is the already existing methanol assimilation capability of the organism. The genetic code for the needed promoters also offer the opportunity to introduce methanol-inducible enzyme and providing an interesting dynamic for two stage fermentation (Gasser 2018, Bernauer 2021). For example, first the cell density would be increased fast and to a high level, then a switch of the substrate to methanol induces the production of the desired metabolite.\n"
   ]
  }
 ],
 "metadata": {
  "kernelspec": {
   "display_name": "Python 3",
   "language": "python",
   "name": "python3"
  },
  "language_info": {
   "codemirror_mode": {
    "name": "ipython",
    "version": 3
   },
   "file_extension": ".py",
   "mimetype": "text/x-python",
   "name": "python",
   "nbconvert_exporter": "python",
   "pygments_lexer": "ipython3",
   "version": "3.6.13"
  }
 },
 "nbformat": 4,
 "nbformat_minor": 5
}
