{
 "cells": [
  {
   "cell_type": "markdown",
   "id": "d27bea11",
   "metadata": {},
   "source": [
    "### 1.2 Literature review of the cell factory (<500 words)\n"
   ]
<<<<<<< HEAD
  },
  {
   "cell_type": "markdown",
   "id": "0e5d7e95",
   "metadata": {},
   "source": []
=======
>>>>>>> 234059b52b2723669f9cff2536b5131b8f6416c2
  }
 ],
 "metadata": {
  "kernelspec": {
   "display_name": "Python 3",
   "language": "python",
   "name": "python3"
  },
  "language_info": {
   "codemirror_mode": {
    "name": "ipython",
    "version": 3
   },
   "file_extension": ".py",
   "mimetype": "text/x-python",
   "name": "python",
   "nbconvert_exporter": "python",
   "pygments_lexer": "ipython3",
   "version": "3.6.13"
  }
 },
 "nbformat": 4,
 "nbformat_minor": 5
}
