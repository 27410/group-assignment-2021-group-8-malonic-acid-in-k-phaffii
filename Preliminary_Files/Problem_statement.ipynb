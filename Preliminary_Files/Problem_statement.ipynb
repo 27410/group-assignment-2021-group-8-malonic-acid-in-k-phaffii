{
 "cells": [
  {
   "cell_type": "markdown",
   "id": "569e571b-e8f0-4cb7-931b-378dcfed4762",
   "metadata": {},
   "source": [
    "### Problem Statement"
   ]
  },
  {
   "cell_type": "markdown",
   "id": "acb269d5-7f25-4b6f-9246-90405cd14ced",
   "metadata": {},
   "source": [
    "The goal of this project is to model and optimize a hypothetical *Komagataella phaffii* strain for the production of malonic acid. *K phaffii* does not natively produce malonic acid, thus the enzymes responsible for the missing metabolic steps need to be introduced in the strain. The genes will be integrated into the metabolic model \\[placeholder model\\], previously described by \\[placeholder author\\]. The strain will be optimized for growth on \\[placholder substrate\\] as a cheap substrate. Finally, as *K phaffii* has the tendency to invest resources into growth rather than production of secondary metabolites, through the knockout of competing, non-vital pathways we will try to optimize the metabolic flux towards the product, while maintaining growth rate at a reasonable level."
   ]
  }
 ],
 "metadata": {
  "kernelspec": {
   "display_name": "Python 3 (ipykernel)",
   "language": "python",
   "name": "python3"
  },
  "language_info": {
   "codemirror_mode": {
    "name": "ipython",
    "version": 3
   },
   "file_extension": ".py",
   "mimetype": "text/x-python",
   "name": "python",
   "nbconvert_exporter": "python",
   "pygments_lexer": "ipython3",
   "version": "3.9.5"
  }
 },
 "nbformat": 4,
 "nbformat_minor": 5
}
