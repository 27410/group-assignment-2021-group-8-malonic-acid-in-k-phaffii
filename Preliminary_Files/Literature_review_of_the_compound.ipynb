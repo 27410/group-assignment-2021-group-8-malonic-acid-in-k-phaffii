{
 "cells": [
  {
   "cell_type": "markdown",
   "metadata": {},
   "source": [
    "## 1.1 Literature review of the compound (<500 words)\n",
    "The natural occurring substance malonic acid was first discovered in beetroots. Even though is was first prepared in 1858 [1], its relevance in todays market is not declining. Malonic acid is traditionally produced synthetically from nonrenewable petroleum feedstock. During this process ester groups have to be added using an alcohol (Hildbrand, 2001). Using non renewable resources is neither environmentally friendly, nor will it be financially lucrative in the future. The company Lygos Inc. has therefore developed a patented method to produce malonic acid through fermentation of genetically modified *Pichia Kudriavzevii* yeast cells (Peters, 2018). These efforts have been taken on due to the vast amount of uses for malonic acid in modern industry.\n",
    "\n",
    "![Malonic acid](../img/malonic_acid.png)\n",
    "\n",
    "*Figure 1*:  Molecular Structure of Malonic Acid.\n",
    "\n",
    "The molecule is often used as a precursor, as it can be converted into 1,3 propanediol - a precursor for polyesters and polymers. Furthermore malonic acid is used in the electronics, flavor, pharmaceutical, fragrance and coating industry. According to market research, the rising interest in the compound will lead to an increase in sales of the compound [4]. Political pressure to utilize bio-based synthetic compounds will further expand the market for malonic acid. It is predicted to go from USD 46 million in 2020 to USD 55 million by the end of 2027 [5].\n",
    "\n",
    "The US Department of Energy listed malonic acid as one of the top 30 chemicals to be produced from biomass [6]. According to their research it is best produced via 3-Hydroxypropionate from sugars like Glucose, Fructose, Xylose,Arabinose, Lactose, Sucrose or Starch. The compound can be derived from beta alanine, which can efficiently be produced from methanol (Miao, 2021). Our goal is therefore to use methanol as the substrate. In modern sustainable production, methanol is considered to be a promising feedstock, since it provides highly reduced carbon and is not competing with food sources.\n",
    "\n",
    "\n",
    "[1]: 1911 Encyclopædia Britannica/Malonic Acid [https://en.wikisource.org/wiki/1911_Encyclop%C3%A6dia_Britannica/Malonic_Acid]\n",
    "\n",
    "Hildbrand, S.; Pollak, P. Malonic Acid & Derivatives. March 15, 2001. Ullmann's Encyclopedia of Industrial Chemistry [http://dx.doi.org/10.1002/14356007.a16_063.pub2]\n",
    "\n",
    " Peters, 2018\n",
    "\n",
    "[4]: Transparency Market Research [https://www.transparencymarketresearch.com/malonic-acid-market.html]\n",
    "\n",
    "[5]: https://www.wboc.com/story/44796231/malonic-acid-market-2021-comprehensive-report-demand-analysis-with-covid-19-impact-industry-size-latest-trend-analysis-impact-of-covid-19-top-players\n",
    "\n",
    "[6]: Werpy, Todd A.; Holladay, John E.; White, James F. (August 2004). [https://www.pnnl.gov/main/publications/external/technical_reports/PNNL-14808.pdf]\n",
    "\n",
    "Miao, L., Li, Y. & Zhu, T. Metabolic engineering of methylotrophic Pichia pastoris for the production of β-alanine. Bioresour. Bioprocess. 8, 89 (2021). https://doi.org/10.1186/s40643-021-00444-9 Titel anhand dieser DOI in Citavi-Projekt übernehmen"
   ]
  }
 ],
 "metadata": {
  "language_info": {
   "name": "python"
  },
  "orig_nbformat": 4
 },
 "nbformat": 4,
 "nbformat_minor": 2
}
