{
 "cells": [
  {
   "cell_type": "markdown",
   "id": "54e82bb9-dd68-416a-bdf8-3a88ed71bcfd",
   "metadata": {},
   "source": [
    "This code is borrowed from the report example from last year."
   ]
  },
  {
   "cell_type": "markdown",
   "id": "f34ce76d-0fa4-4a8e-bb35-8eefed47b7ef",
   "metadata": {},
   "source": [
    "# **Temporary Notebook for some quick tests. Please ignore.**"
   ]
  },
  {
   "cell_type": "code",
   "execution_count": 1,
   "id": "b0276f45-0c87-4239-af0f-5b9a38886e76",
   "metadata": {},
   "outputs": [],
   "source": [
    "from cameo.strain_design.heuristic.evolutionary_based import CofactorSwapOptimization\n",
    "from cameo.strain_design.heuristic.evolutionary.objective_functions import product_yield\n",
    "\n",
    "from cameo.strain_design.heuristic.evolutionary.optimization import CofactorSwapOptimization, NADH_NADPH\n",
    "from cobra.io import read_sbml_model"
   ]
  },
  {
   "cell_type": "code",
   "execution_count": 2,
   "id": "84dfcff7-40cc-4684-b62b-3ff6aee83e36",
   "metadata": {},
   "outputs": [
    {
     "name": "stdout",
     "output_type": "stream",
     "text": [
      "Set parameter Username\n",
      "Academic license - for non-commercial use only - expires 2022-01-13\n"
     ]
    }
   ],
   "source": [
    "model = read_sbml_model('../models/Adjusted_models/iMT1026-v3_MalonicAcid.xml')\n",
    "model2 = read_sbml_model('TemporaryModel.xml')"
   ]
  },
  {
   "cell_type": "code",
   "execution_count": 3,
   "id": "77186aa6-a2a1-47b5-9ba7-a9dd19972320",
   "metadata": {},
   "outputs": [],
   "source": [
    "model.solver = \"glpk\""
   ]
  },
  {
   "cell_type": "code",
   "execution_count": 4,
   "id": "a646343f-0f38-4e01-bc4d-24bd39440494",
   "metadata": {},
   "outputs": [],
   "source": [
    "model2.reactions.Ex_biomass.lower_bound = 0.1"
   ]
  },
  {
   "cell_type": "code",
   "execution_count": 5,
   "id": "3c28eac1-570c-4ff1-9b22-992b4266cd17",
   "metadata": {},
   "outputs": [],
   "source": [
    "# Change carbon source to methanol\n",
    "medium = model2.medium\n",
    "medium['Ex_glyc'] = 0\n",
    "medium['Ex_meoh'] = 10\n",
    "model2.medium = medium"
   ]
  },
  {
   "cell_type": "code",
   "execution_count": 6,
   "id": "e4997fa0-96d8-4f0a-a064-5eb843d26390",
   "metadata": {
    "tags": []
   },
   "outputs": [],
   "source": [
    "# Annotations are not the same for these models, lets just roll with it though. Model 1 opitimizes for malonic acid production, model 2 optimizes for malonate export.\n",
    "demand = model2.reactions.Mals\n",
    "model2.objective = demand"
   ]
  },
  {
   "cell_type": "code",
   "execution_count": 7,
   "id": "1e88c914-6033-4d32-933d-1ef880a2c9e8",
   "metadata": {
    "tags": []
   },
   "outputs": [
    {
     "name": "stdout",
     "output_type": "stream",
     "text": [
      "Maximize\n",
      "1.0*Mals - 1.0*Mals_reverse_8e57e\n"
     ]
    }
   ],
   "source": [
    "print(model2.objective)"
   ]
  },
  {
   "cell_type": "code",
   "execution_count": 8,
   "id": "62b71525-b5c2-4758-b821-3f3759916c42",
   "metadata": {},
   "outputs": [],
   "source": [
    "product_yield = product_yield(model2.reactions.Mals, model2.reactions.Ex_meoh)"
   ]
  },
  {
   "cell_type": "code",
   "execution_count": 9,
   "id": "46f54c17-6f98-4289-a02b-ffa8cf4bb03f",
   "metadata": {
    "tags": []
   },
   "outputs": [
    {
     "data": {
      "text/html": [
       "\n",
       "        <table>\n",
       "            <tr>\n",
       "                <td><strong>Reaction identifier</strong></td><td>Mals</td>\n",
       "            </tr><tr>\n",
       "                <td><strong>Name</strong></td><td></td>\n",
       "            </tr><tr>\n",
       "                <td><strong>Memory address</strong></td>\n",
       "                <td>0x018f2956d610</td>\n",
       "            </tr><tr>\n",
       "                <td><strong>Stoichiometry</strong></td>\n",
       "                <td>\n",
       "                    <p style='text-align:right'>h2o_v + msa_c + nadp_c <=> 2.0 h_c + mln_c + nadph_c</p>\n",
       "                    <p style='text-align:right'>H2O + 3-Oxopropanoate + NADP <=> 2.0 H+ + Malonate + NADPH</p>\n",
       "                </td>\n",
       "            </tr><tr>\n",
       "                <td><strong>GPR</strong></td><td></td>\n",
       "            </tr><tr>\n",
       "                <td><strong>Lower bound</strong></td><td>-1000.0</td>\n",
       "            </tr><tr>\n",
       "                <td><strong>Upper bound</strong></td><td>1000.0</td>\n",
       "            </tr>\n",
       "        </table>\n",
       "        "
      ],
      "text/plain": [
       "<Reaction Mals at 0x18f2956d610>"
      ]
     },
     "execution_count": 9,
     "metadata": {},
     "output_type": "execute_result"
    }
   ],
   "source": [
    "model2.reactions.Mals"
   ]
  },
  {
   "cell_type": "code",
   "execution_count": 10,
   "id": "979f13bf-a203-464e-a271-a1ceeaaa88e2",
   "metadata": {},
   "outputs": [],
   "source": [
    "swap_opt = CofactorSwapOptimization(model=model2, objective_function=product_yield, plot=True, cofactor_id_swaps=(['nadp_c', 'nadph_c'], ['nad_c', 'nadh_c']))"
   ]
  },
  {
   "cell_type": "code",
   "execution_count": 11,
   "id": "9054e3e2-a0f0-48c5-afd2-8bc4a18cb457",
   "metadata": {},
   "outputs": [
    {
     "name": "stdout",
     "output_type": "stream",
     "text": [
      "Starting optimization at Thu, 18 Nov 2021 19:45:17\n"
     ]
    },
    {
     "data": {
      "application/vnd.jupyter.widget-view+json": {
       "model_id": "6943a45ea92545bd92a5d80b8dc7b800",
       "version_major": 2,
       "version_minor": 0
      },
      "text/plain": [
       "HBox()"
      ]
     },
     "metadata": {},
     "output_type": "display_data"
    },
    {
     "name": "stdout",
     "output_type": "stream",
     "text": [
      "Finished after 00:00:21\n",
      "Wall time: 41.4 s\n"
     ]
    }
   ],
   "source": [
    "%%time\n",
    "result = swap_opt.run(max_size=5)"
   ]
  },
  {
   "cell_type": "code",
   "execution_count": 12,
   "id": "838fca4a-1517-4aa4-ac4a-b08a8fba4865",
   "metadata": {},
   "outputs": [
    {
     "data": {
      "text/html": [
       "\n",
       "        <h4>Result:</h4>\n",
       "        <ul>\n",
       "            <li>model: iMT1026v3</li>\n",
       "            <li>heuristic: GA</li>\n",
       "            <li>objective function: $$yield = \\frac{Mals}{Ex\\_meoh}$$</li>\n",
       "            <li>simulation method: pfba</li>\n",
       "            <li>target type: cofactor-swap</li>\n",
       "        <ul>\n",
       "        <div>\n",
       "<style scoped>\n",
       "    .dataframe tbody tr th:only-of-type {\n",
       "        vertical-align: middle;\n",
       "    }\n",
       "\n",
       "    .dataframe tbody tr th {\n",
       "        vertical-align: top;\n",
       "    }\n",
       "\n",
       "    .dataframe thead th {\n",
       "        text-align: right;\n",
       "    }\n",
       "</style>\n",
       "<table border=\"1\" class=\"dataframe\">\n",
       "  <thead>\n",
       "    <tr style=\"text-align: right;\">\n",
       "      <th></th>\n",
       "      <th>index</th>\n",
       "      <th>targets</th>\n",
       "      <th>fitness</th>\n",
       "    </tr>\n",
       "  </thead>\n",
       "  <tbody>\n",
       "  </tbody>\n",
       "</table>\n",
       "</div>"
      ],
      "text/plain": [
       "<cameo.strain_design.heuristic.evolutionary.optimization.TargetOptimizationResult at 0x18f2a49a5b0>"
      ]
     },
     "execution_count": 12,
     "metadata": {},
     "output_type": "execute_result"
    }
   ],
   "source": [
    "result"
   ]
  },
  {
   "cell_type": "code",
   "execution_count": null,
   "id": "e363ffb7-3db5-4cc9-818b-765ce9be99ab",
   "metadata": {},
   "outputs": [],
   "source": []
  }
 ],
 "metadata": {
  "kernelspec": {
   "display_name": "Python 3 (ipykernel)",
   "language": "python",
   "name": "python3"
  },
  "language_info": {
   "codemirror_mode": {
    "name": "ipython",
    "version": 3
   },
   "file_extension": ".py",
   "mimetype": "text/x-python",
   "name": "python",
   "nbconvert_exporter": "python",
   "pygments_lexer": "ipython3",
   "version": "3.9.5"
  }
 },
 "nbformat": 4,
 "nbformat_minor": 5
}
