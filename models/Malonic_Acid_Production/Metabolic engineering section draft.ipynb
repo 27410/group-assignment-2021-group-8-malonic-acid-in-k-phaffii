{
 "cells": [
  {
   "cell_type": "markdown",
   "id": "33bd518e",
   "metadata": {},
   "source": [
    "1. Introduction, the model is imported and the different pathways discovered in literature is implemented (malolnyl-coa, beta-alanine, lactate and theoretically glycerol): Philipp"
   ]
  },
  {
   "cell_type": "markdown",
   "id": "c5af7178",
   "metadata": {},
   "source": [
    "2. Compare by making mass yield based phenotypic phase planes and discuss implementation: Philipp"
   ]
  },
  {
   "cell_type": "markdown",
   "id": "191fa0e6",
   "metadata": {},
   "source": [
    "3. Comparing other substrates to methanol and chosing aerobic fermentation (phenotypic phase plane): Philipp"
   ]
  },
  {
   "cell_type": "markdown",
   "id": "ba241a96",
   "metadata": {},
   "source": [
    "4. Discussing methanol assimilation pathway: Erik"
   ]
  },
  {
   "cell_type": "markdown",
   "id": "bb8cf40e",
   "metadata": {},
   "source": [
    "5. Improving aspartate flux: Erik \n",
    "- Using an alternative 3-oxopropanoate reaction (from borodina)\n",
    "- Increasing fumarate conversion\n",
    "- Introduce oaa to asp"
   ]
  },
  {
   "cell_type": "markdown",
   "id": "7bd9bb35",
   "metadata": {},
   "source": [
    "6. Optcouple? Abel\n",
    "- Maybe cofactor swapping and optswap: Erik"
   ]
  },
  {
   "cell_type": "code",
   "execution_count": null,
   "id": "7de8c36e",
   "metadata": {},
   "outputs": [],
   "source": []
  }
 ],
 "metadata": {
  "kernelspec": {
   "display_name": "Python 3",
   "language": "python",
   "name": "python3"
  },
  "language_info": {
   "codemirror_mode": {
    "name": "ipython",
    "version": 3
   },
   "file_extension": ".py",
   "mimetype": "text/x-python",
   "name": "python",
   "nbconvert_exporter": "python",
   "pygments_lexer": "ipython3",
   "version": "3.6.13"
  }
 },
 "nbformat": 4,
 "nbformat_minor": 5
}
