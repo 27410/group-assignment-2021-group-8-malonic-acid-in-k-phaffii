{
 "cells": [
  {
   "cell_type": "code",
   "execution_count": 2,
   "id": "ec507b48",
   "metadata": {},
   "outputs": [],
   "source": [
    "from cobra.io import read_sbml_model\n",
    "model = read_sbml_model('iMT1026-v4.xml')"
   ]
  },
  {
   "cell_type": "markdown",
   "id": "73a19571",
   "metadata": {},
   "source": [
    "***Beta alinine pathway***"
   ]
  },
  {
   "cell_type": "code",
   "execution_count": 3,
   "id": "d511c230",
   "metadata": {},
   "outputs": [],
   "source": [
    "from cobra import Reaction, Metabolite"
   ]
  },
  {
   "cell_type": "code",
   "execution_count": 16,
   "id": "943119d6",
   "metadata": {},
   "outputs": [],
   "source": [
    "path_selector = 3\n",
    "# 0 -> no additional reactions\n",
    "# 1 -> beta alanine pathway\n",
    "# 2 -> malonyl-CoA pathway\n",
    "# 3 -> lactate pathway\n",
    "path_name = ['no additional reactions','beta alanine pathway','malonyl-CoA pathway','lactate pathway']\n",
    "#set preffered groth rate\n",
    "factor_growth = 0.5"
   ]
  },
  {
   "cell_type": "code",
   "execution_count": 17,
   "id": "dec7a7ca",
   "metadata": {},
   "outputs": [
    {
     "ename": "NameError",
     "evalue": "name 'malonate_semialdehyde' is not defined",
     "output_type": "error",
     "traceback": [
      "\u001b[1;31m---------------------------------------------------------------------------\u001b[0m",
      "\u001b[1;31mNameError\u001b[0m                                 Traceback (most recent call last)",
      "\u001b[1;32m<ipython-input-17-1223a61a5ec2>\u001b[0m in \u001b[0;36m<module>\u001b[1;34m\u001b[0m\n\u001b[0;32m      9\u001b[0m \u001b[0mmalonic_acid_c\u001b[0m \u001b[1;33m=\u001b[0m \u001b[0mMetabolite\u001b[0m\u001b[1;33m(\u001b[0m\u001b[0mid\u001b[0m\u001b[1;33m=\u001b[0m\u001b[1;34m'malonic_acid_c'\u001b[0m\u001b[1;33m,\u001b[0m \u001b[0mcompartment\u001b[0m\u001b[1;33m=\u001b[0m\u001b[1;34m'c'\u001b[0m\u001b[1;33m)\u001b[0m\u001b[1;33m\u001b[0m\u001b[1;33m\u001b[0m\u001b[0m\n\u001b[0;32m     10\u001b[0m \u001b[1;33m\u001b[0m\u001b[0m\n\u001b[1;32m---> 11\u001b[1;33m mal_semal_dehydr.add_metabolites({malonate_semialdehyde: -1,\n\u001b[0m\u001b[0;32m     12\u001b[0m                                  \u001b[0mnadp_plus\u001b[0m\u001b[1;33m:\u001b[0m \u001b[1;33m-\u001b[0m\u001b[1;36m1\u001b[0m\u001b[1;33m,\u001b[0m\u001b[1;33m\u001b[0m\u001b[1;33m\u001b[0m\u001b[0m\n\u001b[0;32m     13\u001b[0m                                  \u001b[0mh2o\u001b[0m\u001b[1;33m:\u001b[0m \u001b[1;33m-\u001b[0m\u001b[1;36m1\u001b[0m\u001b[1;33m,\u001b[0m\u001b[1;33m\u001b[0m\u001b[1;33m\u001b[0m\u001b[0m\n",
      "\u001b[1;31mNameError\u001b[0m: name 'malonate_semialdehyde' is not defined"
     ]
    }
   ],
   "source": [
    "# malonate-semialdehyde dehydrogenase\n",
    "mal_semal_dehydr = Reaction('MSADH')\n",
    "mal_semal_dehydr.name = 'malonate-semialdehyde dehydrogenase'\n",
    "# 3-Oxopropanoate + NADP+ + H2O <=> Malonate + NADPH + H+\n",
    "nadp_plus = model.metabolites.nadp_c\n",
    "nadph = model.metabolites.nadph_c\n",
    "h2o = model.metabolites.h2o_c\n",
    "h = model.metabolites.h_c\n",
    "malonic_acid_c = Metabolite(id='malonic_acid_c', compartment='c')\n",
    "\n",
    "mal_semal_dehydr.add_metabolites({malonate_semialdehyde: -1,\n",
    "                                 nadp_plus: -1,\n",
    "                                 h2o: -1,\n",
    "                                 nadph: 1,\n",
    "                                 h: 1,\n",
    "                                 malonic_acid_c: 1})\n"
   ]
  },
  {
   "cell_type": "code",
   "execution_count": null,
   "id": "2a883389",
   "metadata": {},
   "outputs": [],
   "source": []
  }
 ],
 "metadata": {
  "kernelspec": {
   "display_name": "Python 3",
   "language": "python",
   "name": "python3"
  },
  "language_info": {
   "codemirror_mode": {
    "name": "ipython",
    "version": 3
   },
   "file_extension": ".py",
   "mimetype": "text/x-python",
   "name": "python",
   "nbconvert_exporter": "python",
   "pygments_lexer": "ipython3",
   "version": "3.6.13"
  }
 },
 "nbformat": 4,
 "nbformat_minor": 5
}
