{
 "cells": [
  {
   "cell_type": "code",
   "execution_count": 1,
   "id": "4029b1ec",
   "metadata": {},
   "outputs": [],
   "source": [
    "# Importing used packages and model\n",
    "from cobra.io import read_sbml_model\n",
    "from cobra import Reaction, Metabolite\n",
    "model = read_sbml_model('iMT1026-v4.xml')\n",
    "%run -i create_pathway.ipynb  # runs other script with included function to alter model"
   ]
  },
  {
   "cell_type": "code",
   "execution_count": 2,
   "id": "ba54fd48",
   "metadata": {},
   "outputs": [
    {
     "name": "stdout",
     "output_type": "stream",
     "text": [
      "Added beta alanine pathway\n"
     ]
    }
   ],
   "source": [
    "with model:\n",
    "    model2 = model.copy()\n",
    "    create_pathway(model2,1)"
   ]
  },
  {
   "cell_type": "code",
   "execution_count": 3,
   "id": "a5def441",
   "metadata": {},
   "outputs": [
    {
     "data": {
      "text/html": [
       "\n",
       "        <table>\n",
       "            <tr>\n",
       "                <td><strong>Reaction identifier</strong></td><td>MSADH</td>\n",
       "            </tr><tr>\n",
       "                <td><strong>Name</strong></td><td>malonate-semialdehyde dehydrogenase</td>\n",
       "            </tr><tr>\n",
       "                <td><strong>Memory address</strong></td>\n",
       "                <td>0x017d87ae15c0</td>\n",
       "            </tr><tr>\n",
       "                <td><strong>Stoichiometry</strong></td>\n",
       "                <td>\n",
       "                    <p style='text-align:right'>h2o_c + msa_c + nad_c --> h_c + mln_c + nadh_c</p>\n",
       "                    <p style='text-align:right'>H2O + 3-Oxopropanoate + NAD+ --> H+ + Malonic acid + NADH</p>\n",
       "                </td>\n",
       "            </tr><tr>\n",
       "                <td><strong>GPR</strong></td><td></td>\n",
       "            </tr><tr>\n",
       "                <td><strong>Lower bound</strong></td><td>0.0</td>\n",
       "            </tr><tr>\n",
       "                <td><strong>Upper bound</strong></td><td>1000.0</td>\n",
       "            </tr>\n",
       "        </table>\n",
       "        "
      ],
      "text/plain": [
       "<Reaction MSADH at 0x17d87ae15c0>"
      ]
     },
     "execution_count": 3,
     "metadata": {},
     "output_type": "execute_result"
    }
   ],
   "source": [
    "model2.reactions.MSADH"
   ]
  },
  {
   "cell_type": "code",
   "execution_count": 4,
   "id": "da04caf4",
   "metadata": {},
   "outputs": [],
   "source": [
    "# Realistic methanol uptake rates cf.Tomàs‐Gamisans 2018\n",
    "medium = model2.medium\n",
    "medium['Ex_meoh'] = 6\n",
    "medium['Ex_glyc'] = 0\n",
    "model2.medium = medium\n",
    "model2.objective = model2.reactions.Ex_mln\n",
    "solution = model2.optimize()"
   ]
  },
  {
   "cell_type": "markdown",
   "id": "46143d30",
   "metadata": {},
   "source": [
    "***Knockout other msa consuming reaction***"
   ]
  },
  {
   "cell_type": "code",
   "execution_count": 5,
   "id": "4baa7a42",
   "metadata": {},
   "outputs": [
    {
     "name": "stdout",
     "output_type": "stream",
     "text": [
      "msa_c\n",
      "=====\n",
      "Formula: C3H3O3\n",
      "\n",
      "Producing Reactions\n",
      "-------------------\n",
      "Percent  Flux           Range Reaction                           Definition\n",
      "100.00% 1.173  [1.145; 1.173]   APAT2r  akg_c + ala_B_c --> glu_L_c + msa_c\n",
      "\n",
      "Consuming Reactions\n",
      "-------------------\n",
      "Percent     Flux             Range Reaction                                          Definition\n",
      "  2.36% -0.02768     [-0.02768; 0]   MMSAD3  coa_c + msa_c + nad_c --> accoa_c + co2_c + nadh_c\n",
      " 97.64%   -1.145  [-1.145; -1.145]    MSADH      h2o_c + msa_c + nad_c --> h_c + mln_c + nadh_c\n"
     ]
    }
   ],
   "source": [
    "#Fva of malonic-semialdehyde at 50% growth\n",
    "from cobra.flux_analysis import flux_variability_analysis\n",
    "with model2:\n",
    "    \n",
    "    model2.objective = model.reactions.Ex_biomass \n",
    "    specified_growth_rate = 0.5*model2.optimize().objective_value\n",
    "\n",
    "\n",
    "    constrained_growth = model2.problem.Constraint(\n",
    "        model2.reactions.get_by_id('Ex_biomass').flux_expression,\n",
    "        lb=specified_growth_rate,\n",
    "        ub=specified_growth_rate)\n",
    "    model2.add_cons_vars(constrained_growth)\n",
    "    \n",
    "    model2.objective = model2.reactions.Ex_mln\n",
    "    solution = model2.optimize()\n",
    "    print(model2.metabolites.msa_c.summary(fva=1.0))"
   ]
  },
  {
   "cell_type": "code",
   "execution_count": 6,
   "id": "d18986c4",
   "metadata": {},
   "outputs": [
    {
     "data": {
      "text/html": [
       "\n",
       "        <table>\n",
       "            <tr>\n",
       "                <td><strong>Reaction identifier</strong></td><td>MMSAD3</td>\n",
       "            </tr><tr>\n",
       "                <td><strong>Name</strong></td><td>methylmalonate-semialdehyde dehydrogenase (malonic semialdehyde)</td>\n",
       "            </tr><tr>\n",
       "                <td><strong>Memory address</strong></td>\n",
       "                <td>0x017d876a0cf8</td>\n",
       "            </tr><tr>\n",
       "                <td><strong>Stoichiometry</strong></td>\n",
       "                <td>\n",
       "                    <p style='text-align:right'>coa_c + msa_c + nad_c --> accoa_c + co2_c + nadh_c</p>\n",
       "                    <p style='text-align:right'>CoA + 3-Oxopropanoate + NAD+ --> Acetyl-CoA + CO2 + NADH</p>\n",
       "                </td>\n",
       "            </tr><tr>\n",
       "                <td><strong>GPR</strong></td><td></td>\n",
       "            </tr><tr>\n",
       "                <td><strong>Lower bound</strong></td><td>0.0</td>\n",
       "            </tr><tr>\n",
       "                <td><strong>Upper bound</strong></td><td>1000.0</td>\n",
       "            </tr>\n",
       "        </table>\n",
       "        "
      ],
      "text/plain": [
       "<Reaction MMSAD3 at 0x17d876a0cf8>"
      ]
     },
     "execution_count": 6,
     "metadata": {},
     "output_type": "execute_result"
    }
   ],
   "source": [
    "model2.reactions.MMSAD3"
   ]
  },
  {
   "cell_type": "code",
   "execution_count": 7,
   "id": "d6408bde",
   "metadata": {},
   "outputs": [
    {
     "data": {
      "text/plain": [
       "<AxesSubplot:xlabel='Ex_biomass'>"
      ]
     },
     "execution_count": 7,
     "metadata": {},
     "output_type": "execute_result"
    },
    {
     "data": {
      "image/png": "[encoded data removed]",
      "text/plain": [
       "<Figure size 432x288 with 1 Axes>"
      ]
     },
     "metadata": {
      "needs_background": "light"
     },
     "output_type": "display_data"
    }
   ],
   "source": [
    "# Knockout MMSAD3 to discover influence on phenotypic phase plane\n",
    "model2.reactions.MMSAD3.upper_bound=0\n",
    "from cobra.flux_analysis.phenotype_phase_plane import production_envelope\n",
    "prod_env = production_envelope(model2, [\"Ex_biomass\"], objective=\"Ex_mln\", carbon_sources=\"Ex_meoh\")\n",
    "prod_env.plot(x='Ex_biomass',y='flux_maximum')"
   ]
  },
  {
   "cell_type": "markdown",
   "id": "7a92143b",
   "metadata": {},
   "source": [
    "***Adding another msa-producing reaction***"
   ]
  },
  {
   "cell_type": "code",
   "execution_count": 10,
   "id": "43d3cd07",
   "metadata": {},
   "outputs": [],
   "source": [
    "# β-alanine-pyruvate aminotransferase from B. cerus\n",
    "new_reaction = Reaction('BABAT')\n",
    "new_reaction.add_metabolites({model2.metabolites.pyr_c: -1,\n",
    "                              model2.metabolites.ala_B_c: -1,\n",
    "                              model2.metabolites.ala_L_c: 1,\n",
    "                              model2.metabolites.msa_c: 1,\n",
    "                             })\n",
    "model2.add_reactions([new_reaction])"
   ]
  },
  {
   "cell_type": "code",
   "execution_count": 11,
   "id": "4ed55812",
   "metadata": {},
   "outputs": [
    {
     "data": {
      "text/html": [
       "\n",
       "        <table>\n",
       "            <tr>\n",
       "                <td><strong>Reaction identifier</strong></td><td>BABAT</td>\n",
       "            </tr><tr>\n",
       "                <td><strong>Name</strong></td><td></td>\n",
       "            </tr><tr>\n",
       "                <td><strong>Memory address</strong></td>\n",
       "                <td>0x017d8a258828</td>\n",
       "            </tr><tr>\n",
       "                <td><strong>Stoichiometry</strong></td>\n",
       "                <td>\n",
       "                    <p style='text-align:right'>ala_B_c + pyr_c --> ala_L_c + msa_c</p>\n",
       "                    <p style='text-align:right'>beta-Alanine + Pyruvate --> L-Alanine + 3-Oxopropanoate</p>\n",
       "                </td>\n",
       "            </tr><tr>\n",
       "                <td><strong>GPR</strong></td><td></td>\n",
       "            </tr><tr>\n",
       "                <td><strong>Lower bound</strong></td><td>0.0</td>\n",
       "            </tr><tr>\n",
       "                <td><strong>Upper bound</strong></td><td>1000.0</td>\n",
       "            </tr>\n",
       "        </table>\n",
       "        "
      ],
      "text/plain": [
       "<Reaction BABAT at 0x17d8a258828>"
      ]
     },
     "execution_count": 11,
     "metadata": {},
     "output_type": "execute_result"
    }
   ],
   "source": [
    "model2.reactions.BABAT"
   ]
  },
  {
   "cell_type": "code",
   "execution_count": 12,
   "id": "3e0f46d4",
   "metadata": {},
   "outputs": [
    {
     "data": {
      "text/plain": [
       "<AxesSubplot:xlabel='Ex_biomass'>"
      ]
     },
     "execution_count": 12,
     "metadata": {},
     "output_type": "execute_result"
    },
    {
     "data": {
      "image/png": "[encoded data removed]",
      "text/plain": [
       "<Figure size 432x288 with 1 Axes>"
      ]
     },
     "metadata": {
      "needs_background": "light"
     },
     "output_type": "display_data"
    }
   ],
   "source": [
    "prod_env2 = production_envelope(model2, [\"Ex_biomass\"], objective=\"Ex_mln\", carbon_sources=\"Ex_meoh\")\n",
    "prod_env2.plot(x='Ex_biomass',y='flux_maximum')"
   ]
  },
  {
   "cell_type": "code",
   "execution_count": 13,
   "id": "931a1b51",
   "metadata": {},
   "outputs": [
    {
     "name": "stdout",
     "output_type": "stream",
     "text": [
      "msa_c\n",
      "=====\n",
      "Formula: C3H3O3\n",
      "\n",
      "Producing Reactions\n",
      "-------------------\n",
      "Percent    Flux       Range Reaction                           Definition\n",
      " 96.86%   1.109  [0; 1.145]   APAT2r  akg_c + ala_B_c --> glu_L_c + msa_c\n",
      "  3.14% 0.03597  [0; 1.145]    BABAT  ala_B_c + pyr_c --> ala_L_c + msa_c\n",
      "\n",
      "Consuming Reactions\n",
      "-------------------\n",
      "Percent   Flux             Range Reaction                                      Definition\n",
      "100.00% -1.145  [-1.145; -1.145]    MSADH  h2o_c + msa_c + nad_c --> h_c + mln_c + nadh_c\n"
     ]
    }
   ],
   "source": [
    "#Fva of malonic-semialdehyde at 50% growth\n",
    "with model2:\n",
    "    \n",
    "    model2.objective = model.reactions.Ex_biomass \n",
    "    specified_growth_rate = 0.5*model2.optimize().objective_value\n",
    "\n",
    "\n",
    "    constrained_growth = model2.problem.Constraint(\n",
    "        model2.reactions.get_by_id('Ex_biomass').flux_expression,\n",
    "        lb=specified_growth_rate,\n",
    "        ub=specified_growth_rate)\n",
    "    model2.add_cons_vars(constrained_growth)\n",
    "  \n",
    "    \n",
    "    model2.objective = model2.reactions.Ex_mln\n",
    "    solution = model2.optimize()\n",
    "    print(model2.metabolites.msa_c.summary(fva=1.0))"
   ]
  },
  {
   "cell_type": "markdown",
   "id": "abdb2d58",
   "metadata": {},
   "source": []
  }
 ],
 "metadata": {
  "kernelspec": {
   "display_name": "Python 3",
   "language": "python",
   "name": "python3"
  },
  "language_info": {
   "codemirror_mode": {
    "name": "ipython",
    "version": 3
   },
   "file_extension": ".py",
   "mimetype": "text/x-python",
   "name": "python",
   "nbconvert_exporter": "python",
   "pygments_lexer": "ipython3",
   "version": "3.6.13"
  }
 },
 "nbformat": 4,
 "nbformat_minor": 5
}
