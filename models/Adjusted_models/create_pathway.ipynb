{
 "cells": [
  {
   "cell_type": "markdown",
   "id": "4a3a2ae0",
   "metadata": {},
   "source": [
    "# Compact pathway creator function\n",
    "Defines all pathways and returns a model with the selected pathway added.  \n",
    "The function can be called alone or get assigned to a new variable, but it always alters the handed model. In order to not touch manipulate the existing model work within _with model:_ or create a copy of your model with _model.copy()_ before handing that copy to this function.   \n",
    "### Function\n",
    "**create_pathway**(_model,path_selector_)  \n",
    "\n",
    "model ... needs to be handed a model, since it doesnt import it itself to save time when function if called multiple times  \n",
    "path_selector ... determines which path is added  \n",
    "### Pathway legend\n",
    "0 -> no additional reactions  \n",
    "1 -> beta alanine pathway  \n",
    "2 -> malonyl-CoA pathway  \n",
    "3 -> lactate pathway  "
   ]
  },
  {
   "cell_type": "code",
   "execution_count": 2,
   "id": "d6a23f24",
   "metadata": {},
   "outputs": [],
   "source": [
    "path_name = ['no additional reactions','beta alanine pathway','malonyl-CoA pathway','lactate pathway']"
   ]
  },
  {
   "cell_type": "markdown",
   "id": "0dc57455",
   "metadata": {},
   "source": [
    "### Beta alanine pathway"
   ]
  },
  {
   "cell_type": "code",
   "execution_count": 3,
   "id": "2a237ded",
   "metadata": {},
   "outputs": [],
   "source": [
    "# malonate-semialdehyde dehydrogenase\n",
    "mal_semal_dehydr = Reaction('MSADH')\n",
    "mal_semal_dehydr.name = 'malonate-semialdehyde dehydrogenase'\n",
    "# 3-Oxopropanoate + NADP+ + H2O <=> Malonate + NADPH + H+\n",
    "malonic_acid_c = Metabolite(id='mln_c', compartment='c')\n",
    "malonic_acid_c.name = 'Malonic acid'\n",
    "malonic_acid_c.formula = 'C3H2O4'\n",
    "\n",
    "mal_semal_dehydr.add_metabolites({model.metabolites.msa_c: -1,  # = 3-oxopropanoate\n",
    "                                 model.metabolites.nadp_c: -1,\n",
    "                                 model.metabolites.h2o_c: -1,\n",
    "                                 model.metabolites.nadph_c: 1,\n",
    "                                 model.metabolites.h_c: 1,\n",
    "                                 malonic_acid_c: 1})"
   ]
  },
  {
   "cell_type": "code",
   "execution_count": 4,
   "id": "ad9e3a0c",
   "metadata": {},
   "outputs": [],
   "source": [
    "# Set up pathway\n",
    "beta_al_path = [mal_semal_dehydr]"
   ]
  },
  {
   "cell_type": "markdown",
   "id": "ba5bc53d",
   "metadata": {},
   "source": [
    "### Malonyl-CoA route"
   ]
  },
  {
   "cell_type": "code",
   "execution_count": 5,
   "id": "245f4263",
   "metadata": {},
   "outputs": [],
   "source": [
    "# 3-oxopropanoate:NADP+ oxidoreductase (CoA-malonylating)\n",
    "malcoa_red = Reaction('MCOARED')\n",
    "malcoa_red.name = '3-oxopropanoate:NADP+ oxidoreductase (CoA-malonylating)'\n",
    "# 3-Oxopropanoate + CoA + NADP+ <=> Malonyl-CoA + NADPH + H+\n",
    "\n",
    "malcoa_red.add_metabolites({model.metabolites.msa_c: 1,\n",
    "                                 model.metabolites.nadp_c: 1,\n",
    "                                 model.metabolites.coa_c: 1,\n",
    "                                 model.metabolites.malcoa_c: -1,\n",
    "                                 model.metabolites.nadph_c: -1,\n",
    "                                 model.metabolites.h_c: -1})"
   ]
  },
  {
   "cell_type": "code",
   "execution_count": 6,
   "id": "28039a2c",
   "metadata": {},
   "outputs": [],
   "source": [
    "# set up pathway\n",
    "malcoa_path = [malcoa_red, mal_semal_dehydr]"
   ]
  },
  {
   "cell_type": "markdown",
   "id": "a2af9534",
   "metadata": {},
   "source": [
    "### Lactate route\n",
    "Through transferase onto CoenzymA and then hydratase steps up to 3Hydroxypropyionyl-CoA. Here either a further reaction to OxopropionylCoA and then to Malonyl-CoA would be possible or the dissiciation to 3HP and CoA, where 3HP will be transformed to malonate semialdehyde and finally to malonic acid. Here the later is shown and examined."
   ]
  },
  {
   "cell_type": "code",
   "execution_count": 7,
   "id": "01a715ad",
   "metadata": {},
   "outputs": [],
   "source": [
    "# propionate CoA-transferase\n",
    "propCoA_trans = Reaction('PRCOATR')\n",
    "propCoA_trans.name = 'Propionate CoA-transferase'\n",
    "# (S)-Lactate + Acetyl-CoA <=> Lactoyl-CoA + Acetate\n",
    "lacCoA = Metabolite(id='lact_coa', compartment='c')\n",
    "lacCoA.name = 'Lactoyl-CoA'\n",
    "lacCoA.formula = 'C24H40N7O18P3S'\n",
    "\n",
    "propCoA_trans.add_metabolites({model.metabolites.lac_L_c: -1,\n",
    "                                 model.metabolites.accoa_c: -1,\n",
    "                                 lacCoA: 1,\n",
    "                                 model.metabolites.ac_c: 1})"
   ]
  },
  {
   "cell_type": "code",
   "execution_count": 8,
   "id": "594ce347",
   "metadata": {},
   "outputs": [],
   "source": [
    "# Lactoyl-CoA hydrolyase\n",
    "lacCoA_hyd = Reaction('LACOAHYD')\n",
    "lacCoA_hyd.name = 'Lactoyl-CoA hydrolyase'\n",
    "# Lactoyl-CoA <=> Propenoyl-CoA (Acrylyl-CoA) + H2O\n",
    "propCoA = Metabolite(id='prop_coa', compartment='c')\n",
    "propCoA.name = 'Propenoyl-CoA'\n",
    "propCoA.formula = 'C24H38N7O17P3S'\n",
    "\n",
    "lacCoA_hyd.add_metabolites({lacCoA: -1,\n",
    "                                 propCoA: 1,\n",
    "                                 model.metabolites.h2o_c: 1})"
   ]
  },
  {
   "cell_type": "code",
   "execution_count": 9,
   "id": "a304087f",
   "metadata": {},
   "outputs": [],
   "source": [
    "# 3-Hydroxypropionyl-CoA hydrolyase\n",
    "hydpropCoA_hyd = Reaction('3HPCOAHYD')\n",
    "hydpropCoA_hyd.name = '3-Hydroxypropionyl-CoA hydrolyase'\n",
    "# Propenoyl-CoA + H2O <=> 3-Hydroxypropionyl-CoA\n",
    "hydpropCoA = Metabolite(id='hydprop_coa', compartment='c')\n",
    "hydpropCoA.name = '3-Hydroxypropionyl-CoA'\n",
    "hydpropCoA.formula = 'C24H40N7O18P3S'\n",
    "\n",
    "hydpropCoA_hyd.add_metabolites({propCoA: -1,\n",
    "                                 model.metabolites.h2o_c: -1,\n",
    "                                 hydpropCoA: 1})"
   ]
  },
  {
   "cell_type": "code",
   "execution_count": 10,
   "id": "68bfd791",
   "metadata": {},
   "outputs": [],
   "source": [
    "# Dissosication\n",
    "hydpropCoA_dis = Reaction('3HPCOADIS')\n",
    "hydpropCoA_dis.name = '3-Hydroxypropionyl-CoA Dissociation (not systematic)'\n",
    "# 3-Hydroxypropionyl-CoA + H2O <=> 3-Hydroxypropanoate + CoA\n",
    "hydprop = Metabolite(id='hydprop', compartment='c')\n",
    "hydprop.name = '3-Hydroxypropanoate'\n",
    "hydprop.formula = 'C3H6O3'\n",
    "\n",
    "hydpropCoA_dis.add_metabolites({hydpropCoA: -1,\n",
    "                                 model.metabolites.h2o_c: -1,\n",
    "                                 hydprop: 1,\n",
    "                                 model.metabolites.coa_c: 1})"
   ]
  },
  {
   "cell_type": "code",
   "execution_count": 11,
   "id": "09ed4671",
   "metadata": {},
   "outputs": [],
   "source": [
    "# 3-hydroxypropanoate:NAD+ oxidoreductase\n",
    "hydprop_red = Reaction('3HPRED')\n",
    "hydprop_red.name = '3-hydroxypropanoate:NAD+ oxidoreductase'\n",
    "# 3-Hydroxypropanoate + NAD+ <=> 3-Oxopropanoate + NADH + H+\n",
    "\n",
    "hydprop_red.add_metabolites({hydprop: -1,\n",
    "                                 model.metabolites.nad_c: -1,\n",
    "                                 model.metabolites.msa_c: 1,\n",
    "                                 model.metabolites.nadh_c: 1,\n",
    "                                 model.metabolites.h_c: 1})"
   ]
  },
  {
   "cell_type": "code",
   "execution_count": 12,
   "id": "96813681",
   "metadata": {},
   "outputs": [],
   "source": [
    "lactate_path = [propCoA_trans, lacCoA_hyd, hydpropCoA_hyd, hydpropCoA_dis, hydprop_red, mal_semal_dehydr]"
   ]
  },
  {
   "cell_type": "markdown",
   "id": "1aaaac41",
   "metadata": {},
   "source": [
    "### Transport reactions for malonic acid"
   ]
  },
  {
   "cell_type": "code",
   "execution_count": 13,
   "id": "3c7d9cf0",
   "metadata": {},
   "outputs": [],
   "source": [
    "# Transport reaction cytosol -> extracellular\n",
    "mac_ctoe = Reaction('mac_c-e')\n",
    "mac_ctoe.name = 'Malonic acid trans c -> e'\n",
    "malonic_acid_e = Metabolite(id='mln_e', compartment='e')\n",
    "malonic_acid_e.name = 'Malonic acid'\n",
    "malonic_acid_e.formula = 'C3H2O4'\n",
    "mac_ctoe.add_metabolites({malonic_acid_c: -1,\n",
    "                           malonic_acid_e: 1})\n",
    "# Removal reaction\n",
    "EX_mac = Reaction('EX_mac_e')\n",
    "EX_mac.name = 'Malonic acid ex/inport'\n",
    "EX_mac.add_metabolites({malonic_acid_e: -1})\n",
    "\n",
    "# set up transport path\n",
    "transport = [mac_ctoe, EX_mac]\n",
    "#model.add_boundary(model.metabolites.malonic_acid_c, type='demand')"
   ]
  },
  {
   "cell_type": "markdown",
   "id": "a0599eb9",
   "metadata": {},
   "source": [
    "### Adding selected pathway to model"
   ]
  },
  {
   "cell_type": "code",
   "execution_count": 14,
   "id": "d03e415c",
   "metadata": {},
   "outputs": [],
   "source": [
    "pathways = [[],beta_al_path,malcoa_path,lactate_path]"
   ]
  },
  {
   "cell_type": "code",
   "execution_count": null,
   "id": "7593111f",
   "metadata": {},
   "outputs": [],
   "source": [
    "def create_pathway(model, path_selector=0):\n",
    "    model.add_reactions(pathways[path_selector])\n",
    "    model.add_reactions(transport)\n",
    "    if path_selector == 3:\n",
    "        model.reactions.APAT2r.upper_bound = 0\n",
    "        model.reactions.L_LACD2cm.upper_bound = 0\n",
    "    print('Added', path_name[path_selector])\n",
    "    return model"
   ]
  }
 ],
 "metadata": {
  "kernelspec": {
   "display_name": "Python 3",
   "language": "python",
   "name": "python3"
  },
  "language_info": {
   "codemirror_mode": {
    "name": "ipython",
    "version": 3
   },
   "file_extension": ".py",
   "mimetype": "text/x-python",
   "name": "python",
   "nbconvert_exporter": "python",
   "pygments_lexer": "ipython3",
   "version": "3.6.13"
  }
 },
 "nbformat": 4,
 "nbformat_minor": 5
}
