{
 "cells": [
  {
   "cell_type": "markdown",
   "metadata": {},
   "source": [
    "***Exploring the iMT1026 and comparing with carveme and Kbase models***"
   ]
  },
  {
   "cell_type": "code",
   "execution_count": 1,
   "metadata": {},
   "outputs": [],
   "source": [
    "from cobra.io import read_sbml_model\n",
    "model = read_sbml_model('../src/models/gen/iMT1026-v3.1.xml')"
   ]
  },
  {
   "cell_type": "code",
   "execution_count": 2,
   "metadata": {},
   "outputs": [
    {
     "name": "stdout",
     "output_type": "stream",
     "text": [
      "0.058662013203856875\n"
     ]
    }
   ],
   "source": [
    "with model:\n",
    "    model.objective = model.reactions.Ex_biomass\n",
    "    print(model.optimize().objective_value)"
   ]
  },
  {
   "cell_type": "code",
   "execution_count": 3,
   "metadata": {},
   "outputs": [
    {
     "data": {
      "text/plain": [
       "{'v': 'Vacuole',\n",
       " 'c': 'Cytosol',\n",
       " 'm': 'Mitochondria',\n",
       " 'x': 'Peroxisome',\n",
       " 'e': 'Extracellular space',\n",
       " 'r': 'Endoplasmic Reticulum',\n",
       " 'g': 'Golgi Apparatus',\n",
       " 'n': 'Nucleus',\n",
       " 'i': 'Mitochondrial intermembrane space'}"
      ]
     },
     "execution_count": 3,
     "metadata": {},
     "output_type": "execute_result"
    }
   ],
   "source": [
    "model.compartments"
   ]
  },
  {
   "cell_type": "code",
   "execution_count": 4,
   "metadata": {},
   "outputs": [
    {
     "data": {
      "text/plain": [
       "{'Ex_h2o': 1000.0,\n",
       " 'Ex_nh4': 1000.0,\n",
       " 'Ex_pi': 1000.0,\n",
       " 'Ex_h': 1000.0,\n",
       " 'Ex_o2': 1000.0,\n",
       " 'Ex_so4': 1000.0,\n",
       " 'Ex_glyc': 1.0,\n",
       " 'Ex_fe2': 1000.0,\n",
       " 'Ex_btn': 4e-05,\n",
       " 'Ex_k': 1000.0}"
      ]
     },
     "execution_count": 4,
     "metadata": {},
     "output_type": "execute_result"
    }
   ],
   "source": [
    "model.medium"
   ]
  },
  {
   "cell_type": "code",
   "execution_count": 5,
   "metadata": {},
   "outputs": [
    {
     "data": {
      "text/plain": [
       "[<Metabolite btn_c at 0x19bd800e438>,\n",
       " <Metabolite btn_cbxl_c at 0x19bd80c3eb8>,\n",
       " <Metabolite btn_e at 0x19bd814ac88>]"
      ]
     },
     "execution_count": 5,
     "metadata": {},
     "output_type": "execute_result"
    }
   ],
   "source": [
    "# It only has glycerin to grow on as a carbon source. Check what btn is\n",
    "model.metabolites.query(\"btn\",\"id\")"
   ]
  },
  {
   "cell_type": "code",
   "execution_count": 6,
   "metadata": {},
   "outputs": [
    {
     "data": {
      "text/plain": [
       "[<Reaction Ex_h2o at 0x19bd905e4e0>,\n",
       " <Reaction Ex_tre at 0x19bd905e828>,\n",
       " <Reaction Ex_glc_D at 0x19bd905ef98>,\n",
       " <Reaction Ex_asn_L at 0x19bd905ebe0>,\n",
       " <Reaction Ex_nh4 at 0x19bd906f0f0>,\n",
       " <Reaction Ex_asp_L at 0x19bd906f160>,\n",
       " <Reaction Ex_fmn at 0x19bd906f240>,\n",
       " <Reaction Ex_pi at 0x19bd906f198>,\n",
       " <Reaction Ex_ribflv at 0x19bd906f2e8>,\n",
       " <Reaction Ex_thmpp at 0x19bd906f2b0>,\n",
       " <Reaction Ex_h at 0x19bd906f400>,\n",
       " <Reaction Ex_thm at 0x19bd906f470>,\n",
       " <Reaction Ex_pc_SC at 0x19bd906f320>,\n",
       " <Reaction Ex_faR at 0x19bd906f518>,\n",
       " <Reaction Ex_1agpc_SC at 0x19bd906f630>,\n",
       " <Reaction Ex_epistest_SC at 0x19bd906f6d8>,\n",
       " <Reaction Ex_epist at 0x19bd906f6a0>,\n",
       " <Reaction Ex_ergstest_SC at 0x19bd906f7f0>,\n",
       " <Reaction Ex_ergst at 0x19bd906f748>,\n",
       " <Reaction Ex_fecostest_SC at 0x19bd906f710>,\n",
       " <Reaction Ex_fecost at 0x19bd906f860>,\n",
       " <Reaction Ex_lanostest_SC at 0x19bd906f898>,\n",
       " <Reaction Ex_lanost at 0x19bd906f978>,\n",
       " <Reaction Ex_zymstest_SC at 0x19bd906f8d0>,\n",
       " <Reaction Ex_zymst at 0x19bd906fa20>,\n",
       " <Reaction Ex_thmmp at 0x19bd906f9b0>,\n",
       " <Reaction Ex_chitin at 0x19bd906fac8>,\n",
       " <Reaction Ex_chitos at 0x19bd906fb38>,\n",
       " <Reaction Ex_ac at 0x19bd906fbe0>,\n",
       " <Reaction Ex_g3pc at 0x19bd906fcf8>,\n",
       " <Reaction Ex_13BDglcn at 0x19bd906fcc0>,\n",
       " <Reaction Ex_ptd1ino_SC at 0x19bd906fe10>,\n",
       " <Reaction Ex_g3pi at 0x19bd906ff60>,\n",
       " <Reaction Ex_alltn at 0x19bd906fe48>,\n",
       " <Reaction Ex_o2 at 0x19bd906feb8>,\n",
       " <Reaction Ex_so4 at 0x19bd9084128>,\n",
       " <Reaction Ex_no3 at 0x19bd9084198>,\n",
       " <Reaction Ex_s at 0x19bd90840b8>,\n",
       " <Reaction Ex_ocdcea at 0x19bd9084240>,\n",
       " <Reaction Ex_glyc at 0x19bd90842b0>,\n",
       " <Reaction Ex_sbt_D at 0x19bd9084390>,\n",
       " <Reaction Ex_mnl at 0x19bd9084400>,\n",
       " <Reaction Ex_fe2 at 0x19bd9084550>,\n",
       " <Reaction Ex_co2 at 0x19bd90845c0>,\n",
       " <Reaction Ex_lac_D at 0x19bd90844e0>,\n",
       " <Reaction Ex_etoh at 0x19bd9084630>,\n",
       " <Reaction Ex_meoh at 0x19bd90846d8>,\n",
       " <Reaction Ex_for at 0x19bd9084828>,\n",
       " <Reaction Ex_pyr at 0x19bd90848d0>,\n",
       " <Reaction Ex_2hb at 0x19bd9084978>,\n",
       " <Reaction Ex_2mbac at 0x19bd9084898>,\n",
       " <Reaction Ex_2mbald at 0x19bd9084a20>,\n",
       " <Reaction Ex_2mbtoh at 0x19bd9084ac8>,\n",
       " <Reaction Ex_2mppal at 0x19bd9084b70>,\n",
       " <Reaction Ex_2phetoh at 0x19bd9084b38>,\n",
       " <Reaction Ex_3c3hmp at 0x19bd9084a90>,\n",
       " <Reaction Ex_3mbald at 0x19bd9084be0>,\n",
       " <Reaction Ex_3mop at 0x19bd9084d68>,\n",
       " <Reaction Ex_4abz at 0x19bd9084dd8>,\n",
       " <Reaction Ex_5aop at 0x19bd9084e48>,\n",
       " <Reaction Ex_8aonn at 0x19bd9084e80>,\n",
       " <Reaction Ex_abt at 0x19bd9084fd0>,\n",
       " <Reaction Ex_4abut at 0x19bd9084eb8>,\n",
       " <Reaction Ex_acald at 0x19bd9084f98>,\n",
       " <Reaction Ex_aces at 0x19bd90950f0>,\n",
       " <Reaction Ex_ACP at 0x19bd9095240>,\n",
       " <Reaction Ex_ade at 0x19bd90952b0>,\n",
       " <Reaction Ex_adn at 0x19bd9095358>,\n",
       " <Reaction Ex_mal_L at 0x19bd9095278>,\n",
       " <Reaction Ex_akg at 0x19bd90953c8>,\n",
       " <Reaction Ex_ala_D at 0x19bd90954a8>,\n",
       " <Reaction Ex_ala_L at 0x19bd9095550>,\n",
       " <Reaction Ex_alltt at 0x19bd9095518>,\n",
       " <Reaction Ex_amet at 0x19bd90956d8>,\n",
       " <Reaction Ex_arab_D at 0x19bd9095630>,\n",
       " <Reaction Ex_arab_L at 0x19bd90956a0>,\n",
       " <Reaction Ex_arg_L at 0x19bd9095710>,\n",
       " <Reaction Ex_btd_RR at 0x19bd9095780>,\n",
       " <Reaction Ex_btn at 0x19bd9095908>,\n",
       " <Reaction Ex_chol at 0x19bd90959b0>,\n",
       " <Reaction Ex_cit at 0x19bd9095940>,\n",
       " <Reaction Ex_crn at 0x19bd9095ac8>,\n",
       " <Reaction Ex_csn at 0x19bd9095b70>,\n",
       " <Reaction Ex_cys_L at 0x19bd9095a58>,\n",
       " <Reaction Ex_cytd at 0x19bd9095be0>,\n",
       " <Reaction Ex_dad_2 at 0x19bd9095cc0>,\n",
       " <Reaction Ex_dann at 0x19bd9095dd8>,\n",
       " <Reaction Ex_dcyt at 0x19bd9095e80>,\n",
       " <Reaction Ex_dgsn at 0x19bd9095ef0>,\n",
       " <Reaction Ex_din at 0x19bd9095f98>,\n",
       " <Reaction Ex_dttp at 0x19bd90a5080>,\n",
       " <Reaction Ex_duri at 0x19bd90a5128>,\n",
       " <Reaction Ex_etha at 0x19bd90a50f0>,\n",
       " <Reaction Ex_fru at 0x19bd90a5278>,\n",
       " <Reaction Ex_fum at 0x19bd90a5320>,\n",
       " <Reaction Ex_gal at 0x19bd90a53c8>,\n",
       " <Reaction Ex_gam6p at 0x19bd90a52e8>,\n",
       " <Reaction Ex_gcald at 0x19bd90a5470>,\n",
       " <Reaction Ex_gln_L at 0x19bd90a5518>,\n",
       " <Reaction Ex_glu_L at 0x19bd90a55c0>,\n",
       " <Reaction Ex_glx at 0x19bd90a56a0>,\n",
       " <Reaction Ex_gly at 0x19bd90a5710>,\n",
       " <Reaction Ex_biomass at 0x19bd90a5668>,\n",
       " <Reaction Ex_gsn at 0x19bd90a5748>,\n",
       " <Reaction Ex_gthox at 0x19bd90a5828>,\n",
       " <Reaction Ex_gthrd at 0x19bd90a58d0>,\n",
       " <Reaction Ex_gua at 0x19bd90a59e8>,\n",
       " <Reaction Ex_hdca at 0x19bd90a5a58>,\n",
       " <Reaction Ex_hdcea at 0x19bd90a5978>,\n",
       " <Reaction Ex_his_L at 0x19bd90a5a20>,\n",
       " <Reaction Ex_hxan at 0x19bd90a5c18>,\n",
       " <Reaction Ex_iamac at 0x19bd90a5b38>,\n",
       " <Reaction Ex_iamoh at 0x19bd90a5be0>,\n",
       " <Reaction Ex_ibutac at 0x19bd90a5c50>,\n",
       " <Reaction Ex_ibutoh at 0x19bd90a5cc0>,\n",
       " <Reaction Ex_id3acald at 0x19bd90a5d68>,\n",
       " <Reaction Ex_ile_L at 0x19bd90a5dd8>,\n",
       " <Reaction Ex_ind3eth at 0x19bd90a5e10>,\n",
       " <Reaction Ex_ins at 0x19bd90a5f98>,\n",
       " <Reaction Ex_inost at 0x19bd90a5e48>,\n",
       " <Reaction Ex_k at 0x19bd90a5f60>,\n",
       " <Reaction Ex_leu_L at 0x19bd90a5fd0>,\n",
       " <Reaction Ex_lac_L at 0x19bd90b7160>,\n",
       " <Reaction Ex_lys_L at 0x19bd90b7128>,\n",
       " <Reaction Ex_malt at 0x19bd90b7320>,\n",
       " <Reaction Ex_man at 0x19bd90b7390>,\n",
       " <Reaction Ex_melib at 0x19bd90b72e8>,\n",
       " <Reaction Ex_met_L at 0x19bd90b7358>,\n",
       " <Reaction Ex_mmet at 0x19bd90b7470>,\n",
       " <Reaction Ex_nac at 0x19bd90b75c0>,\n",
       " <Reaction Ex_nadp at 0x19bd90b7630>,\n",
       " <Reaction Ex_na1 at 0x19bd90b76d8>,\n",
       " <Reaction Ex_Nbfortyr at 0x19bd90b75f8>,\n",
       " <Reaction Ex_nmn at 0x19bd90b7828>,\n",
       " <Reaction Ex_oaa at 0x19bd90b77f0>,\n",
       " <Reaction Ex_ocdca at 0x19bd90b78d0>,\n",
       " <Reaction Ex_ocdcya at 0x19bd90b7940>,\n",
       " <Reaction Ex_orn at 0x19bd90b7978>,\n",
       " <Reaction Ex_pacald at 0x19bd90b7a90>,\n",
       " <Reaction Ex_pap at 0x19bd90b7ac8>,\n",
       " <Reaction Ex_pheac at 0x19bd90b7b70>,\n",
       " <Reaction Ex_D_Phenylalanine at 0x19bd90b7be0>,\n",
       " <Reaction Ex_phe_L at 0x19bd90b7c88>,\n",
       " <Reaction Ex_pnto_R at 0x19bd90b7cf8>,\n",
       " <Reaction Ex_pro_L at 0x19bd90b7cc0>,\n",
       " <Reaction Ex_ptrc at 0x19bd90b7e80>,\n",
       " <Reaction Ex_sbt_L at 0x19bd90b7dd8>,\n",
       " <Reaction Ex_ser_L at 0x19bd90b7d68>,\n",
       " <Reaction Ex_so3 at 0x19bd90c9048>,\n",
       " <Reaction Ex_spmd at 0x19bd90c90b8>,\n",
       " <Reaction Ex_sprm at 0x19bd90c9128>,\n",
       " <Reaction Ex_srb_L at 0x19bd90c9080>,\n",
       " <Reaction Ex_succ at 0x19bd90c9278>,\n",
       " <Reaction Ex_sucr at 0x19bd90c9320>,\n",
       " <Reaction Ex_taur at 0x19bd90c9390>,\n",
       " <Reaction Ex_thymd at 0x19bd90c92e8>,\n",
       " <Reaction Ex_thr_L at 0x19bd90c9358>,\n",
       " <Reaction Ex_thym at 0x19bd90c9588>,\n",
       " <Reaction Ex_trp_L at 0x19bd90c94a8>,\n",
       " <Reaction Ex_ttdca at 0x19bd90c9550>,\n",
       " <Reaction Ex_tyr_L at 0x19bd90c95c0>,\n",
       " <Reaction Ex_ura at 0x19bd90c9780>,\n",
       " <Reaction Ex_urea at 0x19bd90c97f0>,\n",
       " <Reaction Ex_uri at 0x19bd90c9860>,\n",
       " <Reaction Ex_val_L at 0x19bd90c97b8>,\n",
       " <Reaction Ex_xan at 0x19bd90c99b0>,\n",
       " <Reaction Ex_xtsn at 0x19bd90c9978>,\n",
       " <Reaction Ex_xyl_D at 0x19bd90c9a58>,\n",
       " <Reaction Ex_xylt at 0x19bd90c9a90>,\n",
       " <Reaction Ex_pectin at 0x19bd90c9b70>,\n",
       " <Reaction Ex_galur at 0x19bd90c9b38>,\n",
       " <Reaction Ex_abt_D at 0x19bd905eb70>,\n",
       " <Reaction Ex_fab at 0x19bd915f128>,\n",
       " <Reaction Ex_rol at 0x19bd918c4e0>,\n",
       " <Reaction Ex_rmn at 0x19bd91a30f0>]"
      ]
     },
     "execution_count": 6,
     "metadata": {},
     "output_type": "execute_result"
    }
   ],
   "source": [
    "model.exchanges"
   ]
  },
  {
   "cell_type": "code",
   "execution_count": 7,
   "metadata": {},
   "outputs": [
    {
     "data": {
      "text/html": [
       "\n",
       "        <table>\n",
       "            <tr>\n",
       "                <td><strong>Metabolite identifier</strong></td><td>btn_c</td>\n",
       "            </tr><tr>\n",
       "                <td><strong>Name</strong></td><td>Biotin</td>\n",
       "            </tr><tr>\n",
       "                <td><strong>Memory address</strong></td>\n",
       "                <td>0x019bd800e438</td>\n",
       "            </tr><tr>\n",
       "                <td><strong>Formula</strong></td><td>C10H15N2O3S</td>\n",
       "            </tr><tr>\n",
       "                <td><strong>Compartment</strong></td><td>c</td>\n",
       "            </tr><tr>\n",
       "                <td><strong>In 4 reaction(s)</strong></td><td>\n",
       "                    BTNt2i, BACCL, COF, BTSr</td>\n",
       "            </tr>\n",
       "        </table>"
      ],
      "text/plain": [
       "<Metabolite btn_c at 0x19bd800e438>"
      ]
     },
     "execution_count": 7,
     "metadata": {},
     "output_type": "execute_result"
    }
   ],
   "source": [
    "# It is biotin, B-7-vitamin.\n",
    "model.metabolites.btn_c"
   ]
  },
  {
   "cell_type": "markdown",
   "metadata": {},
   "source": [
    "From [this reference](https://pubmed.ncbi.nlm.nih.gov/10940857/) they find that at maximum methanol uptake of 0.0682 gMeOH/(GWCW*h), a growth rate of 0.0719(1/h) is found. One gram of wet cells (GWCW) is equivalent to approximately 0.28 g dry cell weight (gDW) and the growht rate on methanol can thus be checked (with molar mass 32.04 gMeOH/molMeOH)"
   ]
  },
  {
   "cell_type": "code",
   "execution_count": 20,
   "metadata": {},
   "outputs": [
    {
     "data": {
      "text/plain": [
       "7.602104512216871"
      ]
     },
     "execution_count": 20,
     "metadata": {},
     "output_type": "execute_result"
    }
   ],
   "source": [
    "0.0682/32.04/0.28*10**3 # mmolMeOH/(gDW*h)"
   ]
  },
  {
   "cell_type": "code",
   "execution_count": 12,
   "metadata": {},
   "outputs": [
    {
     "name": "stdout",
     "output_type": "stream",
     "text": [
      "0.12279086435715147 gDW/(gDW*h)\n"
     ]
    }
   ],
   "source": [
    "medium = model.medium\n",
    "with model:\n",
    "    medium['Ex_glyc'] = 0\n",
    "    medium['Ex_meoh'] = 7.6    # mmolMeOH/(gDW*h)\n",
    "    model.medium = medium\n",
    "    solution = model.optimize()\n",
    "    print(solution.fluxes['Ex_biomass'], \"gDW/(gDW*h)\" )"
   ]
  },
  {
   "cell_type": "markdown",
   "metadata": {},
   "source": [
    "This is quite higher but it is also another strain from a paper in 2000. From the paper where iMT1026-v3 finetuning was done [Tomàs-Gamisans et. all (2017)](https://pubmed.ncbi.nlm.nih.gov/29160039/) an average uptake rate of 6.23 mmolMeOH/(gDW*h) resulted in an average growth rate of 0.084(1/h)"
   ]
  },
  {
   "cell_type": "code",
   "execution_count": 21,
   "metadata": {},
   "outputs": [
    {
     "name": "stdout",
     "output_type": "stream",
     "text": [
      "0.09909073956261412\n"
     ]
    }
   ],
   "source": [
    "medium = model.medium\n",
    "with model:\n",
    "    medium['Ex_meoh'] = 6.23\n",
    "    medium['Ex_glyc'] = 0\n",
    "    model.medium = medium\n",
    "    model.objective = model.reactions.Ex_biomass\n",
    "    print(model.optimize().objective_value)"
   ]
  },
  {
   "cell_type": "markdown",
   "metadata": {},
   "source": [
    "Which is more realistic"
   ]
  },
  {
   "cell_type": "markdown",
   "metadata": {},
   "source": [
    "***Investigating the carveme model***"
   ]
  },
  {
   "cell_type": "code",
   "execution_count": 22,
   "metadata": {},
   "outputs": [],
   "source": [
    "# The carveme model\n",
    "model7 = read_sbml_model('../src/models/gen/K_Pfaffii_carveme.xml')"
   ]
  },
  {
   "cell_type": "code",
   "execution_count": 23,
   "metadata": {},
   "outputs": [
    {
     "name": "stdout",
     "output_type": "stream",
     "text": [
      "{'EX_adn_e': 10.0, 'EX_ala__L_e': 10.0, 'EX_arg__L_e': 10.0, 'EX_aso3_e': 10.0, 'EX_asp__L_e': 10.0, 'EX_ca2_e': 10.0, 'EX_cl_e': 10.0, 'EX_cobalt2_e': 10.0, 'EX_cu2_e': 10.0, 'EX_cys__L_e': 10.0, 'EX_dcyt_e': 10.0, 'EX_fe2_e': 10.0, 'EX_fe3_e': 10.0, 'EX_fol_e': 10.0, 'EX_glc__D_e': 10.0, 'EX_glu__L_e': 10.0, 'EX_gly_e': 10.0, 'EX_h2o_e': 10.0, 'EX_h2s_e': 10.0, 'EX_h_e': 10.0, 'EX_his__L_e': 10.0, 'EX_ile__L_e': 10.0, 'EX_k_e': 10.0, 'EX_leu__L_e': 10.0, 'EX_lipoate_e': 10.0, 'EX_lys__L_e': 10.0, 'EX_met__L_e': 10.0, 'EX_mg2_e': 10.0, 'EX_mn2_e': 10.0, 'EX_nac_e': 10.0, 'EX_nh4_e': 10.0, 'EX_o2_e': 10.0, 'EX_phe__L_e': 10.0, 'EX_pheme_e': 10.0, 'EX_pi_e': 10.0, 'EX_pro__L_e': 10.0, 'EX_ribflv_e': 10.0, 'EX_ser__L_e': 10.0, 'EX_so4_e': 10.0, 'EX_thm_e': 10.0, 'EX_thr__L_e': 10.0, 'EX_thymd_e': 10.0, 'EX_trp__L_e': 10.0, 'EX_tyr__L_e': 10.0, 'EX_ura_e': 10.0, 'EX_uri_e': 10.0, 'EX_val__L_e': 10.0, 'EX_zn2_e': 10.0}\n",
      "0.27550428146247863\n"
     ]
    }
   ],
   "source": [
    "with model7:\n",
    "    model7.medium\n",
    "    print(model7.medium)\n",
    "    model7.objective = model7.reactions.Growth\n",
    "    print(model7.optimize().objective_value)"
   ]
  },
  {
   "cell_type": "code",
   "execution_count": 24,
   "metadata": {},
   "outputs": [],
   "source": [
    "# Check which are essential to growth when using the medium the iMT1026 used\n",
    "medium_fresh = model7.medium.copy()\n",
    "essential = {}\n",
    "with model7:\n",
    "    n = 0\n",
    "    for i in dict.keys(medium_fresh):\n",
    "        medium2 = medium_fresh.copy()\n",
    "        medium2['EX_h2o_e']= 1000\n",
    "        medium2['EX_pi_e'] = 1000\n",
    "        medium2['EX_nh4_e'] = 1000\n",
    "        medium2['EX_h_e'] = 1000\n",
    "        medium2['EX_o2_e'] = 1000\n",
    "        medium2['EX_so4_e'] = 1000\n",
    "        medium2['EX_glyc_e'] = 1.0\n",
    "        medium2['EX_fe2_e'] = 1000\n",
    "        medium2['EX_k_e'] = 1000\n",
    "        medium2['EX_glc__D_e'] = 0\n",
    "        medium2['EX_btn_e'] = 4e-05\n",
    "        \n",
    "        medium2[i] = 0\n",
    "        model7.medium = medium2\n",
    "        model7.objective = model7.reactions.Growth\n",
    "        if model7.optimize().objective_value < 0.001:\n",
    "            essential[i] = model7.optimize().objective_value"
   ]
  },
  {
   "cell_type": "code",
   "execution_count": 25,
   "metadata": {},
   "outputs": [
    {
     "data": {
      "text/plain": [
       "[7.811254844996428e-18,\n",
       " 3.1241418063782405e-18,\n",
       " 0.0,\n",
       " 0.0,\n",
       " 1.6400679230969928e-18,\n",
       " -1.7712132079050824e-18,\n",
       " 0.0,\n",
       " 0.0,\n",
       " 0.0,\n",
       " 0.0,\n",
       " 5.0428008022581605e-17,\n",
       " 0.0,\n",
       " 8.71085669180095e-16,\n",
       " -2.6530280144513277e-17,\n",
       " -3.7364417440219857e-16,\n",
       " 9.276151802758323e-19]"
      ]
     },
     "execution_count": 25,
     "metadata": {},
     "output_type": "execute_result"
    }
   ],
   "source": [
    "# List comprehension to extract values if needed\n",
    "[val for (key, val) in essential.items() if val < 0.001]"
   ]
  },
  {
   "cell_type": "code",
   "execution_count": 26,
   "metadata": {},
   "outputs": [
    {
     "name": "stdout",
     "output_type": "stream",
     "text": [
      "{'EX_btn_e': 4e-05, 'EX_ca2_e': 10.0, 'EX_cl_e': 10.0, 'EX_cobalt2_e': 10.0, 'EX_cu2_e': 10.0, 'EX_fe2_e': 1000, 'EX_glu__L_e': 10.0, 'EX_glyc_e': 1, 'EX_h_e': 1000, 'EX_ile__L_e': 10.0, 'EX_k_e': 1000, 'EX_lys__L_e': 10.0, 'EX_mg2_e': 10.0, 'EX_mn2_e': 10.0, 'EX_nh4_e': 1000, 'EX_o2_e': 1000, 'EX_pi_e': 1000, 'EX_so4_e': 1000, 'EX_thm_e': 10.0, 'EX_val__L_e': 10.0, 'EX_zn2_e': 10.0}\n",
      "0.011672175194120504\n"
     ]
    }
   ],
   "source": [
    "# Keep the essential species and add the remaining from the paper\n",
    "medium2 = model7.medium\n",
    "with model7:\n",
    "    for i in dict.keys(model7.medium):\n",
    "        if i in essential.keys():\n",
    "            continue\n",
    "        else:\n",
    "            medium2[i] = 0\n",
    "            \n",
    "    medium2['EX_pi_e'] = 1000\n",
    "    medium2['EX_nh4_e'] = 1000\n",
    "    medium2['EX_h_e'] = 1000\n",
    "    medium2['EX_o2_e'] = 1000\n",
    "    medium2['EX_so4_e'] = 1000\n",
    "    medium2['EX_glyc_e'] = 1\n",
    "    medium2['EX_fe2_e'] = 1000\n",
    "    medium2['EX_k_e'] = 1000\n",
    "    medium2['EX_glc__D_e'] = 0\n",
    "    medium2['EX_btn_e'] = 4e-05\n",
    "    \n",
    "    model7.medium = medium2\n",
    "    model7.objective = model7.reactions.Growth\n",
    "    print(model7.medium)\n",
    "    print(model7.optimize().objective_value)    \n",
    "\n"
   ]
  },
  {
   "cell_type": "markdown",
   "metadata": {},
   "source": [
    "The growth rate is a bit slower compared to the growth rate of 0.0586 from the paper. Trying with methanol"
   ]
  },
  {
   "cell_type": "code",
   "execution_count": 27,
   "metadata": {},
   "outputs": [
    {
     "name": "stdout",
     "output_type": "stream",
     "text": [
      "{'EX_btn_e': 4e-05, 'EX_ca2_e': 10.0, 'EX_cl_e': 10.0, 'EX_cobalt2_e': 10.0, 'EX_cu2_e': 10.0, 'EX_fe2_e': 1000, 'EX_glu__L_e': 10.0, 'EX_h_e': 1000, 'EX_ile__L_e': 10.0, 'EX_k_e': 1000, 'EX_lys__L_e': 10.0, 'EX_meoh_e': 4.87, 'EX_mg2_e': 10.0, 'EX_mn2_e': 10.0, 'EX_nh4_e': 1000, 'EX_o2_e': 1000, 'EX_pi_e': 1000, 'EX_so4_e': 1000, 'EX_thm_e': 10.0, 'EX_val__L_e': 10.0, 'EX_zn2_e': 10.0}\n",
      "0.0\n"
     ]
    }
   ],
   "source": [
    "with model7:\n",
    "    for i in dict.keys(model7.medium):\n",
    "        if i in essential.keys():\n",
    "            continue\n",
    "        else:\n",
    "            medium2[i] = 0\n",
    "            \n",
    "    medium2['EX_pi_e'] = 1000\n",
    "    medium2['EX_nh4_e'] = 1000\n",
    "    medium2['EX_h_e'] = 1000\n",
    "    medium2['EX_o2_e'] = 1000\n",
    "    medium2['EX_so4_e'] = 1000\n",
    "    medium2['EX_glyc_e'] = 0\n",
    "    medium2['EX_meoh_e'] = 4.87\n",
    "    medium2['EX_fe2_e'] = 1000\n",
    "    medium2['EX_k_e'] = 1000\n",
    "    medium2['EX_glc__D_e'] = 0\n",
    "    medium2['EX_btn_e'] = 4e-05\n",
    "    \n",
    "    model7.medium = medium2\n",
    "    model7.objective = model7.reactions.Growth\n",
    "    print(model7.medium)\n",
    "    print(model7.optimize().objective_value)   "
   ]
  },
  {
   "cell_type": "markdown",
   "metadata": {},
   "source": [
    "No growth is observed!"
   ]
  },
  {
   "cell_type": "markdown",
   "metadata": {},
   "source": [
    "***Investigating the kbase model***"
   ]
  },
  {
   "cell_type": "code",
   "execution_count": 33,
   "metadata": {},
   "outputs": [],
   "source": [
    "model8 = read_sbml_model('../src/models/gen/K_phaffi_Kbase.xml')"
   ]
  },
  {
   "cell_type": "markdown",
   "metadata": {},
   "source": [
    "Looking for the media components used in iMT1026 model."
   ]
  },
  {
   "cell_type": "code",
   "execution_count": 34,
   "metadata": {},
   "outputs": [
    {
     "name": "stdout",
     "output_type": "stream",
     "text": [
      "Exchange for H+\n",
      "Exchange for O2\n",
      "Exchange for Sulfate\n",
      "Exchange for Methanol\n",
      "Exchange for Fe2+\n"
     ]
    }
   ],
   "source": [
    "n = 0\n",
    "for i in model8.exchanges:\n",
    "    if 'Phosphate' in model8.exchanges[n].name:\n",
    "        pi = model8.reactions.get_by_id(model8.exchanges[n].id)\n",
    "    n = n + 1\n",
    "    \n",
    "n = 0\n",
    "for i in model8.exchanges:\n",
    "    if 'Ammon' in model8.exchanges[n].name:\n",
    "        am = model8.reactions.get_by_id(model8.exchanges[n].id)\n",
    "    n = n + 1  \n",
    "    \n",
    "n = 0\n",
    "for i in model8.exchanges:\n",
    "    if 'H+' in model8.exchanges[n].name:\n",
    "        print(model8.exchanges[n].name)\n",
    "        h = model8.reactions.get_by_id(model8.exchanges[n].id)\n",
    "    n = n + 1\n",
    "    \n",
    "n = 0\n",
    "for i in model8.exchanges:\n",
    "    if 'O2' in model8.exchanges[n].name:\n",
    "        print(model8.exchanges[n].name)\n",
    "        o = model8.reactions.get_by_id(model8.exchanges[n].id)\n",
    "        break\n",
    "    n = n + 1\n",
    "\n",
    "n = 0\n",
    "for i in model8.exchanges:\n",
    "    if 'Sulfate' in model8.exchanges[n].name:\n",
    "        print(model8.exchanges[n].name)\n",
    "        s = model8.reactions.get_by_id(model8.exchanges[n].id)\n",
    "        break\n",
    "    n = n + 1\n",
    "    \n",
    "n = 0\n",
    "for i in model8.exchanges:\n",
    "    if 'Methanol' in model8.exchanges[n].name:\n",
    "        print(model8.exchanges[n].name)\n",
    "        m = model8.reactions.get_by_id(model8.exchanges[n].id)\n",
    "        break\n",
    "    n = n + 1\n",
    "    \n",
    "n = 0\n",
    "for i in model8.exchanges:\n",
    "    if 'Fe2+' in model8.exchanges[n].name:\n",
    "        print(model8.exchanges[n].name)\n",
    "        fe = model8.reactions.get_by_id(model8.exchanges[n].id)\n",
    "        break\n",
    "    n = n + 1\n",
    "\n",
    "#Potassium nor biotin could not be found but are not essential to growth in the iMT1026\n",
    "\n",
    "\n",
    "    \n"
   ]
  },
  {
   "cell_type": "code",
   "execution_count": 35,
   "metadata": {},
   "outputs": [
    {
     "data": {
      "text/html": [
       "\n",
       "        <table>\n",
       "            <tr>\n",
       "                <td><strong>Reaction identifier</strong></td><td>bio1_biomass</td>\n",
       "            </tr><tr>\n",
       "                <td><strong>Name</strong></td><td>fungal biomass auto biomass</td>\n",
       "            </tr><tr>\n",
       "                <td><strong>Memory address</strong></td>\n",
       "                <td>0x019be4ba1630</td>\n",
       "            </tr><tr>\n",
       "                <td><strong>Stoichiometry</strong></td>\n",
       "                <td>\n",
       "                    <p style='text-align:right'>60.029641491222 cpd00002_c0 + 0.00489685351114816 cpd00003_c0 + 0.00489685351114816 cpd00006_c0 + 0.00489685351114816 cpd00010_c0 + 0.00489685351114816 cpd00015_c0 + 0.00489685351114816 cpd00016_c0...</p>\n",
       "                    <p style='text-align:right'>60.029641491222 ATP + 0.00489685351114816 NAD + 0.00489685351114816 NADP + 0.00489685351114816 CoA + 0.00489685351114816 FAD + 0.00489685351114816 Pyridoxal phosphate + 0.00489685351114816...</p>\n",
       "                </td>\n",
       "            </tr><tr>\n",
       "                <td><strong>GPR</strong></td><td></td>\n",
       "            </tr><tr>\n",
       "                <td><strong>Lower bound</strong></td><td>0.0</td>\n",
       "            </tr><tr>\n",
       "                <td><strong>Upper bound</strong></td><td>1000.0</td>\n",
       "            </tr>\n",
       "        </table>\n",
       "        "
      ],
      "text/plain": [
       "<Reaction bio1_biomass at 0x19be4ba1630>"
      ]
     },
     "execution_count": 35,
     "metadata": {},
     "output_type": "execute_result"
    }
   ],
   "source": [
    "model8.reactions.query('biomass','name')[0]"
   ]
  },
  {
   "cell_type": "code",
   "execution_count": 36,
   "metadata": {},
   "outputs": [
    {
     "name": "stdout",
     "output_type": "stream",
     "text": [
      "8.245671639915562 gDW/(gDW*h)\n"
     ]
    }
   ],
   "source": [
    "# How fast does it currently grow?\n",
    "with model8:\n",
    "    solution = model8.optimize()\n",
    "    print(solution.fluxes['bio1_biomass'], \"gDW/(gDW*h)\" )"
   ]
  },
  {
   "cell_type": "markdown",
   "metadata": {},
   "source": [
    "That seems quite unrealistic. Checking with media for iMT1026"
   ]
  },
  {
   "cell_type": "code",
   "execution_count": 37,
   "metadata": {},
   "outputs": [
    {
     "name": "stdout",
     "output_type": "stream",
     "text": [
      "{'EX_cpd00021_e0': 1000.0, 'EX_cpd00007_e0': 1000.0, 'EX_cpd00048_e0': 1000.0, 'EX_cpd00116_e0': 4.87, 'EX_cpd00009_e0': 1000.0, 'EX_NH4-e_e0': 1000.0, 'EX_cpd00067_e0': 1000.0}\n",
      "-2.1780254911448108e-15\n"
     ]
    }
   ],
   "source": [
    "medium3 = model8.medium\n",
    "with model8:\n",
    "    for i in dict.keys(model8.medium):\n",
    "            medium3[i] = 0\n",
    "            \n",
    "    medium3[pi.id] = 1000\n",
    "    medium3[am.id] = 1000\n",
    "    medium3[h.id] = 1000\n",
    "    medium3[o.id] = 1000\n",
    "    medium3[s.id] = 1000\n",
    "    medium3[fe.id] = 1000\n",
    "    medium3[m.id] = 4.87\n",
    "\n",
    "    \n",
    "    model8.medium = medium3\n",
    "    model8.objective = model8.reactions.bio1_biomass\n",
    "    print(model8.medium)\n",
    "    print(model8.optimize().objective_value)  "
   ]
  },
  {
   "cell_type": "markdown",
   "metadata": {},
   "source": [
    "No growth then"
   ]
  },
  {
   "cell_type": "code",
   "execution_count": 38,
   "metadata": {},
   "outputs": [],
   "source": [
    "# Essential parts of the medium is again looked for\n",
    "medium_fresh = model8.medium.copy()\n",
    "essential = {}\n",
    "with model8:\n",
    "    n = 0\n",
    "    for i in dict.keys(medium_fresh):\n",
    "        medium3 = medium_fresh.copy()\n",
    "        medium3[i] = 0\n",
    "        medium3[pi.id] = 1000\n",
    "        medium3[am.id] = 1000\n",
    "        medium3[h.id] = 1000\n",
    "        medium3[o.id] = 1000\n",
    "        medium3[s.id] = 1000\n",
    "        medium3[fe.id] = 1000\n",
    "        medium3[m.id] = 4.87\n",
    "        \n",
    "        model8.medium = medium3\n",
    "        model8.objective = model8.reactions.bio1_biomass\n",
    "        if model8.optimize().objective_value < 0.001:\n",
    "            essential[i] = model8.optimize().objective_value"
   ]
  },
  {
   "cell_type": "code",
   "execution_count": 39,
   "metadata": {},
   "outputs": [
    {
     "name": "stdout",
     "output_type": "stream",
     "text": [
      "Exchange for GTP\n",
      "Exchange for L-Lysine\n",
      "Exchange for Chitin\n",
      "Exchange for Guanosine\n",
      "Exchange for TPP\n",
      "Exchange for Cu2+\n",
      "Exchange for L-Leucine\n",
      "Exchange for Spermidine\n",
      "Exchange for Zn2+_e0\n",
      "Exchange for L-Valine\n",
      "Exchange for Lanosterol\n",
      "Exchange for Folate\n",
      "Exchange for NADP\n",
      "Exchange for Cl-\n",
      "Exchange for Mg\n",
      "Exchange for fe3\n",
      "Exchange for L-Histidine\n",
      "Exchange for Oxidized glutathione\n",
      "Exchange for Allantoin\n",
      "Exchange for Co2+_e0\n",
      "Exchange for Mn2+_e0\n",
      "Exchange for K+\n",
      "Exchange for CoA_e0\n",
      "Exchange for 5,7,22,24(28)-Ergostatetraenol\n",
      "Exchange for Ca2+\n",
      "Exchange for Heme_e0\n"
     ]
    }
   ],
   "source": [
    "# What is essential?\n",
    "for i in dict.keys(essential):\n",
    "    print(model8.reactions.get_by_id(i).name)"
   ]
  },
  {
   "cell_type": "code",
   "execution_count": 40,
   "metadata": {},
   "outputs": [
    {
     "name": "stdout",
     "output_type": "stream",
     "text": [
      "{'EX_cpd00021_e0': 1000.0, 'EX_cpd00038_e0': 1000.0, 'EX_cpd00039_e0': 1000.0, 'EX_cpd11683_e0': 1000.0, 'EX_cpd00311_e0': 1000.0, 'EX_cpd00056_e0': 1000.0, 'EX_cpd00058_e0': 1000.0, 'EX_cpd00007_e0': 1000.0, 'EX_cpd00107_e0': 1000.0, 'EX_cpd00048_e0': 1000.0, 'EX_cpd00264_e0': 1000.0, 'EX_cpd00116_e0': 4.87, 'EX_cpd00034_e0': 1000.0, 'EX_cpd00156_e0': 1000.0, 'EX_cpd01188_e0': 1000.0, 'EX_cpd00393_e0': 1000.0, 'EX_cpd00006_e0': 1000.0, 'EX_cpd00099_e0': 1000.0, 'EX_cpd00254_e0': 1000.0, 'EX_cpd00009_e0': 1000.0, 'EX_cpd10516_e0': 1000.0, 'EX_cpd00119_e0': 1000.0, 'EX_cpd00111_e0': 1000.0, 'EX_cpd01092_e0': 1000.0, 'EX_cpd00149_e0': 1000.0, 'EX_cpd00030_e0': 1000.0, 'EX_cpd00205_e0': 1000.0, 'EX_NH4-e_e0': 1000.0, 'EX_cpd00010_e0': 1000.0, 'EX_cpd03223_e0': 1000.0, 'EX_cpd00063_e0': 1000.0, 'EX_cpd00067_e0': 1000.0, 'EX_cpd00028_e0': 1000.0}\n",
      "8.245671639915443\n"
     ]
    }
   ],
   "source": [
    "with model8:\n",
    "    for i in dict.keys(model8.medium):\n",
    "        if i in essential.keys():\n",
    "            continue\n",
    "        else:\n",
    "            medium3[i] = 0\n",
    "            \n",
    "    medium3[i] = 0\n",
    "    medium3[pi.id] = 1000\n",
    "    medium3[am.id] = 1000\n",
    "    medium3[h.id] = 1000\n",
    "    medium3[o.id] = 1000\n",
    "    medium3[s.id] = 1000\n",
    "    medium3[fe.id] = 1000\n",
    "    medium3[m.id] = 4.87           \n",
    "\n",
    "    \n",
    "    model8.medium = medium3\n",
    "    model8.objective = model8.reactions.bio1_biomass\n",
    "    print(model8.medium)\n",
    "    print(model8.optimize().objective_value)   "
   ]
  },
  {
   "cell_type": "markdown",
   "metadata": {},
   "source": [
    "This does not seem representative and would need curation before working with metabolic engineering strategies"
   ]
  }
 ],
 "metadata": {
  "kernelspec": {
   "display_name": "Python 3",
   "language": "python",
   "name": "python3"
  },
  "language_info": {
   "codemirror_mode": {
    "name": "ipython",
    "version": 3
   },
   "file_extension": ".py",
   "mimetype": "text/x-python",
   "name": "python",
   "nbconvert_exporter": "python",
   "pygments_lexer": "ipython3",
   "version": "3.6.13"
  }
 },
 "nbformat": 4,
 "nbformat_minor": 4
}
