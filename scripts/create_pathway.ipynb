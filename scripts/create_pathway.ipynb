{
 "cells": [
  {
   "cell_type": "markdown",
   "id": "4a3a2ae0",
   "metadata": {},
   "source": [
    "# Compact pathway creator function\n",
    "Defines all pathways and returns a model with the selected pathway added.  \n",
    "The function can be called alone or get assigned to a new variable, but it always alters the handed model. In order to not touch manipulate the existing model work within _with model:_ or create a copy of your model with _model.copy()_ before handing that copy to this function.\n",
    "### Function\n",
    "**create_pathway**(_model,path_selector_)  \n",
    "\n",
    "model ... needs to be handed a model, since it doesnt import it itself to save time when function if called multiple times  \n",
    "path_selector ... determines which path is added  \n",
    "Import the function into your script with the following code, thic function script has to be in the same folder.  \n",
    "   \n",
    "_%run -i create_pathway.ipynb_\n",
    "### Pathway legend\n",
    "0 -> no additional reactions  \n",
    "1 -> beta alanine pathway  \n",
    "2 -> transferase malonyl-CoA pathway  \n",
    "3 -> oxidoreductive malonyl-CoA pathway  \n",
    "4 -> lactate pathway  "
   ]
  },
  {
   "cell_type": "code",
   "execution_count": 2,
   "id": "d6a23f24",
   "metadata": {},
   "outputs": [],
   "source": [
    "path_name = ['no additional reactions','beta alanine pathway','trans malonyl-CoA pathway','red malonyl-CoA pathway','lactate pathway']"
   ]
  },
  {
   "cell_type": "markdown",
   "id": "e7da27fd",
   "metadata": {},
   "source": [
    "## General\n",
    "Borodina et al. describe 4 different pathways to get to 3-hydroxy propionic acid with *Komatogaella phaffii*, where most of them go through malonic semialdehyde (Borodina 2014). This metabolite can serve as a precursor for both, malonic acid and 3-hydroxy propionic acid and therfore these pathways serve as a starting point for this cell factory project. The reactions, enzyms and corresponding metabolites were explored using the Kyoto Encyclopedia of Genes and Genomes KEGG (Kanehisa 2000, Kanehisa 2019, Kanehisa 2021). The described routes and the included are:\n",
    "- Beta-Alanine\n",
    "- Malonyl-CoA\n",
    "- Lactate\n",
    "- Glycerol\n",
    "  \n",
    "The pathways are established in the model by inserting one or several new enzyms and deleting competing ones that draw from the pathway.\n",
    "\n",
    "The glycerol route was dropped because it needs B12 as a cofactor, which is not natural in *K. phaffii*.  "
   ]
  },
  {
   "cell_type": "markdown",
   "id": "0dc57455",
   "metadata": {},
   "source": [
    "### Beta alanine pathway\n",
    "For this pathway two steps are necessary, first beta-alanine is changed to malonate semialdehyde by transferring its amino group onto alpha-ketoglutaric acid. For this reaction beta-alanine-oxoglutarate aminotransferase is need, which is already implemented in the used model.  \n",
    "For the second step the enzym malonate-semialdehyde dehydrogenase is used, which hydrolises the malonate semialdehyde to malonic acid and uses NADP+ as a cofactor."
   ]
  },
  {
   "cell_type": "code",
   "execution_count": 3,
   "id": "2a237ded",
   "metadata": {},
   "outputs": [],
   "source": [
    "# malonate-semialdehyde dehydrogenase\n",
    "mal_semal_dehydr = Reaction('MSADH')\n",
    "mal_semal_dehydr.name = 'malonate-semialdehyde dehydrogenase'\n",
    "# 3-Oxopropanoate + NADP+ + H2O <=> Malonate + NADPH + H+\n",
    "malonic_acid_c = Metabolite(id='mln_c', compartment='c')\n",
    "malonic_acid_c.name = 'Malonic acid'\n",
    "malonic_acid_c.formula = 'C3H2O4'\n",
    "\n",
    "mal_semal_dehydr.add_metabolites({model.metabolites.msa_c: -1,  # = 3-oxopropanoate\n",
    "                                 model.metabolites.nad_c: -1,\n",
    "                                 model.metabolites.h2o_c: -1,\n",
    "                                 model.metabolites.nadh_c: 1,\n",
    "                                 model.metabolites.h_c: 1,\n",
    "                                 malonic_acid_c: 1})"
   ]
  },
  {
   "cell_type": "code",
   "execution_count": 4,
   "id": "ad9e3a0c",
   "metadata": {},
   "outputs": [],
   "source": [
    "# Set up pathway\n",
    "beta_al_path = [mal_semal_dehydr]"
   ]
  },
  {
   "cell_type": "markdown",
   "id": "ba5bc53d",
   "metadata": {},
   "source": [
    "### Malonyl-CoA route\n",
    "For malonyl-coa as a precursor, two pathways were identified and both are implemented. The first one directly switches the malonic acid group with an acetate molecule to create malonic acid and acetyl-coa. It uses Acetyl-CoA:malonate CoA-transferase and is further referred to as the Malonly-CoA transferase pathway.  \n",
    "  \n",
    "The second option is a two step process, where malonyl-coa is split into malonate semialdehyde and co-enzym A while using NADPH through 3-oxopropanoate:NADP+ oxidoreductase (CoA-malonylating). Afterwards the same enzym as in the beta-alanine pathway is used to produce malonic acid. In order to force the model to work through this pathway, the enzym beta-alanine-oxoglutarate aminotransferase has to be shut down, which is described in the beta-alanine pathway as well. Because of the nature of the reactions it is called the Malony-Coa oxidored pathway."
   ]
  },
  {
   "cell_type": "code",
   "execution_count": null,
   "id": "9f58b4d1",
   "metadata": {},
   "outputs": [],
   "source": [
    "# malonyl_option = 'A'\n",
    "# valid options A or B, see below"
   ]
  },
  {
   "cell_type": "code",
   "execution_count": null,
   "id": "14f11303",
   "metadata": {},
   "outputs": [],
   "source": [
    "# Option A\n",
    "# Acetyl-CoA:malonate CoA-transferase\n",
    "malcoa_trans = Reaction('MCOATR')\n",
    "malcoa_trans.name = '# Acetyl-CoA:malonate CoA-transferase'\n",
    "#Acetate + Malonyl-CoA <=> Acetyl-CoA + Malonate\n",
    "\n",
    "malcoa_trans.add_metabolites({model.metabolites.ac_c: -1,\n",
    "                                 model.metabolites.malcoa_c: -1,\n",
    "                                 model.metabolites.accoa_c: 1,\n",
    "                                 malonic_acid_c: 1})"
   ]
  },
  {
   "cell_type": "code",
   "execution_count": 5,
   "id": "245f4263",
   "metadata": {},
   "outputs": [],
   "source": [
    "# Option B\n",
    "# 3-oxopropanoate:NADP+ oxidoreductase (CoA-malonylating)\n",
    "malcoa_red = Reaction('MCOARED')\n",
    "malcoa_red.name = '3-oxopropanoate:NADP+ oxidoreductase (CoA-malonylating)'\n",
    "# 3-Oxopropanoate + CoA + NADP+ <=> Malonyl-CoA + NADPH + H+\n",
    "\n",
    "malcoa_red.add_metabolites({model.metabolites.msa_c: 1,\n",
    "                                 model.metabolites.nadp_c: 1,\n",
    "                                 model.metabolites.coa_c: 1,\n",
    "                                 model.metabolites.malcoa_c: -1,\n",
    "                                 model.metabolites.nadph_c: -1,\n",
    "                                 model.metabolites.h_c: -1})"
   ]
  },
  {
   "cell_type": "code",
   "execution_count": 6,
   "id": "28039a2c",
   "metadata": {},
   "outputs": [],
   "source": [
    "# set up pathway\n",
    "# if malonyl_option == 'A':  # Option A\n",
    "trans_malcoa_path = [malcoa_trans]\n",
    "# elif malonyl_option =='B': # Option B\n",
    "red_malcoa_path = [malcoa_red, mal_semal_dehydr]\n"
   ]
  },
  {
   "cell_type": "markdown",
   "id": "a2af9534",
   "metadata": {},
   "source": [
    "### Lactate route\n",
    "In order to produce malonic acid through lactate several enzyms have to be included. Initially lactate is transfered onto co-enzym A, followed by several hydratase steps leading up to 3Hydroxypropyionyl-CoA. From here it is fragmented into 3HP and CoA, where 3HP will be transformed to malonate semialdehyde and finally to malonic acid. The included enzyms are consecutively propionate CoA-transferase, lactoyl-CoA dehydratase, 3-Hydroxypropionyl-CoA hydro-lyase, 3-hydroxyisobutyryl-CoA hydrolase, 3-hydroxypropanoate:NAD+ oxidoreductase and finally and 3-hydroxypropionyl-CoA:NADP+ oxidoreductase."
   ]
  },
  {
   "cell_type": "code",
   "execution_count": 7,
   "id": "01a715ad",
   "metadata": {},
   "outputs": [],
   "source": [
    "# propionate CoA-transferase\n",
    "propCoA_trans = Reaction('PRCOATR')\n",
    "propCoA_trans.name = 'Propionate CoA-transferase'\n",
    "# (S)-Lactate + Acetyl-CoA <=> Lactoyl-CoA + Acetate\n",
    "lacCoA = Metabolite(id='lact_coa', compartment='c')\n",
    "lacCoA.name = 'Lactoyl-CoA'\n",
    "lacCoA.formula = 'C24H40N7O18P3S'\n",
    "\n",
    "propCoA_trans.add_metabolites({model.metabolites.lac_L_c: -1,\n",
    "                                 model.metabolites.accoa_c: -1,\n",
    "                                 lacCoA: 1,\n",
    "                                 model.metabolites.ac_c: 1})"
   ]
  },
  {
   "cell_type": "code",
   "execution_count": 8,
   "id": "594ce347",
   "metadata": {},
   "outputs": [],
   "source": [
    "# Lactoyl-CoA hydrolyase\n",
    "lacCoA_hyd = Reaction('LACOAHYD')\n",
    "lacCoA_hyd.name = 'Lactoyl-CoA hydrolyase'\n",
    "# Lactoyl-CoA <=> Propenoyl-CoA (Acrylyl-CoA) + H2O\n",
    "propCoA = Metabolite(id='prop_coa', compartment='c')\n",
    "propCoA.name = 'Propenoyl-CoA'\n",
    "propCoA.formula = 'C24H38N7O17P3S'\n",
    "\n",
    "lacCoA_hyd.add_metabolites({lacCoA: -1,\n",
    "                                 propCoA: 1,\n",
    "                                 model.metabolites.h2o_c: 1})"
   ]
  },
  {
   "cell_type": "code",
   "execution_count": 9,
   "id": "a304087f",
   "metadata": {},
   "outputs": [],
   "source": [
    "# 3-Hydroxypropionyl-CoA hydrolyase\n",
    "hydpropCoA_hyd = Reaction('3HPCOAHYD')\n",
    "hydpropCoA_hyd.name = '3-Hydroxypropionyl-CoA hydrolyase'\n",
    "# Propenoyl-CoA + H2O <=> 3-Hydroxypropionyl-CoA\n",
    "hydpropCoA = Metabolite(id='hydprop_coa', compartment='c')\n",
    "hydpropCoA.name = '3-Hydroxypropionyl-CoA'\n",
    "hydpropCoA.formula = 'C24H40N7O18P3S'\n",
    "\n",
    "hydpropCoA_hyd.add_metabolites({propCoA: -1,\n",
    "                                 model.metabolites.h2o_c: -1,\n",
    "                                 hydpropCoA: 1})"
   ]
  },
  {
   "cell_type": "code",
   "execution_count": 10,
   "id": "68bfd791",
   "metadata": {},
   "outputs": [],
   "source": [
    "# Dissosication\n",
    "hydpropCoA_dis = Reaction('3HPCOADIS')\n",
    "hydpropCoA_dis.name = '3-Hydroxypropionyl-CoA Dissociation (not systematic)'\n",
    "# 3-Hydroxypropionyl-CoA + H2O <=> 3-Hydroxypropanoate + CoA\n",
    "hydprop = Metabolite(id='hydprop', compartment='c')\n",
    "hydprop.name = '3-Hydroxypropanoate'\n",
    "hydprop.formula = 'C3H6O3'\n",
    "\n",
    "hydpropCoA_dis.add_metabolites({hydpropCoA: -1,\n",
    "                                 model.metabolites.h2o_c: -1,\n",
    "                                 hydprop: 1,\n",
    "                                 model.metabolites.coa_c: 1})"
   ]
  },
  {
   "cell_type": "code",
   "execution_count": 11,
   "id": "09ed4671",
   "metadata": {},
   "outputs": [],
   "source": [
    "# 3-hydroxypropanoate:NAD+ oxidoreductase\n",
    "hydprop_red = Reaction('3HPRED')\n",
    "hydprop_red.name = '3-hydroxypropanoate:NAD+ oxidoreductase'\n",
    "# 3-Hydroxypropanoate + NAD+ <=> 3-Oxopropanoate + NADH + H+\n",
    "\n",
    "hydprop_red.add_metabolites({hydprop: -1,\n",
    "                                 model.metabolites.nad_c: -1,\n",
    "                                 model.metabolites.msa_c: 1,\n",
    "                                 model.metabolites.nadh_c: 1,\n",
    "                                 model.metabolites.h_c: 1})"
   ]
  },
  {
   "cell_type": "code",
   "execution_count": 12,
   "id": "96813681",
   "metadata": {},
   "outputs": [],
   "source": [
    "lactate_path = [propCoA_trans, lacCoA_hyd, hydpropCoA_hyd, hydpropCoA_dis, hydprop_red, mal_semal_dehydr]"
   ]
  },
  {
   "cell_type": "markdown",
   "id": "1aaaac41",
   "metadata": {},
   "source": [
    "### Transport reactions for malonic acid\n",
    "For a more realistic model, the transport reaction from the cytosol, where all the reactions in this case take part, to the extracellular space, as well as the removeal reaction Ex_mln are included."
   ]
  },
  {
   "cell_type": "code",
   "execution_count": 13,
   "id": "3c7d9cf0",
   "metadata": {},
   "outputs": [],
   "source": [
    "# Transport reaction cytosol -> extracellular\n",
    "mln_ctoe = Reaction('mln_c-e')\n",
    "mln_ctoe.name = 'Malonic acid trans c -> e'\n",
    "malonic_acid_e = Metabolite(id='mln_e', compartment='e')\n",
    "malonic_acid_e.name = 'Malonic acid'\n",
    "malonic_acid_e.formula = 'C3H2O4'\n",
    "mln_ctoe.add_metabolites({malonic_acid_c: -1,\n",
    "                           malonic_acid_e: 1})\n",
    "# Removal reaction -> alernativ implementation as boundary within the create_pathway function\n",
    "# Ex_mln = Reaction('Ex_mln')\n",
    "#Ex_mln.name = 'Malonic acid ex/inport'\n",
    "#Ex_mln.add_metabolites({malonic_acid_e: -1})\n",
    "# set up transport path\n",
    "transport = [mln_ctoe]\n",
    "#model.add_boundary(model.metabolites.malonic_acid_c, type='demand')"
   ]
  },
  {
   "cell_type": "markdown",
   "id": "a0599eb9",
   "metadata": {},
   "source": [
    "### Adding selected pathway to model"
   ]
  },
  {
   "cell_type": "code",
   "execution_count": 14,
   "id": "d03e415c",
   "metadata": {},
   "outputs": [],
   "source": [
    "pathways = [[],beta_al_path,trans_malcoa_path,red_malcoa_path,lactate_path]"
   ]
  },
  {
   "cell_type": "code",
   "execution_count": null,
   "id": "7593111f",
   "metadata": {},
   "outputs": [],
   "source": [
    "def create_pathway(model, path_selector=0):\n",
    "    model.add_reactions(pathways[path_selector])\n",
    "    model.add_reactions(transport)\n",
    "    model.add_boundary(model.metabolites.get_by_id('mln_e'), type='demand', reaction_id = 'Ex_mln')\n",
    "    if path_selector == 4:  # force organism in the malonic acid pathway as indicated in the lactate route\n",
    "        model.reactions.APAT2r.upper_bound = 0\n",
    "        model.reactions.L_LACD2cm.upper_bound = 0\n",
    "    elif path_selector == 3: #and malonyl_option =='B' to force the malonic semialdehyde (precursor) production through malonyl-CoA instead of beta alnine path\n",
    "        model.reactions.APAT2r.upper_bound = 0\n",
    "\n",
    "    print('Added', path_name[path_selector])\n",
    "    return model"
   ]
  }
 ],
 "metadata": {
  "kernelspec": {
   "display_name": "Python 3",
   "language": "python",
   "name": "python3"
  },
  "language_info": {
   "codemirror_mode": {
    "name": "ipython",
    "version": 3
   },
   "file_extension": ".py",
   "mimetype": "text/x-python",
   "name": "python",
   "nbconvert_exporter": "python",
   "pygments_lexer": "ipython3",
   "version": "3.6.13"
  }
 },
 "nbformat": 4,
 "nbformat_minor": 5
}
