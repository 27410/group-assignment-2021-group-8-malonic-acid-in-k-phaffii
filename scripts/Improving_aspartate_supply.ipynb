{
 "cells": [
  {
   "cell_type": "code",
   "execution_count": 1,
   "id": "f44139ea",
   "metadata": {},
   "outputs": [],
   "source": [
    "# Importing used packages and model\n",
    "from cobra.io import read_sbml_model\n",
    "from cobra import Reaction, Metabolite\n",
    "model = read_sbml_model('iMT1026-v3.1.xml')\n",
    "%run -i create_pathway.ipynb  # runs other script with included function to alter model"
   ]
  },
  {
   "cell_type": "code",
   "execution_count": 2,
   "id": "53b98c64",
   "metadata": {},
   "outputs": [
    {
     "name": "stdout",
     "output_type": "stream",
     "text": [
      "Added beta alanine pathway\n"
     ]
    }
   ],
   "source": [
    "with model:\n",
    "    model2 = model.copy()\n",
    "    create_pathway(model2,1)"
   ]
  },
  {
   "cell_type": "code",
   "execution_count": 3,
   "id": "de3b86d9",
   "metadata": {},
   "outputs": [],
   "source": [
    "# Realistic methanol uptake rates cf.Tomàs‐Gamisans 2018\n",
    "medium = model2.medium\n",
    "medium['Ex_meoh'] = 6\n",
    "medium['Ex_glyc'] = 0\n",
    "model2.medium = medium"
   ]
  },
  {
   "cell_type": "code",
   "execution_count": 4,
   "id": "5bd195f7",
   "metadata": {},
   "outputs": [],
   "source": [
    "# Adding enzyme 4.3.1.1 from Song\n",
    "new_reaction = Reaction('ASPAML')\n",
    "new_reaction.add_metabolites({model2.metabolites.fum_c: -1,\n",
    "                              model2.metabolites.nh4_c: -1,\n",
    "                              model2.metabolites.asp_L_c: 1,\n",
    "                              model2.metabolites.h_c: 1,\n",
    "                             })\n",
    "model2.add_reactions([new_reaction])\n"
   ]
  },
  {
   "cell_type": "code",
   "execution_count": 5,
   "id": "3e4d0480",
   "metadata": {},
   "outputs": [
    {
     "name": "stdout",
     "output_type": "stream",
     "text": [
      "asp_L_c\n",
      "=======\n",
      "Formula: C4H6NO4\n",
      "\n",
      "Producing Reactions\n",
      "-------------------\n",
      "Percent   Flux            Range  Reaction                               Definition\n",
      "  0.00%      0   [0; 5.181E-06]      ASNN      asn_L_c + h2o_c --> asp_L_c + nh4_c\n",
      "  5.97% 0.2416  [0.2416; 996.3]    ASPAML          fum_c + nh4_c --> asp_L_c + h_c\n",
      " 94.03%  3.804   [3.699; 999.7]  ASPGLU2m  asp_L_m + glu_L_c --> asp_L_c + glu_L_m\n",
      "  0.00%      0   [0; 4.989E-06]    ASPt2r          asp_L_e + h_e <=> asp_L_c + h_c\n",
      "  0.00%      0   [-1000; 998.7]    ASPt5n                      asp_L_n <=> asp_L_c\n",
      "\n",
      "Consuming Reactions\n",
      "-------------------\n",
      "Percent      Flux                   Range       Reaction                                                                      Definition\n",
      "  0.17% -0.006952  [-0.006967; -0.006952]           ADSS                    asp_L_c + gtp_c + imp_c --> dcamp_c + gdp_c + 2.0 h_c + pi_c\n",
      "  0.24% -0.009763  [-0.009765; -0.009763]         ARGSSr                   asp_L_c + atp_c + citr_L_c <=> amp_c + argsuc_c + h_c + ppi_c\n",
      "  0.22% -0.008835   [-0.00884; -0.008835]          ASNS1   asp_L_c + atp_c + gln_L_c + h2o_c --> amp_c + asn_L_c + glu_L_c + h_c + ppi_c\n",
      " 29.00%    -1.173        [-1.173; -1.145]         ASP1DC                                               asp_L_c + h_c --> ala_B_c + co2_c\n",
      "  0.14%  -0.00559    [-0.00559; -0.00559]          ASPCT                                        asp_L_c + cbp_c --> cbasp_c + h_c + pi_c\n",
      "  0.00%         0          [-1000; 997.2]       ASPGLUtp                                         asp_L_c + glu_L_x <=> asp_L_x + glu_L_c\n",
      "  0.54%  -0.02168    [-0.02169; -0.02168]          ASPKi                                             asp_L_c + atp_c --> 4pasp_c + adp_c\n",
      "  0.00%         0         [-5.987E-06; 0]          ASPO1                               asp_L_c + h2o_c + o2_c --> h2o2_c + nh4_c + oaa_c\n",
      "  0.00%         0         [-2.234E-07; 0]          ASPO6                                        asp_L_c + o2_c --> h2o2_c + h_c + iasp_c\n",
      " 69.33%    -2.805          [-1000; 997.2]          ASPTA                                             akg_c + asp_L_c <=> glu_L_c + oaa_c\n",
      "  0.00%         0         [-2.994E-05; 0]         ASPt2m                                                 asp_L_c + h_c --> asp_L_m + h_m\n",
      "  0.00%         0          [-998.7; 1000]         ASPt2n                                                 asp_L_c + h_c <=> asp_L_n + h_n\n",
      "  0.14% -0.005751  [-0.005752; -0.005751]         PRASCS                 5aizc_c + asp_L_c + atp_c <=> 25aics_c + adp_c + 2.0 h_c + pi_c\n",
      "  0.22% -0.008835  [-0.008835; -0.008835]  PROTEINS_glyc  0.8071 ala_L_c + 0.4967 arg_L_c + 0.4495 asn_L_c + 0.4495 asp_L_c + 0.032 c...\n"
     ]
    }
   ],
   "source": [
    "#Fva of malonic-semialdehyde at 50% growth\n",
    "from cobra.flux_analysis import flux_variability_analysis\n",
    "with model2:\n",
    "    \n",
    "    model2.objective = model.reactions.Ex_biomass \n",
    "    specified_growth_rate = 0.5*model2.optimize().objective_value\n",
    "\n",
    "\n",
    "    constrained_growth = model2.problem.Constraint(\n",
    "        model2.reactions.get_by_id('Ex_biomass').flux_expression,\n",
    "        lb=specified_growth_rate,\n",
    "        ub=specified_growth_rate)\n",
    "    model2.add_cons_vars(constrained_growth)\n",
    "    \n",
    "    model2.objective = model2.reactions.Ex_mln\n",
    "    solution = model2.optimize()\n",
    "    print(model2.metabolites.asp_L_c.summary(fva=1.0))"
   ]
  },
  {
   "cell_type": "markdown",
   "id": "bfe1a2db",
   "metadata": {},
   "source": [
    "The solution requires a minimum of 0.2415 of flux through the ASPAML reaction which is a good sign. It does not however change the yield or phenotypic phase plane significantly"
   ]
  },
  {
   "cell_type": "code",
   "execution_count": 6,
   "id": "ffc0acac",
   "metadata": {},
   "outputs": [
    {
     "data": {
      "text/plain": [
       "<AxesSubplot:xlabel='Ex_biomass'>"
      ]
     },
     "execution_count": 6,
     "metadata": {},
     "output_type": "execute_result"
    },
    {
     "data": {
      "image/png": "[encoded data removed]",
      "text/plain": [
       "<Figure size 432x288 with 1 Axes>"
      ]
     },
     "metadata": {
      "needs_background": "light"
     },
     "output_type": "display_data"
    }
   ],
   "source": [
    "from cobra.flux_analysis.phenotype_phase_plane import production_envelope\n",
    "prod_env = production_envelope(model2, [\"Ex_biomass\"], objective=\"Ex_mln\", carbon_sources=\"Ex_meoh\")\n",
    "prod_env.plot(x='Ex_biomass',y='flux_maximum')"
   ]
  },
  {
   "cell_type": "markdown",
   "id": "8faec6c9",
   "metadata": {},
   "source": [
    "Next, we introducing ATP forming phosphoenolpyruvate carboxykinase (E.C:  4.1.1.49)"
   ]
  },
  {
   "cell_type": "code",
   "execution_count": 7,
   "id": "9bd0b89c",
   "metadata": {},
   "outputs": [
    {
     "data": {
      "text/html": [
       "\n",
       "        <table>\n",
       "            <tr>\n",
       "                <td><strong>Reaction identifier</strong></td><td>PPCK</td>\n",
       "            </tr><tr>\n",
       "                <td><strong>Name</strong></td><td>phosphoenolpyruvate carboxykinase</td>\n",
       "            </tr><tr>\n",
       "                <td><strong>Memory address</strong></td>\n",
       "                <td>0x0185d797ef28</td>\n",
       "            </tr><tr>\n",
       "                <td><strong>Stoichiometry</strong></td>\n",
       "                <td>\n",
       "                    <p style='text-align:right'>atp_c + oaa_c --> adp_c + co2_c + pep_c</p>\n",
       "                    <p style='text-align:right'>ATP + Oxaloacetate --> ADP + CO2 + Phosphoenolpyruvate</p>\n",
       "                </td>\n",
       "            </tr><tr>\n",
       "                <td><strong>GPR</strong></td><td>PAS_FragB_0061</td>\n",
       "            </tr><tr>\n",
       "                <td><strong>Lower bound</strong></td><td>0.0</td>\n",
       "            </tr><tr>\n",
       "                <td><strong>Upper bound</strong></td><td>1000.0</td>\n",
       "            </tr>\n",
       "        </table>\n",
       "        "
      ],
      "text/plain": [
       "<Reaction PPCK at 0x185d797ef28>"
      ]
     },
     "execution_count": 7,
     "metadata": {},
     "output_type": "execute_result"
    }
   ],
   "source": [
    "# The enzyme is already present but only in the ADP forming direction\n",
    "model.reactions.PPCK"
   ]
  },
  {
   "cell_type": "code",
   "execution_count": 8,
   "id": "b465a28f",
   "metadata": {},
   "outputs": [
    {
     "data": {
      "image/png": "[encoded data removed]",
      "text/plain": [
       "<Figure size 432x288 with 1 Axes>"
      ]
     },
     "metadata": {
      "needs_background": "light"
     },
     "output_type": "display_data"
    }
   ],
   "source": [
    "with model2:\n",
    "    \n",
    "    # Only allowing ATP forming enzyme to act\n",
    "    model2.reactions.PPCK.lower_bound=-1000\n",
    "    model2.reactions.PPCK.upper_bound=0\n",
    "\n",
    "    model2.objective = model2.reactions.Ex_mln\n",
    "    solution = model2.optimize()\n",
    "    \n",
    "\n",
    "    from cobra.flux_analysis.phenotype_phase_plane import production_envelope\n",
    "    prod_env = production_envelope(model2, [\"Ex_biomass\"], objective=\"Ex_mln\", carbon_sources=\"Ex_meoh\")\n",
    "    prod_env.plot(x='Ex_biomass',y='flux_maximum')\n",
    "    "
   ]
  },
  {
   "cell_type": "markdown",
   "id": "b7a4b67f",
   "metadata": {},
   "source": [
    "The phenotypic phase plane has been improved and higher fluxes of malonate can be reached at smaller growth rates"
   ]
  },
  {
   "cell_type": "code",
   "execution_count": 9,
   "id": "a3206e59",
   "metadata": {},
   "outputs": [
    {
     "name": "stdout",
     "output_type": "stream",
     "text": [
      "asp_L_c\n",
      "=======\n",
      "Formula: C4H6NO4\n",
      "\n",
      "Producing Reactions\n",
      "-------------------\n",
      "Percent   Flux            Range  Reaction                               Definition\n",
      "  0.00%      0   [0; 3.456E-06]      ASNN      asn_L_c + h2o_c --> asp_L_c + nh4_c\n",
      "  7.19% 0.2446  [0.2446; 996.8]    ASPAML          fum_c + nh4_c --> asp_L_c + h_c\n",
      " 92.81%  3.159   [2.999; 999.8]  ASPGLU2m  asp_L_m + glu_L_c --> asp_L_c + glu_L_m\n",
      "  0.00%      0   [0; 3.456E-06]    ASPt2r          asp_L_e + h_e <=> asp_L_c + h_c\n",
      "  0.00%      0    [-1000; 1000]    ASPt5n                      asp_L_n <=> asp_L_c\n",
      "\n",
      "Consuming Reactions\n",
      "-------------------\n",
      "Percent      Flux                   Range       Reaction                                                                      Definition\n",
      "  0.21% -0.007038  [-0.007048; -0.007038]           ADSS                    asp_L_c + gtp_c + imp_c --> dcamp_c + gdp_c + 2.0 h_c + pi_c\n",
      "  0.29% -0.009883  [-0.009885; -0.009883]         ARGSSr                   asp_L_c + atp_c + citr_L_c <=> amp_c + argsuc_c + h_c + ppi_c\n",
      "  0.26% -0.008944  [-0.008948; -0.008944]          ASNS1   asp_L_c + atp_c + gln_L_c + h2o_c --> amp_c + asn_L_c + glu_L_c + h_c + ppi_c\n",
      " 37.55%    -1.278        [-1.374; -1.278]         ASP1DC                                               asp_L_c + h_c --> ala_B_c + co2_c\n",
      "  0.17% -0.005659  [-0.005659; -0.005659]          ASPCT                                        asp_L_c + cbp_c --> cbasp_c + h_c + pi_c\n",
      "  0.00%         0          [-1000; 998.1]       ASPGLUtp                                         asp_L_c + glu_L_x <=> asp_L_x + glu_L_c\n",
      "  0.65%  -0.02195    [-0.02196; -0.02195]          ASPKi                                             asp_L_c + atp_c --> 4pasp_c + adp_c\n",
      "  0.00%         0         [-4.148E-06; 0]          ASPO1                               asp_L_c + h2o_c + o2_c --> h2o2_c + nh4_c + oaa_c\n",
      "  0.00%         0         [-1.571E-07; 0]          ASPO6                                        asp_L_c + o2_c --> h2o2_c + h_c + iasp_c\n",
      " 60.45%    -2.057          [-1000; 998.1]          ASPTA                                             akg_c + asp_L_c <=> glu_L_c + oaa_c\n",
      "  0.00%         0            [-0.2441; 0]         ASPt2m                                                 asp_L_c + h_c --> asp_L_m + h_m\n",
      "  0.00%         0           [-1000; 1000]         ASPt2n                                                 asp_L_c + h_c <=> asp_L_n + h_n\n",
      "  0.17% -0.005823  [-0.005823; -0.005822]         PRASCS                 5aizc_c + asp_L_c + atp_c <=> 25aics_c + adp_c + 2.0 h_c + pi_c\n",
      "  0.26% -0.008944  [-0.008944; -0.008944]  PROTEINS_glyc  0.8071 ala_L_c + 0.4967 arg_L_c + 0.4495 asn_L_c + 0.4495 asp_L_c + 0.032 c...\n"
     ]
    },
    {
     "data": {
      "application/vnd.jupyter.widget-view+json": {
       "model_id": "a9186c5657f04d7498712ee4ce8b8a7d",
       "version_major": 2,
       "version_minor": 0
      },
      "text/plain": [
       "Builder(highlight_missing=True, reaction_data={'ADPtn': 0.0, 'ATPtn': 0.0, 'FACOAE140': 0.0, 'FACOAL260': 0.0,…"
      ]
     },
     "metadata": {},
     "output_type": "display_data"
    }
   ],
   "source": [
    "#Fva of malonic-semialdehyde at 50% growth\n",
    "with model2:\n",
    "    \n",
    "    model2.reactions.PPCK.lower_bound=-1000\n",
    "    model2.reactions.PPCK.upper_bound=0\n",
    "    \n",
    "    model2.objective = model.reactions.Ex_biomass \n",
    "    specified_growth_rate = 0.5*model2.optimize().objective_value\n",
    "\n",
    "\n",
    "    constrained_growth = model2.problem.Constraint(\n",
    "        model2.reactions.get_by_id('Ex_biomass').flux_expression,\n",
    "        lb=specified_growth_rate,\n",
    "        ub=specified_growth_rate)\n",
    "    model2.add_cons_vars(constrained_growth)\n",
    "    \n",
    "    model2.objective = model2.reactions.Ex_mln\n",
    "    solution = model2.optimize()\n",
    "    print(model2.metabolites.asp_L_c.summary(fva=1.0))\n",
    "    \n",
    "    import escher\n",
    "    from IPython.display import display\n",
    "    b = escher.Builder(map_json = 'iMM904.Central_carbon_metabolism.json', reaction_data = solution.fluxes.to_dict(),highlight_missing=True, model=model2)\n",
    "    display(b)"
   ]
  },
  {
   "cell_type": "markdown",
   "id": "87c8ee96",
   "metadata": {},
   "source": [
    "It can be seen that the newly introduced reaction is favored"
   ]
  }
 ],
 "metadata": {
  "kernelspec": {
   "display_name": "Python 3",
   "language": "python",
   "name": "python3"
  },
  "language_info": {
   "codemirror_mode": {
    "name": "ipython",
    "version": 3
   },
   "file_extension": ".py",
   "mimetype": "text/x-python",
   "name": "python",
   "nbconvert_exporter": "python",
   "pygments_lexer": "ipython3",
   "version": "3.6.13"
  }
 },
 "nbformat": 4,
 "nbformat_minor": 5
}
