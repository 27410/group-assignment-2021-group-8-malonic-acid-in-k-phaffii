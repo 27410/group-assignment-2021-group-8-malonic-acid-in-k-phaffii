{
 "cells": [
  {
   "cell_type": "markdown",
   "metadata": {},
   "source": [
    "# Enhancing GSM of Komagataella pfaffii for production of malonic acid"
   ]
  },
  {
   "cell_type": "markdown",
   "metadata": {},
   "source": [
    "## 1. Introduction"
   ]
  },
  {
   "cell_type": "markdown",
   "metadata": {},
   "source": [
    "### 1.1 Literature review of the compound"
   ]
  },
  {
   "cell_type": "markdown",
   "metadata": {},
   "source": [
    "The naturally occurring compound malonic acid was first discovered in beetroots. Even though is was first prepared in 1858 (Encyclopædia Britannica), it is still very relevant in today's market. Malonic acid is traditionally produced synthetically from nonrenewable petroleum feedstock. During this process ester groups are added using an alcohol (Hildbrand, 2001). The use of non-renewable resources is neither environmentally friendly, nor will it be financially lucrative in the future. Recently, the company Lygos Inc. has developed and patented a method for the production of malonic acid through fermentation with genetically modified *Pichia Kudriavzevii* yeast cells (Peters, 2018). These efforts reflect the vast amount of uses for malonic acid in modern industry and the interest in a switch to sustainable production of this compound.\n",
    "\n",
    "\n",
    "![Malonic acid](https://raw.githubusercontent.com/27410/group-assignment-2021-group-8-malonic-acid-in-k-phaffii/main/img/malonic_acid.png?token=AFITQ5WD4ATJULL32TF6LELBUJ3AU \"Malonic acid\")\n",
    "\n",
    "*Figure 1*:  Molecular Structure of Malonic Acid.\n",
    "\n",
    "\n",
    "#### 1.1.1 Use of malonic acid and potential\n",
    "\n",
    "The molecule can be converted into 1,3 propanediol and is often used as a precursor for polyesters and polymers. Furthermore, malonic acid sees use in a variety of industries, such as the electronics, flavor, pharmaceutical, fragrance and coating industry. According to market research, interest and annual sale of the compound will continue to rise (Global Industry Report) and the political pressure to utilize bio-based synthetic compounds will further expand the market. The global market cap is predicted to rise from USD 46 million in 2020 to USD 55 million by the end of 2027 (Malonic Acid Market 2021 Comprehensive Report).\n",
    "\n",
    "The US Department of Energy listed malonic acid as one of the top 30 chemicals to be produced from biomass (Werpy, 2004). According to this report it is ideally produced via 3-Hydroxypropionate from sugars like Glucose, Fructose, Xylose,Arabinose, Lactose, Sucrose or Starch. The compound can be derived from beta alanine, which can efficiently be produced from methanol (Miao, 2021). In modern sustainable production, methanol is considered to be a promising feedstock, since it provides highly reduced carbon and is not competing with food sources, therefore our goal is to use methanol as substrate.\n"
   ]
  },
  {
   "cell_type": "markdown",
   "metadata": {},
   "source": [
    "***331 words***"
   ]
  },
  {
   "cell_type": "markdown",
   "metadata": {},
   "source": [
    "### 1.2 Literature review of the cell factory"
   ]
  },
  {
   "cell_type": "markdown",
   "metadata": {},
   "source": [
    "For this project we have chosen to use the methylotropic yeast _Komagataella phaffii_ as a cell chassis. The organism is also known under the dated nomer name _Pichia pastoris_, which is still often used in applied sciences. The genus _Komagataella_ comprises of 7 species, of which _K. phaffii_ and _K. pastoris_ are most widely used and the only ones that have been studied in detail (Heistinger 2020). \n",
    "\n",
    "\n",
    "![Komagataella phaffii](https://raw.githubusercontent.com/27410/group-assignment-2021-group-8-malonic-acid-in-k-phaffii/main/img/komagataella_phaffii.png?token=AFITQ5UF4AFCE7NLBJHUK7TBUJ2XS \"Komagataella phaffii\")\n",
    "\n",
    "*Figure 2*: *K. phaffii* Source: https://www.hcp-detection.org/expression-systems-for-therapeutic-biopharmaceuticals/expression-system-pichia-pastoris/#prettyPhoto/0/\n"
   ]
  },
  {
   "cell_type": "markdown",
   "metadata": {},
   "source": [
    "#### 1.2.1\tGeneral Advantages\n",
    "_Komagataella phaffii_ is a methylotrophic, Crabtree negative, non-pathogenic yeast which is widely used as a cell factory. The organism grows very fast on glucose or glycerol, attaining high biomass concentrations and can use ammonium as a nitrogen source (Heistinger 2020). The species is known as a robust cell chassis with high genetic stability and great endurance against mechanical and physiological stress (Gasser 2018). In addition, it is able to grow on methanol as the only carbon source due to its effective methanol assimilation, mediated by the presence of strong methanol-inducible promoters (Heistinger 2020). This is exploited in metabolic engineering by introducing recombinant genes into the methanol assimilation pathway (Bernauer 2021) and using these regulatory elements to promote the production of a target metabolite. _K. phaffii_ also possesses other pathways that can be utilized in a similar fashion. Due to their eukariotic nature, the cells allow the production of biopharmaceuticals with complex human like glycan structures (Heistinger 2020). There are well-established and elaborate strategies for genetic modification of _K. phaffii_ and recent advances allawoed it to emerge as a viable model organism. In a recent study, a synthetic pathay similar to the CBB-Cycle was sucessfully introduced into a strain, allowing growth using CO2 as the sole carbon source (Bernauer 2021)."
   ]
  },
  {
   "cell_type": "markdown",
   "metadata": {},
   "source": [
    "#### 1.2.2\tGeneral Disadvantages\n",
    "As a Crabtree-negative yeast _K. phaffii_ is not capable of fermentative process under anaerobic conditions. This makes the cells very dependent and sensitive on oxygen supply. Sufficient aeration of the fermentation broth is often the limiting factor with respect to biomass accumulation (Bernauer 2021). High oxygen uptake during methanol assimilation also results in substantial biochemical reaction heat formation, which complicates process control and tank design (Gasser 2018). Furthermore the cells show a need for biotin supplemented to the feeding media (Bernauer 2021). Overall, _K. phaffii_ is less studied than _S. cerevisiae_, which has seen use for centuries and its processes are refined and proven (Gasser 2018)."
   ]
  },
  {
   "cell_type": "markdown",
   "metadata": {},
   "source": [
    "#### 1.2.3\tSuitability of the cell factory for the product\n",
    "The existing metabolism already produces beta-alanine, a key precursor in the pathway towards malonic acid. The addition of two enzymatic reactions is sufficient to allow production (Miao 2021, Song 2016). As mentioned before, th biggest advantage of _K. phaffii_ is the native capacity for methanol assimilation of the organism. The regulatory mechanisms present also allow the use of methanol-inducible enzymes which provide an interesting opertunity for two stage fermentations (Gasser 2018, Bernauer 2021). For example, the strain could be grown on a carbon source allowing rapid biomass accumulation before switching to methanol to induce the production of the desired metabolite."
   ]
  },
  {
   "cell_type": "markdown",
   "metadata": {},
   "source": [
    "***500 words***"
   ]
  },
  {
   "cell_type": "markdown",
   "metadata": {},
   "source": [
    "## 2. Problem definition (<300 words)"
   ]
  },
  {
   "cell_type": "markdown",
   "metadata": {},
   "source": [
    "The goal of this project is to model and optimize a hypothetical *K. phaffii* strain which uses methanol as a substrate for the production of malonic acid. This strain will help to work towards sustainability goals and a circular economy by utilizing a cheap substrate which is generally considered a by-product of fermentation, to produce a valuable product used in many different industries.\n",
    "\n",
    "Several genome-scale metabolic models described in literature, as well as models created from scratch are considered and compared based on completeness, mass balance and annotation. *K. phaffii* does not natively produce malonic acid, thus four different pathways producing malonic acid are manually added to the model and theoretical product yields are compared. Finally, as the organism has a tendency to invest resources into growth rather than production of secondary metabolites, several tools are used to attempt to couple biomass accumulation with malonic acid production and further optimize metabolic flux towards the product. A general strategy for the development of this cellfactory is presented, based on these analyses."
   ]
  },
  {
   "cell_type": "markdown",
   "metadata": {},
   "source": [
    "***170 words***"
   ]
  },
  {
   "cell_type": "markdown",
   "metadata": {
    "tags": []
   },
   "source": [
    "## 3. Selection and assessment of existing GSM (<500 words)\n",
    "\n",
    "For *K. phaffii* (including under the name _Pichia pastoris_), three GSM models were published between 2010-2012 and were are the most complete and acknowledged models in literature at the time (Tomàs-Gamisans, 2016). We found all three, imported them through COBRA and ran tests on MEMOTE to check their quality. The memote reports can be found [here](https://github.com/27410/group-assignment-2021-group-8-malonic-acid-in-k-phaffii/tree/main/reports).\n",
    "\n",
    "*Table 1*: \n",
    "\n",
    "|                            | PpaMBEL1254 | iPP668 | iLC915 |\n",
    "|----------------------------|-------------|--------|--------|\n",
    "| __Number of metabolites__  | 1058        | 1178   | 2301   |\n",
    "| __Number of reactions__    | 1254        | 1361   | 1506   |\n",
    "| __Number of compartments__ | 1           | 8      | 8      |\n",
    "| __Memote overall score__   | 19%         | 20%    | 27%    |\n",
    "\n",
    "\n",
    "Since then there have been improvements and reconstructions of these models. Among others, an update from 2016 more accurately predicted native and humanized glycosylation of recombinant proteins(Irani, 2015). The number of metabolites and reactions was increased to 1443 and 1595 respectively and mass balance was improved with 19.7% (cf. memote reports). In 2016 the three models were merged together to form the model iMT1026 (Tomàs-Gamisans, 2016). This model was later improved to iMT1026.V3 for better predictions of growth on methanol (Tomàs-Gamisans, 2017), which is relevant for our case study. In addition, the reconstruction tools CarveMe and KBase were also experimented with. While CarveMe yields impressive memote results, including correct annotation which iMT1026 lacks, the resulting model contains only three compartments, which is not representative for a fungal organism such as P. Pastoris. After a lot of effort, Kbase successfully created a fungal model based on the *K. phaffii* refseq from NCBI. Unfortunately, the memote results were not very promising. A script was set up to test if the two models accurately predicted growth on the minimal medium proposed in (Tomàs-Gamisans, 2017), containing methanol as sole carbon source. It was not possible for either of them. Collecting the non-carbon medium components necessary for growth and adding these to the base medium allowed the CarveMe model to have small but positive growth rates, while the Kbase model could still not utilize methanol. Finally, iMT1026.V3 was selected for this project as it represents the most recent advancements in metabolic modelling for *K. phaffii* and has been validated experimentally for growth on methanol. This implies that the mechanisms of the central metabolism have been accurately replicated. Accurate simulation of malonate producing pathways heavily relies on the metabolic regime being representative, since the reactions do not branch far away from the central metabolism. The model only gets an overall memote score of 19%, caused by missing annotation and charge balancing. It has 100% metabolite connectivity and 90.6% mass balancing and should to some extent be able to produce reliable predictions. A concern however arises from the missing charge balance, causing errors in the non-growth associated maintenance reaction. It is known that maintenance becomes more relevant for low growth rates in fermentation and genetically engineered *K. phaffii* using methanol as substrate is expected to be have a low growth rate. Hopefully, this will not influence the results too much but should nonetheless be taken into consideration."
   ]
  },
  {
   "cell_type": "markdown",
   "metadata": {},
   "source": [
    "***456 words***"
   ]
  },
  {
   "cell_type": "markdown",
   "metadata": {},
   "source": [
    "## 4. Computer-Aided Cell Factory Engineering (<1500 Words)"
   ]
  },
  {
   "cell_type": "markdown",
   "metadata": {},
   "source": [
    "### 4.1 Add heterologous pathway to GSM"
   ]
  },
  {
   "cell_type": "markdown",
   "metadata": {},
   "source": [
    "Borodina et al. describe 4 different pathways to get to 3-hydroxy propionic acid with *K phaffii*, and most of them go through malonic semialdehyde (Borodina 2014). This metabolite can serve as a precursor for both malonic acid and 3-hydroxy propionic acid and these pathways serve as a starting point for this cell factory project. The reactions, enzymes and corresponding metabolites were investigated using the Kyoto Encyclopedia of Genes and Genomes KEGG dtabase (Kanehisa 2000, Kanehisa 2019, Kanehisa 2021). The described pathways included in the model are:\n",
    "- **Beta-Alanine**  \n",
    "For this pathway two steps are necessary, first beta-alanine is changed to malonate semialdehyde using a transferase enzyme to transfer its amino group. This reaction is already present in the used model. Afterwards malonic acid is produced through a hydrolysis reaction which uses NADP+ as a cofactor.\n",
    "- **Malonyl-CoA**  \n",
    "There are two possible pathways and both are implemented. The first goes directly from malonyl-coa to malonic acid through a transferase reaction. The second uses a two-step process, first producing malonate semialdehyde in an oxidoreductive path. In the latter, the beta-alanine transferase pathway has to be shut down to force the flux towards malonyl-coa.\n",
    "- **Lactate**  \n",
    "This pathway requires several steps that include an inital transferase to add lactate onto co-enzym A, which is followed by several hydratase steps. Finally, 3 hydroxypropionic acid is produced by splitting it from a coa base. This metabolite is then transformed into malonate semialdehyde and finally into malonic acid.\n",
    "- **Glycerol**  \n",
    "The glycerol pathway was dropped because it needs B12 as a cofactor, which is not naturally present in *K. phaffii*.  \n",
    "\n",
    "The pathways are established by using he script [create_pathway](https://github.com/27410/group-assignment-2021-group-8-malonic-acid-in-k-phaffii/blob/main/scripts/create_pathway.ipynb), which inserts one or several new enzyms and deletes competing ones that divert flux from the pathway. See code for more detailed descriptions."
   ]
  },
  {
   "cell_type": "markdown",
   "metadata": {},
   "source": [
    "***296 words***"
   ]
  },
  {
   "cell_type": "code",
   "execution_count": 1,
   "metadata": {},
   "outputs": [
    {
     "name": "stdout",
     "output_type": "stream",
     "text": [
      "Set parameter Username\n",
      "Academic license - for non-commercial use only - expires 2022-01-13\n"
     ]
    }
   ],
   "source": [
    "# Importing used packages and model\n",
    "%matplotlib inline \n",
    "from cobra.io import read_sbml_model\n",
    "from cobra import Reaction, Metabolite\n",
    "import pandas as pd\n",
    "model = read_sbml_model('src/models/gen/iMT1026-v3.1.xml')\n",
    "%run -i scripts/create_pathway.ipynb  # runs other script with included function to alter model by including pathways"
   ]
  },
  {
   "cell_type": "code",
   "execution_count": 2,
   "metadata": {},
   "outputs": [
    {
     "name": "stdout",
     "output_type": "stream",
     "text": [
      "Error reading LP format file C:\\Users\\abele\\AppData\\Local\\Temp\\tmpocxp6pin.lp at line 3285\n",
      "Incomplete constraint\n",
      "Neighboring tokens: \" St - St_reverse_e3a8b - Stm + Stm_reverse_ee872 \"\n",
      "\n",
      "Unable to read file\n",
      "Error reading LP format file C:\\Users\\abele\\AppData\\Local\\Temp\\tmptb3_57gf.lp at line 3285\n",
      "Incomplete constraint\n",
      "Neighboring tokens: \" St - St_reverse_e3a8b - Stm + Stm_reverse_ee872 \"\n",
      "\n",
      "Unable to read file\n"
     ]
    },
    {
     "ename": "GurobiError",
     "evalue": "Unable to read model",
     "output_type": "error",
     "traceback": [
      "\u001b[1;31m---------------------------------------------------------------------------\u001b[0m",
      "\u001b[1;31mGurobiError\u001b[0m                               Traceback (most recent call last)",
      "\u001b[1;32m~\\AppData\\Local\\Programs\\Python\\Python39\\lib\\site-packages\\cobra\\core\\model.py\u001b[0m in \u001b[0;36mcopy\u001b[1;34m(self)\u001b[0m\n\u001b[0;32m    409\u001b[0m         \u001b[1;32mtry\u001b[0m\u001b[1;33m:\u001b[0m\u001b[1;33m\u001b[0m\u001b[1;33m\u001b[0m\u001b[0m\n\u001b[1;32m--> 410\u001b[1;33m             \u001b[0mnew\u001b[0m\u001b[1;33m.\u001b[0m\u001b[0m_solver\u001b[0m \u001b[1;33m=\u001b[0m \u001b[0mdeepcopy\u001b[0m\u001b[1;33m(\u001b[0m\u001b[0mself\u001b[0m\u001b[1;33m.\u001b[0m\u001b[0msolver\u001b[0m\u001b[1;33m)\u001b[0m\u001b[1;33m\u001b[0m\u001b[1;33m\u001b[0m\u001b[0m\n\u001b[0m\u001b[0;32m    411\u001b[0m             \u001b[1;31m# Cplex has an issue with deep copies\u001b[0m\u001b[1;33m\u001b[0m\u001b[1;33m\u001b[0m\u001b[1;33m\u001b[0m\u001b[0m\n",
      "\u001b[1;32m~\\AppData\\Local\\Programs\\Python\\Python39\\lib\\copy.py\u001b[0m in \u001b[0;36mdeepcopy\u001b[1;34m(x, memo, _nil)\u001b[0m\n\u001b[0;32m    171\u001b[0m                 \u001b[1;32melse\u001b[0m\u001b[1;33m:\u001b[0m\u001b[1;33m\u001b[0m\u001b[1;33m\u001b[0m\u001b[0m\n\u001b[1;32m--> 172\u001b[1;33m                     \u001b[0my\u001b[0m \u001b[1;33m=\u001b[0m \u001b[0m_reconstruct\u001b[0m\u001b[1;33m(\u001b[0m\u001b[0mx\u001b[0m\u001b[1;33m,\u001b[0m \u001b[0mmemo\u001b[0m\u001b[1;33m,\u001b[0m \u001b[1;33m*\u001b[0m\u001b[0mrv\u001b[0m\u001b[1;33m)\u001b[0m\u001b[1;33m\u001b[0m\u001b[1;33m\u001b[0m\u001b[0m\n\u001b[0m\u001b[0;32m    173\u001b[0m \u001b[1;33m\u001b[0m\u001b[0m\n",
      "\u001b[1;32m~\\AppData\\Local\\Programs\\Python\\Python39\\lib\\copy.py\u001b[0m in \u001b[0;36m_reconstruct\u001b[1;34m(x, memo, func, args, state, listiter, dictiter, deepcopy)\u001b[0m\n\u001b[0;32m    271\u001b[0m         \u001b[1;32mif\u001b[0m \u001b[0mhasattr\u001b[0m\u001b[1;33m(\u001b[0m\u001b[0my\u001b[0m\u001b[1;33m,\u001b[0m \u001b[1;34m'__setstate__'\u001b[0m\u001b[1;33m)\u001b[0m\u001b[1;33m:\u001b[0m\u001b[1;33m\u001b[0m\u001b[1;33m\u001b[0m\u001b[0m\n\u001b[1;32m--> 272\u001b[1;33m             \u001b[0my\u001b[0m\u001b[1;33m.\u001b[0m\u001b[0m__setstate__\u001b[0m\u001b[1;33m(\u001b[0m\u001b[0mstate\u001b[0m\u001b[1;33m)\u001b[0m\u001b[1;33m\u001b[0m\u001b[1;33m\u001b[0m\u001b[0m\n\u001b[0m\u001b[0;32m    273\u001b[0m         \u001b[1;32melse\u001b[0m\u001b[1;33m:\u001b[0m\u001b[1;33m\u001b[0m\u001b[1;33m\u001b[0m\u001b[0m\n",
      "\u001b[1;32m~\\AppData\\Local\\Programs\\Python\\Python39\\lib\\site-packages\\optlang\\gurobi_interface.py\u001b[0m in \u001b[0;36m__setstate__\u001b[1;34m(self, repr_dict)\u001b[0m\n\u001b[0;32m    618\u001b[0m         \u001b[1;32mwith\u001b[0m \u001b[0mTemporaryFilename\u001b[0m\u001b[1;33m(\u001b[0m\u001b[0msuffix\u001b[0m\u001b[1;33m=\u001b[0m\u001b[1;34m\".lp\"\u001b[0m\u001b[1;33m,\u001b[0m \u001b[0mcontent\u001b[0m\u001b[1;33m=\u001b[0m\u001b[0mrepr_dict\u001b[0m\u001b[1;33m[\u001b[0m\u001b[1;34m\"lp\"\u001b[0m\u001b[1;33m]\u001b[0m\u001b[1;33m)\u001b[0m \u001b[1;32mas\u001b[0m \u001b[0mtmp_file_name\u001b[0m\u001b[1;33m:\u001b[0m\u001b[1;33m\u001b[0m\u001b[1;33m\u001b[0m\u001b[0m\n\u001b[1;32m--> 619\u001b[1;33m             \u001b[0mproblem\u001b[0m \u001b[1;33m=\u001b[0m \u001b[0mgurobipy\u001b[0m\u001b[1;33m.\u001b[0m\u001b[0mread\u001b[0m\u001b[1;33m(\u001b[0m\u001b[0mtmp_file_name\u001b[0m\u001b[1;33m)\u001b[0m\u001b[1;33m\u001b[0m\u001b[1;33m\u001b[0m\u001b[0m\n\u001b[0m\u001b[0;32m    620\u001b[0m         \u001b[0mself\u001b[0m\u001b[1;33m.\u001b[0m\u001b[0m__init__\u001b[0m\u001b[1;33m(\u001b[0m\u001b[0mproblem\u001b[0m\u001b[1;33m=\u001b[0m\u001b[0mproblem\u001b[0m\u001b[1;33m)\u001b[0m\u001b[1;33m\u001b[0m\u001b[1;33m\u001b[0m\u001b[0m\n",
      "\u001b[1;32msrc\\gurobipy\\gurobi.pxi\u001b[0m in \u001b[0;36mgurobipy.read\u001b[1;34m()\u001b[0m\n",
      "\u001b[1;32msrc\\gurobipy\\gurobi.pxi\u001b[0m in \u001b[0;36mgurobipy.gurobi.read\u001b[1;34m()\u001b[0m\n",
      "\u001b[1;31mGurobiError\u001b[0m: Unable to read model",
      "\nDuring handling of the above exception, another exception occurred:\n",
      "\u001b[1;31mGurobiError\u001b[0m                               Traceback (most recent call last)",
      "\u001b[1;32m~\\AppData\\Local\\Temp/ipykernel_18528/1618377986.py\u001b[0m in \u001b[0;36m<module>\u001b[1;34m\u001b[0m\n\u001b[0;32m      1\u001b[0m \u001b[1;31m# creating the models with the respective pathways\u001b[0m\u001b[1;33m\u001b[0m\u001b[1;33m\u001b[0m\u001b[1;33m\u001b[0m\u001b[0m\n\u001b[1;32m----> 2\u001b[1;33m \u001b[0mbeta_model\u001b[0m \u001b[1;33m=\u001b[0m \u001b[0mcreate_pathway\u001b[0m\u001b[1;33m(\u001b[0m\u001b[0mmodel\u001b[0m\u001b[1;33m.\u001b[0m\u001b[0mcopy\u001b[0m\u001b[1;33m(\u001b[0m\u001b[1;33m)\u001b[0m\u001b[1;33m,\u001b[0m\u001b[1;36m1\u001b[0m\u001b[1;33m)\u001b[0m\u001b[1;33m\u001b[0m\u001b[1;33m\u001b[0m\u001b[0m\n\u001b[0m\u001b[0;32m      3\u001b[0m \u001b[0mtrn_malonyl_model\u001b[0m \u001b[1;33m=\u001b[0m \u001b[0mcreate_pathway\u001b[0m\u001b[1;33m(\u001b[0m\u001b[0mmodel\u001b[0m\u001b[1;33m.\u001b[0m\u001b[0mcopy\u001b[0m\u001b[1;33m(\u001b[0m\u001b[1;33m)\u001b[0m\u001b[1;33m,\u001b[0m\u001b[1;36m2\u001b[0m\u001b[1;33m)\u001b[0m\u001b[1;33m\u001b[0m\u001b[1;33m\u001b[0m\u001b[0m\n\u001b[0;32m      4\u001b[0m \u001b[0mred_malonyl_model\u001b[0m \u001b[1;33m=\u001b[0m \u001b[0mcreate_pathway\u001b[0m\u001b[1;33m(\u001b[0m\u001b[0mmodel\u001b[0m\u001b[1;33m.\u001b[0m\u001b[0mcopy\u001b[0m\u001b[1;33m(\u001b[0m\u001b[1;33m)\u001b[0m\u001b[1;33m,\u001b[0m\u001b[1;36m3\u001b[0m\u001b[1;33m)\u001b[0m\u001b[1;33m\u001b[0m\u001b[1;33m\u001b[0m\u001b[0m\n\u001b[0;32m      5\u001b[0m \u001b[0mlactate_model\u001b[0m \u001b[1;33m=\u001b[0m \u001b[0mcreate_pathway\u001b[0m\u001b[1;33m(\u001b[0m\u001b[0mmodel\u001b[0m\u001b[1;33m.\u001b[0m\u001b[0mcopy\u001b[0m\u001b[1;33m(\u001b[0m\u001b[1;33m)\u001b[0m\u001b[1;33m,\u001b[0m\u001b[1;36m4\u001b[0m\u001b[1;33m)\u001b[0m\u001b[1;33m\u001b[0m\u001b[1;33m\u001b[0m\u001b[0m\n",
      "\u001b[1;32m~\\AppData\\Local\\Programs\\Python\\Python39\\lib\\site-packages\\cobra\\core\\model.py\u001b[0m in \u001b[0;36mcopy\u001b[1;34m(self)\u001b[0m\n\u001b[0;32m    411\u001b[0m             \u001b[1;31m# Cplex has an issue with deep copies\u001b[0m\u001b[1;33m\u001b[0m\u001b[1;33m\u001b[0m\u001b[1;33m\u001b[0m\u001b[0m\n\u001b[0;32m    412\u001b[0m         \u001b[1;32mexcept\u001b[0m \u001b[0mException\u001b[0m\u001b[1;33m:\u001b[0m  \u001b[1;31m# pragma: no cover\u001b[0m\u001b[1;33m\u001b[0m\u001b[1;33m\u001b[0m\u001b[0m\n\u001b[1;32m--> 413\u001b[1;33m             \u001b[0mnew\u001b[0m\u001b[1;33m.\u001b[0m\u001b[0m_solver\u001b[0m \u001b[1;33m=\u001b[0m \u001b[0mcopy\u001b[0m\u001b[1;33m(\u001b[0m\u001b[0mself\u001b[0m\u001b[1;33m.\u001b[0m\u001b[0msolver\u001b[0m\u001b[1;33m)\u001b[0m  \u001b[1;31m# pragma: no cover\u001b[0m\u001b[1;33m\u001b[0m\u001b[1;33m\u001b[0m\u001b[0m\n\u001b[0m\u001b[0;32m    414\u001b[0m \u001b[1;33m\u001b[0m\u001b[0m\n\u001b[0;32m    415\u001b[0m         \u001b[1;31m# it doesn't make sense to retain the context of a copied model so\u001b[0m\u001b[1;33m\u001b[0m\u001b[1;33m\u001b[0m\u001b[1;33m\u001b[0m\u001b[0m\n",
      "\u001b[1;32m~\\AppData\\Local\\Programs\\Python\\Python39\\lib\\copy.py\u001b[0m in \u001b[0;36mcopy\u001b[1;34m(x)\u001b[0m\n\u001b[0;32m    100\u001b[0m     \u001b[1;32mif\u001b[0m \u001b[0misinstance\u001b[0m\u001b[1;33m(\u001b[0m\u001b[0mrv\u001b[0m\u001b[1;33m,\u001b[0m \u001b[0mstr\u001b[0m\u001b[1;33m)\u001b[0m\u001b[1;33m:\u001b[0m\u001b[1;33m\u001b[0m\u001b[1;33m\u001b[0m\u001b[0m\n\u001b[0;32m    101\u001b[0m         \u001b[1;32mreturn\u001b[0m \u001b[0mx\u001b[0m\u001b[1;33m\u001b[0m\u001b[1;33m\u001b[0m\u001b[0m\n\u001b[1;32m--> 102\u001b[1;33m     \u001b[1;32mreturn\u001b[0m \u001b[0m_reconstruct\u001b[0m\u001b[1;33m(\u001b[0m\u001b[0mx\u001b[0m\u001b[1;33m,\u001b[0m \u001b[1;32mNone\u001b[0m\u001b[1;33m,\u001b[0m \u001b[1;33m*\u001b[0m\u001b[0mrv\u001b[0m\u001b[1;33m)\u001b[0m\u001b[1;33m\u001b[0m\u001b[1;33m\u001b[0m\u001b[0m\n\u001b[0m\u001b[0;32m    103\u001b[0m \u001b[1;33m\u001b[0m\u001b[0m\n\u001b[0;32m    104\u001b[0m \u001b[1;33m\u001b[0m\u001b[0m\n",
      "\u001b[1;32m~\\AppData\\Local\\Programs\\Python\\Python39\\lib\\copy.py\u001b[0m in \u001b[0;36m_reconstruct\u001b[1;34m(x, memo, func, args, state, listiter, dictiter, deepcopy)\u001b[0m\n\u001b[0;32m    270\u001b[0m             \u001b[0mstate\u001b[0m \u001b[1;33m=\u001b[0m \u001b[0mdeepcopy\u001b[0m\u001b[1;33m(\u001b[0m\u001b[0mstate\u001b[0m\u001b[1;33m,\u001b[0m \u001b[0mmemo\u001b[0m\u001b[1;33m)\u001b[0m\u001b[1;33m\u001b[0m\u001b[1;33m\u001b[0m\u001b[0m\n\u001b[0;32m    271\u001b[0m         \u001b[1;32mif\u001b[0m \u001b[0mhasattr\u001b[0m\u001b[1;33m(\u001b[0m\u001b[0my\u001b[0m\u001b[1;33m,\u001b[0m \u001b[1;34m'__setstate__'\u001b[0m\u001b[1;33m)\u001b[0m\u001b[1;33m:\u001b[0m\u001b[1;33m\u001b[0m\u001b[1;33m\u001b[0m\u001b[0m\n\u001b[1;32m--> 272\u001b[1;33m             \u001b[0my\u001b[0m\u001b[1;33m.\u001b[0m\u001b[0m__setstate__\u001b[0m\u001b[1;33m(\u001b[0m\u001b[0mstate\u001b[0m\u001b[1;33m)\u001b[0m\u001b[1;33m\u001b[0m\u001b[1;33m\u001b[0m\u001b[0m\n\u001b[0m\u001b[0;32m    273\u001b[0m         \u001b[1;32melse\u001b[0m\u001b[1;33m:\u001b[0m\u001b[1;33m\u001b[0m\u001b[1;33m\u001b[0m\u001b[0m\n\u001b[0;32m    274\u001b[0m             \u001b[1;32mif\u001b[0m \u001b[0misinstance\u001b[0m\u001b[1;33m(\u001b[0m\u001b[0mstate\u001b[0m\u001b[1;33m,\u001b[0m \u001b[0mtuple\u001b[0m\u001b[1;33m)\u001b[0m \u001b[1;32mand\u001b[0m \u001b[0mlen\u001b[0m\u001b[1;33m(\u001b[0m\u001b[0mstate\u001b[0m\u001b[1;33m)\u001b[0m \u001b[1;33m==\u001b[0m \u001b[1;36m2\u001b[0m\u001b[1;33m:\u001b[0m\u001b[1;33m\u001b[0m\u001b[1;33m\u001b[0m\u001b[0m\n",
      "\u001b[1;32m~\\AppData\\Local\\Programs\\Python\\Python39\\lib\\site-packages\\optlang\\gurobi_interface.py\u001b[0m in \u001b[0;36m__setstate__\u001b[1;34m(self, repr_dict)\u001b[0m\n\u001b[0;32m    617\u001b[0m     \u001b[1;32mdef\u001b[0m \u001b[0m__setstate__\u001b[0m\u001b[1;33m(\u001b[0m\u001b[0mself\u001b[0m\u001b[1;33m,\u001b[0m \u001b[0mrepr_dict\u001b[0m\u001b[1;33m)\u001b[0m\u001b[1;33m:\u001b[0m\u001b[1;33m\u001b[0m\u001b[1;33m\u001b[0m\u001b[0m\n\u001b[0;32m    618\u001b[0m         \u001b[1;32mwith\u001b[0m \u001b[0mTemporaryFilename\u001b[0m\u001b[1;33m(\u001b[0m\u001b[0msuffix\u001b[0m\u001b[1;33m=\u001b[0m\u001b[1;34m\".lp\"\u001b[0m\u001b[1;33m,\u001b[0m \u001b[0mcontent\u001b[0m\u001b[1;33m=\u001b[0m\u001b[0mrepr_dict\u001b[0m\u001b[1;33m[\u001b[0m\u001b[1;34m\"lp\"\u001b[0m\u001b[1;33m]\u001b[0m\u001b[1;33m)\u001b[0m \u001b[1;32mas\u001b[0m \u001b[0mtmp_file_name\u001b[0m\u001b[1;33m:\u001b[0m\u001b[1;33m\u001b[0m\u001b[1;33m\u001b[0m\u001b[0m\n\u001b[1;32m--> 619\u001b[1;33m             \u001b[0mproblem\u001b[0m \u001b[1;33m=\u001b[0m \u001b[0mgurobipy\u001b[0m\u001b[1;33m.\u001b[0m\u001b[0mread\u001b[0m\u001b[1;33m(\u001b[0m\u001b[0mtmp_file_name\u001b[0m\u001b[1;33m)\u001b[0m\u001b[1;33m\u001b[0m\u001b[1;33m\u001b[0m\u001b[0m\n\u001b[0m\u001b[0;32m    620\u001b[0m         \u001b[0mself\u001b[0m\u001b[1;33m.\u001b[0m\u001b[0m__init__\u001b[0m\u001b[1;33m(\u001b[0m\u001b[0mproblem\u001b[0m\u001b[1;33m=\u001b[0m\u001b[0mproblem\u001b[0m\u001b[1;33m)\u001b[0m\u001b[1;33m\u001b[0m\u001b[1;33m\u001b[0m\u001b[0m\n\u001b[0;32m    621\u001b[0m         \u001b[0mself\u001b[0m\u001b[1;33m.\u001b[0m\u001b[0mconfiguration\u001b[0m \u001b[1;33m=\u001b[0m \u001b[0mConfiguration\u001b[0m\u001b[1;33m(\u001b[0m\u001b[1;33m)\u001b[0m\u001b[1;33m\u001b[0m\u001b[1;33m\u001b[0m\u001b[0m\n",
      "\u001b[1;32msrc\\gurobipy\\gurobi.pxi\u001b[0m in \u001b[0;36mgurobipy.read\u001b[1;34m()\u001b[0m\n",
      "\u001b[1;32msrc\\gurobipy\\gurobi.pxi\u001b[0m in \u001b[0;36mgurobipy.gurobi.read\u001b[1;34m()\u001b[0m\n",
      "\u001b[1;31mGurobiError\u001b[0m: Unable to read model"
     ]
    }
   ],
   "source": [
    "# creating the models with the respective pathways\n",
    "beta_model = create_pathway(model.copy(),1)\n",
    "trn_malonyl_model = create_pathway(model.copy(),2)\n",
    "red_malonyl_model = create_pathway(model.copy(),3)\n",
    "lactate_model = create_pathway(model.copy(),4)\n",
    "models = [(beta_model,'Beta-Alanine'),(trn_malonyl_model,'Malonyl-CoA Transferase'),(red_malonyl_model,'Malonyl-CoA Oxidored'),(lactate_model,'Lactate')]"
   ]
  },
  {
   "cell_type": "markdown",
   "metadata": {},
   "source": [
    "### 4.2 Analyzing the pathways\n",
    "The production of the different pathways under several conditions is analyzed using phenotypic phase planes. The full code can be found in the script [pathway_evaluations](https://github.com/27410/group-assignment-2021-group-8-malonic-acid-in-k-phaffii/blob/main/scripts/Pathway_evaluation.ipynb)."
   ]
  },
  {
   "cell_type": "markdown",
   "metadata": {},
   "source": [
    "#### 4.2.1 Defining the medium\n",
    "First the used medium for the simulations is defined and the carbon source is changed to methanol with the uptake rates based on experimental data (Tomàs‐Gamisans 2018)."
   ]
  },
  {
   "cell_type": "code",
   "execution_count": null,
   "metadata": {},
   "outputs": [],
   "source": [
    "# General medium for all models based on the unchanged vanilla model (=same medium as in all derived models)\n",
    "medium = model.medium\n",
    "medium['Ex_meoh'] = 6  # Realistic methanol uptake rates cf.Tomàs‐Gamisans 2018\n",
    "medium['Ex_glyc'] = 0  # setting the other carbon source gylcerol to zero\n",
    "print('Table 2: Medium composition')\n",
    "# create a data frame to plot a table\n",
    "med_names = dict()\n",
    "for flux in medium:\n",
    "    meta = model.reactions.get_by_id(flux).metabolites\n",
    "    for element in meta:\n",
    "        med_names[flux] = element.name\n",
    "df_med = pd.DataFrame(medium, index=['uptake'])\n",
    "df_names = pd.DataFrame(med_names, index=['name'])\n",
    "display(pd.concat([df_names,df_med]))"
   ]
  },
  {
   "cell_type": "markdown",
   "metadata": {},
   "source": [
    "#### 4.2.2 Theoretical maximum yields\n",
    "Phenotypic phaseplanes are constructed to investigate the relation between the malonic acid production and biomass accumulation for each pathway."
   ]
  },
  {
   "cell_type": "code",
   "execution_count": null,
   "metadata": {},
   "outputs": [],
   "source": [
    "from cobra.flux_analysis.phenotype_phase_plane import production_envelope\n",
    "\n",
    "model.medium = medium\n",
    "model.objective = model.reactions.get_by_id('Ex_biomass')\n",
    "\n",
    "df_yields = pd.DataFrame()\n",
    "df_max = pd.DataFrame(index=['carbon yield','MA flux in mmol/gDW*h'])\n",
    "df_max.index.name = 'Maximum'\n",
    "max_growth = model.slim_optimize()\n",
    "print('General maximum biomass growth',round(max_growth,4),'mmol/gDW*h')\n",
    "\n",
    "for pairing in models:\n",
    "    pathway_model = pairing[0]\n",
    "    with pathway_model:\n",
    "        pathway_model.medium = medium\n",
    "        pathway_model.objective = pathway_model.reactions.get_by_id('Ex_mln')\n",
    "        ppp = production_envelope(pathway_model,\n",
    "                    reactions='Ex_biomass',\n",
    "                    objective='Ex_mln')\n",
    "        df_yields[pairing[1]]=ppp.carbon_yield_maximum\n",
    "        df_max[pairing[1]]=[ppp.carbon_yield_maximum.max(),ppp.flux_maximum.max()]\n",
    "\n",
    "display(df_max)\n",
    "df_yields['Ex_biomass'] = ppp.Ex_biomass\n",
    "df_yields.plot(x='Ex_biomass', y=[pairing[1] for pairing in models], title='Pathway carbon yields').set_ylabel('Carbon yield MA / Substrate')"
   ]
  },
  {
   "cell_type": "markdown",
   "metadata": {},
   "source": [
    "Table [X] and graph [Y] describe the absolute values for carbon yield and malonic acid production, as well as the dependency on growth rate. The beta-alanine and the malonyl-coa transferase pathway show the best performance with higher absolute values and a better **(please clarify better)** slope. Based on these results, the oxidoreductive malonly-coa and lactate pathways are not considered for further analysis."
   ]
  },
  {
   "cell_type": "markdown",
   "metadata": {},
   "source": [
    "***147 words for 4.2 until here***"
   ]
  },
  {
   "cell_type": "markdown",
   "metadata": {},
   "source": [
    "#### 4.2.3 Optimal O2 uptake\n",
    "Analysis of the influence of oxygen uptake on model performance. Three objective functions are investigated, the maximum malonic acid production, the maximum biomass growth and the maximum malonic acid production with a forced flux towards growth equal to half the maximum value. For a better visual representation biomass growth rate values are scaled by a factor of 20."
   ]
  },
  {
   "cell_type": "markdown",
   "metadata": {},
   "source": [
    "*Table xx: Optimal oxygen uptake rate for the respective pathways and objective function in the form of (O2 uptake rate, maximum flux)*![O2 uptake table](https://raw.githubusercontent.com/27410/group-assignment-2021-group-8-malonic-acid-in-k-phaffii/main/img/o2_uptake_table.PNG \"O2 uptake table\")\n",
    "\n",
    "\n",
    "![O2 uptake graph](https://raw.githubusercontent.com/27410/group-assignment-2021-group-8-malonic-acid-in-k-phaffii/main/img/o2_uptake.png \"O2 uptake graph\")\n",
    "\n",
    "*Figure 4: Maximum flux as a function of the O2 uptake rate for both pathways and three different objective functions*\n",
    "\n"
   ]
  },
  {
   "cell_type": "markdown",
   "metadata": {},
   "source": [
    "Except for the constrained growth model, the models seem to have identical oxygen uptake dynamics. Between the two objectives the optimal oxygen uptake is slightly higher for the biomass growth and a difference in the curvature is visible. For the analysis with constrained growth, malonic acid is only produced after a certain O2 uptake rate and reaches less production, because of the parallel growth. The peak of maximum flux is shifted and a slight difference between the two pathways is observed.  \n",
    "  \n",
    "It is clear that the optimal oxygen uptake rate depends on the metabolic objective and should to be determined for a fixed growth rate."
   ]
  },
  {
   "cell_type": "markdown",
   "metadata": {},
   "source": [
    "***170 words***"
   ]
  },
  {
   "cell_type": "markdown",
   "metadata": {},
   "source": [
    "#### 4.2.4 Optimal methanol uptake rate\n",
    "The same procedure as for the oxygen uptake rate was applied to determine the optimal methanol flux and determine optimal growth conditions. Because of the artificial nature of constrained growth in the model this can not be used in a meaningful way. Biomass growth rate is scaled by a factor of 20."
   ]
  },
  {
   "cell_type": "markdown",
   "metadata": {},
   "source": [
    "*Table xx: Optimal methanol uptake rate for the respective pathways and objective function in the form of (meoh uptake rate, maximum flux)*\n",
    "![MeOH uptake table](https://raw.githubusercontent.com/27410/group-assignment-2021-group-8-malonic-acid-in-k-phaffii/main/img/meoh_uptake_table.PNG \"MeOH uptake table\")\n",
    "\n",
    "\n",
    "![MeOH uptake graph](https://raw.githubusercontent.com/27410/group-assignment-2021-group-8-malonic-acid-in-k-phaffii/main/img/meoh_uptake.png \"MeOH uptake graph\")\n",
    "\n",
    "*Figure 5: Maximum flux as a function of the methanol uptake rate for both pathways and two different objective functions*\n"
   ]
  },
  {
   "cell_type": "markdown",
   "metadata": {},
   "source": [
    "The results show that both pathways have the same dynamics. Between the two objecties the maximum flux for malonic acid production requires a higher uptake rate than biomass growth. The malonic acid flux is about a third of the methanol uptake rate at maximum flux, which is apporximately the same relation as the amount of carbon atoms between the two molecules.    \n",
    "It is interesting to see that a carbon source repression seems to happen after the maximum is reached. The exact reason for this phenomena is not clear, since no other substrate is limiting production. Furthermore, the decrease back to zero would mean that the cells die at to high methanol uptake rates.  \n",
    "  \n",
    "We assume physically feasible uptake rates are very small. Tomàs‐Gamisans et al. describe an uptake rate of 6 mmol/gDW\\*h, which is the rate used for most of the analyses (Tomàs‐Gamisans 2018). This means methanol uptak rates are outside the range where mthanol repression would be a reasonable concern. The analysis does show that a linear increase in production can be achieved through upregulation of methanol uptake mechanisms."
   ]
  },
  {
   "cell_type": "markdown",
   "metadata": {},
   "source": [
    "***238 words***"
   ]
  },
  {
   "cell_type": "markdown",
   "metadata": {},
   "source": [
    "### 4.3 Further medium investigation\n",
    "After investigating the models characteristics regarding oxygen and methanol uptake, further investigation into the medium components is conducted to better understand the metabolism. All the used code to retrieve the data and graphs, as well as additional informations can be found in the script [substrate_alternatives](https://github.com/27410/group-assignment-2021-group-8-malonic-acid-in-k-phaffii/blob/main/scripts/Substrate_alternatives.ipynb)."
   ]
  },
  {
   "cell_type": "markdown",
   "metadata": {},
   "source": [
    "#### 4.3.1 Minimal media\n",
    "First the essential media components to achieve a specified growth rate or flux towards malonic acid production are obtained and shown below. \n",
    "The model needs only a few substrates to ensure the growth and production, with malonic acid production needing even fewer. In both cases substrate is the limiting factor. These results have to be assessed critically. For example, the complex additive Biotin does not seem essential, but it is known to be an essential co-factor for some reactions in yeasts (Gasser 2010)."
   ]
  },
  {
   "cell_type": "markdown",
   "metadata": {},
   "source": [
    "*Table xx: Components of the minimal media for the respective pathwas and objective functions*\n",
    "![Minimal medium table](https://raw.githubusercontent.com/27410/group-assignment-2021-group-8-malonic-acid-in-k-phaffii/main/img/min_med_table.PNG \"Minimal medium table\")"
   ]
  },
  {
   "cell_type": "markdown",
   "metadata": {},
   "source": [
    "#### 4.3.2 Other carbon sources\n",
    "To further explore the potential of the cellfactory, all possible carbon sources are investigated and the obtained maximum fluxes are compared. An in depth analysis can be found in [substrate_alternatives](https://github.com/27410/group-assignment-2021-group-8-malonic-acid-in-k-phaffii/blob/main/scripts/Substrate_alternatives.ipynb). Here, only the malonic acid production with a growth constraint is discussed. Results are normalized based on cmol for all substrates."
   ]
  },
  {
   "cell_type": "markdown",
   "metadata": {},
   "source": [
    "\n",
    "![Substrates bargraph](https://raw.githubusercontent.com/27410/group-assignment-2021-group-8-malonic-acid-in-k-phaffii/main/img/substrates_bargraph.png \"Substrates bargraph\")\n",
    "\n",
    "*Figure 7: Comparison of the maximum malonic acid production with 50% growth rate for all feasible carbon sources in the model*\n"
   ]
  },
  {
   "cell_type": "markdown",
   "metadata": {},
   "source": [
    "Several substrates show better growth and production performance than methanol, which can be explained by the chemical energy contained in these substrates or the location where they enter the carbon metabolism. Clearly production and the growth can be increased by switching to a different substrate.  \n",
    "  \n",
    "Nevertheless, methanol offers various advantages such as being a cheap carbon source that is not utilized in the food industry and the possibilty to capitalize on the methanol induced regulation of *K. phaffii* (Miao 2021). \n",
    "A two stage process could be designed where the organism is grown to high cell densities with a sugar source and then a switch triggers the methanol inducible promoters of *K. phaffii* to start the malonic acid production."
   ]
  },
  {
   "cell_type": "markdown",
   "metadata": {},
   "source": [
    "***311 words***"
   ]
  },
  {
   "cell_type": "markdown",
   "metadata": {},
   "source": [
    "### 4.4 Optimization"
   ]
  },
  {
   "cell_type": "markdown",
   "metadata": {},
   "source": [
    "***Methanol assimilation***:\n",
    "\n",
    "As mentioned, utilising methanol as a substrate could be a great alternative and a step towards more for sustainable processes. However, both growth and product titers are significantly lowered compared to other substrates. Miao manages to produce 5.6 g/L of beta-alanine in *K. phaffii* grown on methanol which they state is the highest metabolite titer reached for the conditions. Up to 43.12 g/L has been reached with glucose.\n",
    "\n",
    "The drawbacks behind methanol utilisation are further investigated by drawing the pathway in escher to visualize fluxes under optimized growth conditions."
   ]
  },
  {
   "cell_type": "code",
   "execution_count": null,
   "metadata": {},
   "outputs": [],
   "source": [
    "with model:  \n",
    "    solution = model.optimize()\n",
    "    import escher\n",
    "    from IPython.display import display\n",
    "    b = escher.Builder(map_json = 'misc/iMM904.Central_carbon_metabolism.json', reaction_data = solution.fluxes.to_dict(),highlight_missing=True, model=model)\n",
    "    display(b)"
   ]
  },
  {
   "cell_type": "markdown",
   "metadata": {},
   "source": [
    "![Escher plot](https://raw.githubusercontent.com/27410/group-assignment-2021-group-8-malonic-acid-in-k-phaffii/4a9df0d9b9168bbb670f017c3f1298cf69e7ba56/img/saved_map.svg \"Escher plot\")"
   ]
  },
  {
   "cell_type": "markdown",
   "metadata": {},
   "source": [
    "Approximately a third of the formaldehyde flux is taken down the path and oxidized in reactions FALDH2 and FDH to produce reducing power in form of NADH (82.2% NADH of all contribution). Shown in Schroer 2009 that FLD is the main bottleneck for NADH generation. This illustrates why malonate is an interesting choice of product through the beta-alanine pathway; the final step regenerates NADH. Constraining the biomass formation to 50% and optimizing for malonate production, 29.18% of the necessary NADH is generated by MSADH and only 30.3% is thus needed from the formaldehyde oxidation steps. With the same setup, but instead having beta-alanine as the product optimized for, FALDH2 and FDH have to constitute 67.58% of NADH generation (maybe put a table). The resulting yield of beta-alanine becomes 0.36 g ala_B/g meoh while it almost doubles for malonate (0.62 g mln/g meoh).\n",
    "\n",
    "It is clear that the NADH/NADPH balance is important for optimizing growth and improving productivity. Much experimentation with manual cofactor swaps was peformed to check for more optimal routes. It was managed to improve the base growth rate by swapping NADH with NADPH in GAPD in glycolysis, but only by 0.0022 h^-1 and it did not improve the phenotypic phase plane significantly. OPTSwap was employed for algorithmic predictions instead but with no result either (show in github).\n"
   ]
  },
  {
   "cell_type": "markdown",
   "metadata": {},
   "source": [
    "***310 words***"
   ]
  },
  {
   "cell_type": "markdown",
   "metadata": {},
   "source": [
    "***Optimizing the use of malonic-semialdehyde***"
   ]
  },
  {
   "cell_type": "markdown",
   "metadata": {},
   "source": [
    "In an in-vivo context there are multiple considerations to be made. First off, FVA reveals that malonic-semialdehyde is not only used for malonate production but also conversion into acetyl-coa through MMSAD3. The gene coding for this reaction is should be knocked out to avoid this occuring in the real biological system. Computationally, doing this does not affect the phenotypic phase plane either."
   ]
  },
  {
   "cell_type": "markdown",
   "metadata": {},
   "source": [
    "In a study (Borodina 2014) about 3-hydroxypropanoate production in *S. cerevisiae*, screening was peformed to identify the best hetereologous reaction for beta alinine to malonic-semialdehyde conversion (BABAT). Even though the reaction APAT2r is present in both *K. phaffii* and *S. cerevisiae* the conclusion was that a gene from *Bacillus cereus* should be inserted. However, FVA revealed that APAT2r and BABAT were equally effective. This goes to show the limits of non-constrained Fva. Here it points to APAT2r being sufficient for in vivo msa production, contrary to the findings of Borodina."
   ]
  },
  {
   "cell_type": "markdown",
   "metadata": {},
   "source": [
    "Several additional tools were used in an attempt to further optimize the model. OptKnock is an algorithm which aims to couple the production of a desired product with biomass accumulation by simulating knockout combinations in the model and comparing resulting flux balances (Burgard 2003). In a similar fashion OptGene simulates the addition of metabolic pathways to increase product yield and decrease flux towards undesired by-products (Patil 2005). OptCouple combines the previously mentioned strategies as well as optimizing medium composition (Jensen 2019). OptSwap optimizes cofactor utilization by altering the NAD(H) and NADP(H) specificity of oxidoreductase enzymes (King 2013). Finally, Flux Scanning based on Enforced Objective Flux (FSEOF) optimizes a model for biomass accumulation and then gradually forces flux towards a target metabolite to display the overall changes in flux balance, indicating potential gene targets for up- and downregulation (Choi 2010).\n",
    "\n",
    "Both OptKnock and OptCouple encountered an error which could not be resolved. OptGene did not return any gene targets for gene knock-ins. As the final step in malonic acid production reduces NADP+ to NADPH, we suspect the overproduction of malonic acid has a drastic effect on cofactor balance. Unfortunately OptSwap did not return any gene targets for altered cofactor specificity, either with or without enforced flux towards malonic acid production. In an attempt to manually optimize cofactor usage the specificity of glyceraldehyde-3-phsophate dehydrogenase was changed from NAD(H) to NADP(H), which resulted in a slight increase in flux towards biomass accumulation. With methanol as a substrate FSEOF resulted in 53 reactions with a flux change over 0.01 (figure 1). All of the reactions involved in carbon metabolism as well as reactions directly towards the beta-alanine metabolism have increased fluxes, acetyl-CoA is produced from acetyl instead of pyruvate, the amino acid metabolism stops entirely and the cell starts to metabolize amino acids to maintain ATP requirements. \n",
    "\n",
    "\n",
    "![image.png](https://raw.githubusercontent.com/27410/group-assignment-2021-group-8-malonic-acid-in-k-phaffii/main/img/FSEOF.png)\n",
    " \n",
    "*Figure 8: Reactions with > 0.01 change in flux with a forced objective flux towards malonic acid production ranging form 0.18 to 1.8.*\n"
   ]
  },
  {
   "cell_type": "markdown",
   "metadata": {},
   "source": [
    "***455 words***"
   ]
  },
  {
   "cell_type": "markdown",
   "metadata": {},
   "source": [
    "***Improving the aspartate supply***"
   ]
  },
  {
   "cell_type": "markdown",
   "metadata": {},
   "source": [
    "Aspartate is cf Miao 2021 reported to have a large metabolic pool size in *K phaffii* also makes the reaction favorable. It is the goal to further improve this property to ensure a higher flux towards beta-alanine. Song 2016 engineered E.coli for 3HP and MA production. Part of the strategy was to facilitate aspartate formation by introducing direct amination of fumarate by aspartase. This was also implemented in the model through the reaction ASPAML but yet again with no significant results other than being a possible route in Fva."
   ]
  },
  {
   "cell_type": "markdown",
   "metadata": {},
   "source": [
    "Miao 2021 also works with improving aspartate availability but instead by improving supply from OAA. From the escher plots and fva it should be noticed that the opposite is occuring. By strengthening the OAA production through CO2 fixation these fluxes could possibly be redirected. This was done by introducing phosphoenolpyruvate carboxykinase from A. succinogenes (Hu 2018). How much it will improve the productivity in a real organism is however interesting, since the thermodynamics of the reaction may not allow such a big flux through this reaction."
   ]
  },
  {
   "cell_type": "markdown",
   "metadata": {},
   "source": [
    "***175 words***"
   ]
  },
  {
   "cell_type": "markdown",
   "metadata": {},
   "source": [
    "## 5. Discussion (<500 words)\n",
    "\n",
    "From the analysis it was shown that it should be possible to efficiently synthesise Malonic acid in *K. phaffii* using methanol as the substrate. The pathway of interest is through beta-alanine which was shown to be the most optimal of the ones experimented with. This was also in line with what was found in literature. However, it was not possible to recreate the findings of Miao; that introduction of an alternative malonic-semialdehyde producing enzyme BABAT increased the flux towards the important precursor metabolite. Also, a knockout of malonic-semialdehyde consuming reactions did not change anything. Linear programming mathematically identifies the maxima and will therefore redirect fluxes in a manner that is not necessarily possible in vivo. Without enzymatic constraints, and with flux boundaries set to +- 1000, a biologically unattainable snapshot of fluxes can be presented. Therefore, comparison of two reactions such as BABAT and APATr may not be constructive. \n",
    "\n",
    "However, tools employed such as FSEOF, FVA and visualizing the changes of fluxes in escher gives a good overview of what metabolic engineering strategies to implement. The most crucial change is to downregulate FALDtx and upregulate DAS, in order to redirect flux of formaldehyde towards the central carbon metabolism. But also the importance of oxaloacetate as a precursor was underlined. Instead of drawing it into the TCA, the ASPTAm is an important reaction that provides aspartate, that can be recycled for precursor generation but also drawn out for beta alanine production that can be further processed to malonic acid. Here it was shown that introducing the combination of phosphoenolpytuvate carboxykinase (ATP generating PPCK) and aspartase acting upon fumarate (ASPAML) led to more optimal phenotypic phase planes where more malonic acid can be produced at higher growth rates. These changes were, as mentioned implemented, in papers for beta-alanine and 3HP production, so the chance of succeeding is good.\n",
    "\n",
    "It should be investigated whether *K. Phaffii* actually can grow properly on methanol when genetically engineering a reroute of flux towards central carbon metabolism. It was shown in a study, that adaptive laboratory evolution induced a mutation upon the alcohol oxidase (AOD) and reduced formaldehyde formation, but still increased growth rate (Moser, 2017). The conclusion was that it is important to balance formaldehyde levels because it can be toxic to the organism. In theory, upregulation of DAS could aid in this balancing. This should be tested as the first thing, before implementing other changes in the production host.\n"
   ]
  },
  {
   "cell_type": "markdown",
   "metadata": {},
   "source": [
    "***403 words***"
   ]
  },
  {
   "cell_type": "markdown",
   "metadata": {},
   "source": [
    "## 6. Conclusion (<200 words)\n",
    "\n",
    "To generate a GSM of *K. Phaffii*, we first used KBase and CarveMe. The MEMOTE reports of those models either had a bad mass balance score or consisted of only three compartments. This led us to use the GSM iMT1026-v3 created by Tomàs-Gamisans et al in 2017 for further analysis. The pathways found in literature were compared and the most promising - the beta alanine pathway - was chosen for further analysis. Trying multiple model optimization techniques, we concluded that malonic acid production is possible using methanol as a substrate. This reaction has a severe impact on the growth of *K. Phaffii*. Therefore, it seems that the most promising strategy for our cell factory is to use an inducible system, allowing the strain to accumulate biomass before switching to malonic acid production. If initial lab tests prove that our pathway is feasible, a cost-benefit analysis needs to be done. In case of a positive outcome, the system can be leveraged to become a competitor on the global malonic acid production market."
   ]
  },
  {
   "cell_type": "markdown",
   "metadata": {},
   "source": [
    "***171 words***"
   ]
  },
  {
   "cell_type": "markdown",
   "metadata": {},
   "source": [
    "## References"
   ]
  },
  {
   "cell_type": "markdown",
   "metadata": {},
   "source": [
    "Bernauer, Lukas; Radkohl, Astrid; Lehmayer, Leonie Gabriela Katharina; Emmerstorfer-Augustin, Anita (2020): Komagataella phaffii as Emerging Model Organism in Fundamental Research. In: Frontiers in microbiology 11, S. 607028. DOI: 10.3389/fmicb.2020.607028.\n",
    "\n",
    "Borodina, Irina; Kildegaard, Kanchana R.; Jensen, Niels B.; Blicher, Thomas H.; Maury, Jérôme; Sherstyk, Svetlana et al. (2015): Establishing a synthetic pathway for high-level production of 3-hydroxypropionic acid in Saccharomyces cerevisiae via β-alanine. In: Metabolic engineering 27, S. 57–64. DOI: 10.1016/j.ymben.2014.10.003.\n",
    "\n",
    "Burgard AP, Pharkya P, Maranas CD. Optknock: a bilevel programming framework for identifying gene knockout strategies for microbial strain optimization. Biotechnol Bioeng. 2003 Dec 20;84(6):647-57. doi: 10.1002/bit.10803. PMID: 14595777.\n",
    "\n",
    "Choi HS, Lee SY, Kim TY, Woo HM: In silico identification of gene amplification targets for improvement of lycopene production. Appl Environ Microbiol. 2010, 76: 3097-3105. 10.1128/AEM.00115-10.\n",
    "\n",
    "Encyclopædia Britannica/Malonic Acid. (2021). Retrieved 17 November 2021, from https://en.wikisource.org/wiki/1911_Encyclop%C3%A6dia_Britannica/Malonic_Acid\n",
    "\n",
    "Gasser, Brigitte; Dragosits, Martin; Mattanovich, Diethard (2010): Engineering of biotin-prototrophy in Pichia pastoris for robust production processes. In: Metabolic engineering 12 (6), S. 573–580. DOI: 10.1016/j.ymben.2010.07.002.\n",
    "\n",
    "Gasser, Brigitte; Mattanovich, Diethard (2018): A yeast for all seasons - Is Pichia pastoris a suitable chassis organism for future bioproduction? In: FEMS microbiology letters 365 (17). DOI: 10.1093/femsle/fny181.\n",
    "\n",
    "Global Industry Report | Malonic Acid Market. (2021). Retrieved 17 November 2021, from https://www.transparencymarketresearch.com/malonic-acid-market.html\n",
    "\n",
    "Heistinger, Lina; Gasser, Brigitte; Mattanovich, Diethard (2020): Microbe Profile: Komagataella phaffii: a methanol devouring biotech yeast formerly known as Pichia pastoris. In: Microbiology (Reading, England) 166 (7), S. 614–616. DOI: 10.1099/mic.0.000958.\n",
    "\n",
    "Hildbrand, S., & Pollak, P. (2001). Malonic Acid and Derivatives. Ullmann's Encyclopedia Of Industrial Chemistry. doi: 10.1002/14356007.a16_063\n",
    "\n",
    "Irani, Z., Kerkhoven, E., Shojaosadati, S., & Nielsen, J. (2015). Genome-scale metabolic model of Pichia pastoris with native and humanized glycosylation of recombinant proteins. Biotechnology And Bioengineering, 113(5), 961-969. doi: 10.1002/bit.25863\n",
    "\n",
    "Jensen, K., Broeken, V., Hansen, A. S. L., Sonnenschein, N., & Herrgård, M. J. (2019). OptCouple: Joint simulation of gene knockouts, insertions and medium modifications for prediction of growth-coupled strain designs. Metabolic Engineering Communications, 8, [e00087]. https://doi.org/10.1016/j.mec.2019.e00087\n",
    "\n",
    "Kanehisa, M. Toward understanding the origin and evolution of cellular organisms. Protein Science. 2019; 28: 1947– 1951. https://doi.org/10.1002/pro.3715\n",
    "\n",
    "King, Z. A., & Feist, A. (2013). Optimizing Cofactor Specificity of Oxidoreductase Enzymes for the Generation of Microbial Production Strains—OptSwap. Industrial Biotechnology, 9(4), 236. https://doi.org/10.1089/ind.2013.0005\n",
    "\n",
    "Malonic Acid Market 2021 Comprehensive Report: Demand Analysis with Covid-19 Impact, Industry Size, Latest Trend Analysis, Impact of Covid-19, Top Players, Revenue Expectation, Development Status and Forecast to 2027. (2021). Retrieved 15 November 2021, from https://www.wboc.com/story/44796231/malonic-acid-market-2021-comprehensive-report-demand-analysis-with-covid-19-impact-industry-size-latest-trend-analysis-impact-of-covid-19-top-players\n",
    "\n",
    "Miao, L., Li, Y., & Zhu, T. (2021). Metabolic engineering of methylotrophic Pichia pastoris for the production of β-alanine. Bioresources And Bioprocessing, 8(1). doi: 10.1186/s40643-021-00444-9\n",
    "\n",
    "Miao, Liangtian; Li, Yin; Zhu, Taicheng (2021): Metabolic engineering of methylotrophic Pichia pastoris for the production of β-alanine. In: Bioresour. Bioprocess. 8 (1), S. 15. DOI: 10.1186/s40643-021-00444-9.\n",
    "\n",
    "Minoru Kanehisa, Miho Furumichi, Yoko Sato, Mari Ishiguro-Watanabe, Mao\n",
    "\n",
    "Minoru Kanehisa, Susumu Goto, KEGG: Kyoto Encyclopedia of Genes and Genomes, Nucleic Acids Research, Volume 28, Issue 1, 1 January 2000, Pages 27–30, https://doi.org/10.1093/nar/28.1.27\n",
    "\n",
    "Moser, J.W., Prielhofer, R., Gerner, S.M. et al. Implications of evolutionary engineering for growth and recombinant protein production in methanol-based growth media in the yeast Pichia pastoris . Microb Cell Fact 16, 49 (2017). https://doi.org/10.1186/s12934-017-0661-5\n",
    "\n",
    "Patil, K.R., Rocha, I., Förster, J. et al. Evolutionary programming as a platform for in silico metabolic engineering. BMC Bioinformatics 6, 308 (2005). https://doi.org/10.1186/1471-2105-6-308\n",
    "\n",
    "Peters, E., Schlakman, G., & Yang, E. (2018). Production of Malonic Acid through the Fermentation of Glucose. Senior Design Reports.\n",
    "\n",
    "Song, Chan Woo; Kim, Je Woong; Cho, In Jin; Lee, Sang Yup (2016): Metabolic Engineering of Escherichia coli for the Production of 3-Hydroxypropionic Acid and Malonic Acid through β-Alanine Route. In: ACS synthetic biology 5 (11), S. 1256–1263. DOI: 10.1021/acssynbio.6b00007.\n",
    "\n",
    "Tanabe, KEGG: integrating viruses and cellular organisms, Nucleic Acids Research, Volume 49, Issue D1, 8 January 2021, Pages D545–D551, https://doi.org/10.1093/nar/gkaa970\n",
    "\n",
    "Tomàs-Gamisans, M., Ferrer, P., & Albiol, J. (2016). Integration and Validation of the Genome-Scale Metabolic Models of Pichia pastoris: A Comprehensive Update of Protein Glycosylation Pathways, Lipid and Energy Metabolism. PLOS ONE, 11(1), e0148031. doi: 10.1371/journal.pone.0148031\n",
    "\n",
    "Tomàs-Gamisans, M., Ferrer, P., & Albiol, J. (2017). Fine-tuning the P. pastoris iMT1026 genome-scale metabolic model for improved prediction of growth on methanol or glycerol as sole carbon sources. Microbial Biotechnology, 11(1), 224-237. doi: 10.1111/1751-7915.12871\n",
    "\n",
    "Werpy, Todd A.; Holladay, John E.; White, James F. (August 2004). Top Value Added Chemicals from Biomass Volume I - Results of Screening for Potential Candidates from Sugars and Synthesis Gas. [https://www.pnnl.gov/main/publications/external/technical_reports/PNNL-14808.pdf]\n"
   ]
  }
 ],
 "metadata": {
  "kernelspec": {
   "display_name": "Python 3 (ipykernel)",
   "language": "python",
   "name": "python3"
  },
  "language_info": {
   "codemirror_mode": {
    "name": "ipython",
    "version": 3
   },
   "file_extension": ".py",
   "mimetype": "text/x-python",
   "name": "python",
   "nbconvert_exporter": "python",
   "pygments_lexer": "ipython3",
   "version": "3.9.5"
  }
 },
 "nbformat": 4,
 "nbformat_minor": 4
}
