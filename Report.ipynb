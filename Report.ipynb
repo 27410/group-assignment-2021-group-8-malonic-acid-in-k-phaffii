{
 "cells": [
  {
   "cell_type": "markdown",
   "metadata": {},
   "source": [
    "# Enhancing GSM of Komagataella pfaffii for production of malonic acid"
   ]
  },
  {
   "cell_type": "markdown",
   "metadata": {},
   "source": [
    "## 1. Introduction"
   ]
  },
  {
   "cell_type": "markdown",
   "metadata": {},
   "source": [
    "### 1.1 Literature review of the compound"
   ]
  },
  {
   "cell_type": "markdown",
   "metadata": {},
   "source": [
    "The naturally occurring compound malonic acid was first discovered in beetroots. Even though is was first prepared in 1858 (Encyclopædia Britannica), it is still very relevant in today's market. Malonic acid is traditionally produced synthetically from nonrenewable petroleum feedstock. During this process ester groups are added using an alcohol (Hildbrand, 2001). The use of non-renewable resources is neither environmentally friendly, nor will it be financially lucrative in the future. Recently, the company Lygos Inc. has developed and patented a method for the production of malonic acid through fermentation with genetically modified *Pichia Kudriavzevii* yeast cells (Peters, 2018). These efforts reflect the vast amount of uses for malonic acid in modern industry and the interest in a switch to sustainable production of this compound.\n",
    "\n",
    "\n",
    "![Malonic acid](https://raw.githubusercontent.com/27410/group-assignment-2021-group-8-malonic-acid-in-k-phaffii/main/img/malonic_acid.png?token=AFITQ5WD4ATJULL32TF6LELBUJ3AU \"Malonic acid\")\n",
    "\n",
    "*Figure 1*:  Molecular Structure of Malonic Acid.\n",
    "\n",
    "\n",
    "#### 1.1.1 Use of malonic acid and potential\n",
    "\n",
    "The molecule can be converted into 1,3 propanediol and is often used as a precursor for polyesters and polymers. Furthermore, malonic acid sees use in a variety of industries, such as the electronics, flavor, pharmaceutical, fragrance and coating industry. According to market research, interest and annual sale of the compound will continue to rise (Global Industry Report) and the political pressure to utilize bio-based synthetic compounds will further expand the market. The global market cap is predicted to rise from USD 46 million in 2020 to USD 55 million by the end of 2027 (Malonic Acid Market 2021 Comprehensive Report).\n",
    "\n",
    "The US Department of Energy listed malonic acid as one of the top 30 chemicals to be produced from biomass (Werpy, 2004). According to this report it is ideally produced via 3-Hydroxypropionate from sugars like Glucose, Fructose, Xylose,Arabinose, Lactose, Sucrose or Starch. The compound can be derived from beta alanine, which can efficiently be produced from methanol (Miao, 2021). In modern sustainable production, methanol is considered to be a promising feedstock, since it provides highly reduced carbon and is not competing with food sources, therefore our goal is to use methanol as substrate.\n"
   ]
  },
  {
   "cell_type": "markdown",
   "metadata": {},
   "source": [
    "***331 words***"
   ]
  },
  {
   "cell_type": "markdown",
   "metadata": {},
   "source": [
    "### 1.2 Literature review of the cell factory"
   ]
  },
  {
   "cell_type": "markdown",
   "metadata": {},
   "source": [
    "For this project we have chosen to use the methylotropic yeast _Komagataella phaffii_ as a cell chassis. The organism is also known under the outdated misnomer _Pichia pastoris_, which is still often used in applied sciences. The genus _Komagataella_ comprises of 7 species, of which _K. phaffii_ and _K. pastoris_ are most widely used and the only ones that have been studied in detail (Heistinger 2020). \n",
    "\n",
    "\n",
    "![Komagataella phaffii](https://raw.githubusercontent.com/27410/group-assignment-2021-group-8-malonic-acid-in-k-phaffii/main/img/komagataella_phaffii.png?token=AFITQ5UF4AFCE7NLBJHUK7TBUJ2XS \"Komagataella phaffii\")\n",
    "\n",
    "*Figure 2*: *K. phaffii* Source: https://www.hcp-detection.org/expression-systems-for-therapeutic-biopharmaceuticals/expression-system-pichia-pastoris/#prettyPhoto/0/\n"
   ]
  },
  {
   "cell_type": "markdown",
   "metadata": {},
   "source": [
    "#### 1.2.1\tGeneral Advantages\n",
    "_Komagataella phaffii_ is a methylotrophic, Crabtree negative, non-pathogenic yeast which is widely used as a cell factory. The organism grows very fast on glucose or glycerol, attaining high biomass concentrations and can use ammonium as a nitrogen source (Heistinger 2020). The species is known as a robust cell chassis with high genetic stability and great endurance against mechanical and physiological stress (Gasser 2018). In addition, it is able to grow on methanol as the only carbon source due to its effective methanol assimilation, mediated by the presence of strong methanol-inducible promoters (Heistinger 2020). This is exploited in metabolic engineering by introducing recombinant genes into the methanol assimilation pathway (Bernauer 2021) and using these regulatory elements to promote the production of a target metabolite. _K. phaffii_ also possesses other pathways that can be utilized in a similar fashion. Due to their eukariotic nature, the cells allow the production of biopharmaceuticals with complex human like glycan structures (Heistinger 2020). There are well-established and elaborate strategies for genetic modification of _K. phaffii_ and recent advances allawoed it to emerge as a viable model organism. In a recent study, a synthetic pathay similar to the CBB-Cycle was sucessfully introduced into a strain, allowing growth using CO2 as the sole carbon source (Bernauer 2021)."
   ]
  },
  {
   "cell_type": "markdown",
   "metadata": {},
   "source": [
    "#### 1.2.2\tGeneral Disadvantages\n",
    "As a Crabtree-negative yeast _K. phaffii_ is not capable of fermentative process under anaerobic conditions. This makes the cells very dependent and sensitive on oxygen supply. Sufficient aeration of the fermentation broth is often the limiting factor with respect to biomass accumulation (Bernauer 2021). High oxygen uptake during methanol assimilation also results in substantial biochemical reaction heat formation, which complicates process control and tank design (Gasser 2018). Furthermore the cells show a need for biotin supplemented to the feeding media (Bernauer 2021). Overall, _K. phaffii_ is less studied than _S. cerevisiae_, which has seen use for centuries and its processes are refined and proven (Gasser 2018)."
   ]
  },
  {
   "cell_type": "markdown",
   "metadata": {},
   "source": [
    "#### 1.2.3\tSuitability of the cell factory for the product\n",
    "The existing metabolism already produces beta-alanine, a key precursor in the pathway towards malonic acid. The addition of two enzymatic reactions is sufficient to allow production (Miao 2021, Song 2016). As mentioned before, the biggest advantage of _K. phaffii_ is the native capacity for methanol assimilation of the organism. The regulatory mechanisms present also allow the use of methanol-inducible enzymes which provide an interesting opertunity for two stage fermentations (Gasser 2018, Bernauer 2021). For example, the strain could be grown on a carbon source allowing rapid biomass accumulation before switching to methanol to induce the production of the desired metabolite."
   ]
  },
  {
   "cell_type": "markdown",
   "metadata": {},
   "source": [
    "***500 words***"
   ]
  },
  {
   "cell_type": "markdown",
   "metadata": {},
   "source": [
    "## 2. Problem definition (<300 words)"
   ]
  },
  {
   "cell_type": "markdown",
   "metadata": {},
   "source": [
    "The goal of this project is to model and optimize a hypothetical *K. phaffii* strain which uses methanol as a substrate for the production of malonic acid. This strain will help to work towards sustainability goals and a circular economy by utilizing a cheap substrate which is generally considered a by-product of fermentation, to produce a valuable product used in many different industries.\n",
    "\n",
    "Several genome-scale metabolic models described in literature, as well as models created from scratch are considered and compared based on completeness, mass balance and annotation. *K. phaffii* does not natively produce malonic acid, thus four different pathways producing malonic acid are manually added to the model and theoretical product yields are compared. Finally, as the organism has a tendency to invest resources into growth rather than production of secondary metabolites, several tools are used to attempt to couple biomass accumulation with malonic acid production and further optimize metabolic flux towards the product. A general strategy for the development of this cellfactory is presented, based on these analyses."
   ]
  },
  {
   "cell_type": "markdown",
   "metadata": {},
   "source": [
    "***170 words***"
   ]
  },
  {
   "cell_type": "markdown",
   "metadata": {
    "tags": []
   },
   "source": [
    "## 3. Selection and assessment of existing GSM (<500 words)\n",
    "\n",
    "For *K. phaffii* (including under the name _Pichia pastoris_), three GSM models were published between 2010-2012 and were are the most complete and acknowledged models in literature at the time (Tomàs-Gamisans, 2016). We found all three, imported them through COBRA and ran tests on MEMOTE to check their quality. The memote reports can be found [here](https://github.com/27410/group-assignment-2021-group-8-malonic-acid-in-k-phaffii/tree/main/reports).\n",
    "\n",
    "*Table 1*: \n",
    "\n",
    "|                            | PpaMBEL1254 | iPP668 | iLC915 |\n",
    "|----------------------------|-------------|--------|--------|\n",
    "| __Number of metabolites__  | 1058        | 1178   | 2301   |\n",
    "| __Number of reactions__    | 1254        | 1361   | 1506   |\n",
    "| __Number of compartments__ | 1           | 8      | 8      |\n",
    "| __Memote overall score__   | 19%         | 20%    | 27%    |\n",
    "\n",
    "\n",
    "Since then there have been improvements and reconstructions of these models. Among others, an update from 2016 more accurately predicted native and humanized glycosylation of recombinant proteins(Irani, 2015). The number of metabolites and reactions was increased to 1443 and 1595 respectively and mass balance was improved with 19.7% (cf. memote reports). In 2016 the three models were merged together to form the model iMT1026 (Tomàs-Gamisans, 2016). This model was later improved to iMT1026.V3 for better predictions of growth on methanol (Tomàs-Gamisans, 2017), which is relevant for our case study. In addition, the reconstruction tools CarveMe and KBase were also experimented with. While CarveMe yields impressive memote results, including correct annotation which iMT1026 lacks, the resulting model contains only three compartments, which is not representative for a fungal organism such as P. Pastoris. After a lot of effort, Kbase successfully created a fungal model based on the *K. phaffii* refseq from NCBI. Unfortunately, the memote results were not very promising. A [script](https://github.com/27410/group-assignment-2021-group-8-malonic-acid-in-k-phaffii/blob/main/scripts/selection_and_assessment_of_existing_GSM.ipynb) was set up to test if the two models accurately predicted growth on the minimal medium proposed in (Tomàs-Gamisans, 2017), containing methanol as sole carbon source. It was not possible for either of them. Collecting the non-carbon medium components necessary for growth and adding these to the base medium allowed the CarveMe model to have small but positive growth rates, while the Kbase model could still not utilize methanol. Finally, iMT1026.V3 was selected for this project as it represents the most recent advancements in metabolic modelling for *K. phaffii* and has been validated experimentally for growth on methanol. This implies that the mechanisms of the central carbon metabolism have been accurately replicated. Accurate simulation of the malonate producing pathways heavily relies on this metabolic regime being representative, since the reactions do not branch far away from the central carbon metabolism. The model only gets an overall memote score of 19%, caused by missing annotation and charge balancing. It has 100% metabolite connectivity and 90.6% mass balancing and should to some extent be able to produce reliable predictions. A concern however arises from the missing charge balance, causing errors in the non-growth associated maintenance reaction. It is known that maintenance becomes more relevant for low growth rates in fermentation and genetically engineered *K. phaffii* using methanol as substrate is expected to be have a low growth rate. Hopefully, this will not influence the results too much but should nonetheless be taken into consideration."
   ]
  },
  {
   "cell_type": "markdown",
   "metadata": {},
   "source": [
    "***456 words***"
   ]
  },
  {
   "cell_type": "markdown",
   "metadata": {},
   "source": [
    "## 4. Computer-Aided Cell Factory Engineering (<1500 Words)"
   ]
  },
  {
   "cell_type": "markdown",
   "metadata": {},
   "source": [
    "### 4.1 Add heterologous pathway to GSM"
   ]
  },
  {
   "cell_type": "markdown",
   "metadata": {},
   "source": [
    "Borodina et al. describe 4 different pathways to get to 3-hydroxy propionic acid with *K phaffii*, and most of them go through malonic semialdehyde (Borodina 2014). This metabolite can serve as a precursor for both malonic acid and 3-hydroxy propionic acid and therefore serve as a starting point for this cell factory project. The reactions, enzymes and corresponding metabolites were investigated using the Kyoto Encyclopedia of Genes and Genomes KEGG dtabase (Kanehisa 2000, Kanehisa 2019, Kanehisa 2021). The described pathways included in the model are:\n",
    "- **Beta-Alanine**  \n",
    "For this pathway two steps are necessary, first beta-alanine is changed to malonate semialdehyde using a transferase enzyme to transfer its amino group. This reaction is already present in the used model. Afterwards malonic acid is produced through a hydrolysis reaction which uses NADP+ as a cofactor.\n",
    "- **Malonyl-CoA**  \n",
    "There are two possible pathways and both are implemented. The first goes directly from malonyl-coa to malonic acid through a transferase reaction. The second uses a two-step process, first producing malonate semialdehyde in an oxidoreductive path. In the latter, the beta-alanine transferase pathway has to be shut down to force the flux towards malonyl-coa.\n",
    "- **Lactate**  \n",
    "This pathway requires several steps that include an inital transferase to add lactate onto co-enzym A, which is followed by several hydratase steps. Finally, 3-hydroxypropionic acid is produced by splitting it from a coa base. This metabolite is then transformed into malonate semialdehyde and finally into malonic acid.\n",
    "- **Glycerol**  \n",
    "The glycerol pathway was dropped because it needs B12 as a cofactor, which is not naturally present in *K. phaffii*.  \n",
    "\n",
    "The pathways are established by using the script [create_pathway](https://github.com/27410/group-assignment-2021-group-8-malonic-acid-in-k-phaffii/blob/main/scripts/create_pathway.ipynb), which inserts one or several new enzyms and deletes competing ones that divert flux from the pathway. See code for more detailed descriptions."
   ]
  },
  {
   "cell_type": "markdown",
   "metadata": {},
   "source": [
    "***296 words***"
   ]
  },
  {
   "cell_type": "code",
   "execution_count": 1,
   "metadata": {},
   "outputs": [],
   "source": [
    "# Importing used packages and model\n",
    "%matplotlib inline \n",
    "from cobra.io import read_sbml_model\n",
    "from cobra import Reaction, Metabolite\n",
    "import pandas as pd\n",
    "model = read_sbml_model('src/models/gen/iMT1026-v3.1.xml')\n",
    "%run -i scripts/create_pathway.ipynb  # runs other script with included function to alter model by including pathways"
   ]
  },
  {
   "cell_type": "code",
   "execution_count": 2,
   "metadata": {},
   "outputs": [
    {
     "name": "stdout",
     "output_type": "stream",
     "text": [
      "Added beta alanine pathway\n",
      "Added trans malonyl-CoA pathway\n",
      "Added red malonyl-CoA pathway\n",
      "Added lactate pathway\n"
     ]
    }
   ],
   "source": [
    "# creating the models with the respective pathways\n",
    "beta_model = create_pathway(model.copy(),1)\n",
    "trn_malonyl_model = create_pathway(model.copy(),2)\n",
    "red_malonyl_model = create_pathway(model.copy(),3)\n",
    "lactate_model = create_pathway(model.copy(),4)\n",
    "models = [(beta_model,'Beta-Alanine'),(trn_malonyl_model,'Malonyl-CoA Transferase'),(red_malonyl_model,'Malonyl-CoA Oxidored'),(lactate_model,'Lactate')]"
   ]
  },
  {
   "cell_type": "markdown",
   "metadata": {},
   "source": [
    "### 4.2 Analyzing the pathways\n",
    "The production of the different pathways under several conditions is analyzed using phenotypic phase planes. The full code can be found in the script [pathway_evaluations](https://github.com/27410/group-assignment-2021-group-8-malonic-acid-in-k-phaffii/blob/main/scripts/Pathway_evaluation.ipynb)."
   ]
  },
  {
   "cell_type": "markdown",
   "metadata": {},
   "source": [
    "#### 4.2.1 Defining the medium\n",
    "First the used medium for the simulations is defined and the carbon source is changed to methanol with the uptake rates based on experimental data (Tomàs‐Gamisans 2018)."
   ]
  },
  {
   "cell_type": "code",
   "execution_count": 3,
   "metadata": {},
   "outputs": [
    {
     "name": "stdout",
     "output_type": "stream",
     "text": [
      "Table 2: Medium composition\n"
     ]
    },
    {
     "data": {
      "text/html": [
       "<div>\n",
       "<style scoped>\n",
       "    .dataframe tbody tr th:only-of-type {\n",
       "        vertical-align: middle;\n",
       "    }\n",
       "\n",
       "    .dataframe tbody tr th {\n",
       "        vertical-align: top;\n",
       "    }\n",
       "\n",
       "    .dataframe thead th {\n",
       "        text-align: right;\n",
       "    }\n",
       "</style>\n",
       "<table border=\"1\" class=\"dataframe\">\n",
       "  <thead>\n",
       "    <tr style=\"text-align: right;\">\n",
       "      <th></th>\n",
       "      <th>Ex_h2o</th>\n",
       "      <th>Ex_nh4</th>\n",
       "      <th>Ex_pi</th>\n",
       "      <th>Ex_h</th>\n",
       "      <th>Ex_o2</th>\n",
       "      <th>Ex_so4</th>\n",
       "      <th>Ex_glyc</th>\n",
       "      <th>Ex_fe2</th>\n",
       "      <th>Ex_btn</th>\n",
       "      <th>Ex_k</th>\n",
       "      <th>Ex_meoh</th>\n",
       "    </tr>\n",
       "  </thead>\n",
       "  <tbody>\n",
       "    <tr>\n",
       "      <th>name</th>\n",
       "      <td>H2O</td>\n",
       "      <td>Ammonium</td>\n",
       "      <td>Phosphate</td>\n",
       "      <td>H+</td>\n",
       "      <td>Oxygen</td>\n",
       "      <td>Sulfate</td>\n",
       "      <td>Glycerol</td>\n",
       "      <td>Fe2+</td>\n",
       "      <td>Biotin</td>\n",
       "      <td>potassium</td>\n",
       "      <td>Methanol</td>\n",
       "    </tr>\n",
       "    <tr>\n",
       "      <th>uptake</th>\n",
       "      <td>1000</td>\n",
       "      <td>1000</td>\n",
       "      <td>1000</td>\n",
       "      <td>1000</td>\n",
       "      <td>1000</td>\n",
       "      <td>1000</td>\n",
       "      <td>0</td>\n",
       "      <td>1000</td>\n",
       "      <td>4e-05</td>\n",
       "      <td>1000</td>\n",
       "      <td>6</td>\n",
       "    </tr>\n",
       "  </tbody>\n",
       "</table>\n",
       "</div>"
      ],
      "text/plain": [
       "       Ex_h2o    Ex_nh4      Ex_pi  Ex_h   Ex_o2   Ex_so4   Ex_glyc Ex_fe2  \\\n",
       "name      H2O  Ammonium  Phosphate    H+  Oxygen  Sulfate  Glycerol   Fe2+   \n",
       "uptake   1000      1000       1000  1000    1000     1000         0   1000   \n",
       "\n",
       "        Ex_btn       Ex_k   Ex_meoh  \n",
       "name    Biotin  potassium  Methanol  \n",
       "uptake   4e-05       1000         6  "
      ]
     },
     "metadata": {},
     "output_type": "display_data"
    }
   ],
   "source": [
    "# General medium for all models based on the unchanged vanilla model (=same medium as in all derived models)\n",
    "medium = model.medium\n",
    "medium['Ex_meoh'] = 6  # Realistic methanol uptake rates cf.Tomàs‐Gamisans 2018\n",
    "medium['Ex_glyc'] = 0  # setting the other carbon source gylcerol to zero\n",
    "print('Table 2: Medium composition')\n",
    "# create a data frame to plot a table\n",
    "med_names = dict()\n",
    "for flux in medium:\n",
    "    meta = model.reactions.get_by_id(flux).metabolites\n",
    "    for element in meta:\n",
    "        med_names[flux] = element.name\n",
    "df_med = pd.DataFrame(medium, index=['uptake'])\n",
    "df_names = pd.DataFrame(med_names, index=['name'])\n",
    "display(pd.concat([df_names,df_med]))"
   ]
  },
  {
   "cell_type": "markdown",
   "metadata": {},
   "source": [
    "#### 4.2.2 Theoretical maximum yields\n",
    "Phenotypic phaseplanes are constructed to investigate the relation between the malonic acid production and biomass accumulation for each pathway."
   ]
  },
  {
   "cell_type": "code",
   "execution_count": 6,
   "metadata": {},
   "outputs": [
    {
     "name": "stdout",
     "output_type": "stream",
     "text": [
      "General maximum biomass growth 0.0951 mmol/gDW*h\n",
      "Table 3: Product yield of different pathways\n"
     ]
    },
    {
     "data": {
      "text/html": [
       "<div>\n",
       "<style scoped>\n",
       "    .dataframe tbody tr th:only-of-type {\n",
       "        vertical-align: middle;\n",
       "    }\n",
       "\n",
       "    .dataframe tbody tr th {\n",
       "        vertical-align: top;\n",
       "    }\n",
       "\n",
       "    .dataframe thead th {\n",
       "        text-align: right;\n",
       "    }\n",
       "</style>\n",
       "<table border=\"1\" class=\"dataframe\">\n",
       "  <thead>\n",
       "    <tr style=\"text-align: right;\">\n",
       "      <th></th>\n",
       "      <th>Beta-Alanine</th>\n",
       "      <th>Malonyl-CoA Transferase</th>\n",
       "      <th>Malonyl-CoA Oxidored</th>\n",
       "      <th>Lactate</th>\n",
       "    </tr>\n",
       "    <tr>\n",
       "      <th>Maximum</th>\n",
       "      <th></th>\n",
       "      <th></th>\n",
       "      <th></th>\n",
       "      <th></th>\n",
       "    </tr>\n",
       "  </thead>\n",
       "  <tbody>\n",
       "    <tr>\n",
       "      <th>carbon yield</th>\n",
       "      <td>1.0</td>\n",
       "      <td>1.0</td>\n",
       "      <td>0.982837</td>\n",
       "      <td>0.881316</td>\n",
       "    </tr>\n",
       "    <tr>\n",
       "      <th>MA flux in mmol/gDW*h</th>\n",
       "      <td>2.0</td>\n",
       "      <td>2.0</td>\n",
       "      <td>1.965673</td>\n",
       "      <td>1.762632</td>\n",
       "    </tr>\n",
       "  </tbody>\n",
       "</table>\n",
       "</div>"
      ],
      "text/plain": [
       "                       Beta-Alanine  Malonyl-CoA Transferase  \\\n",
       "Maximum                                                        \n",
       "carbon yield                    1.0                      1.0   \n",
       "MA flux in mmol/gDW*h           2.0                      2.0   \n",
       "\n",
       "                       Malonyl-CoA Oxidored   Lactate  \n",
       "Maximum                                                \n",
       "carbon yield                       0.982837  0.881316  \n",
       "MA flux in mmol/gDW*h              1.965673  1.762632  "
      ]
     },
     "metadata": {},
     "output_type": "display_data"
    },
    {
     "data": {
      "text/plain": [
       "Text(0, 0.5, 'Carbon yield MA / Substrate')"
      ]
     },
     "execution_count": 6,
     "metadata": {},
     "output_type": "execute_result"
    },
    {
     "data": {
      "image/png": "[encoded data removed]",
      "text/plain": [
       "<Figure size 432x288 with 1 Axes>"
      ]
     },
     "metadata": {
      "needs_background": "light"
     },
     "output_type": "display_data"
    }
   ],
   "source": [
    "from cobra.flux_analysis.phenotype_phase_plane import production_envelope\n",
    "\n",
    "model.medium = medium\n",
    "model.objective = model.reactions.get_by_id('Ex_biomass')\n",
    "\n",
    "df_yields = pd.DataFrame()\n",
    "df_max = pd.DataFrame(index=['carbon yield','MA flux in mmol/gDW*h'])\n",
    "df_max.index.name = 'Maximum'\n",
    "max_growth = model.slim_optimize()\n",
    "print('General maximum biomass growth',round(max_growth,4),'mmol/gDW*h')\n",
    "\n",
    "for pairing in models:\n",
    "    pathway_model = pairing[0]\n",
    "    with pathway_model:\n",
    "        pathway_model.medium = medium\n",
    "        pathway_model.objective = pathway_model.reactions.get_by_id('Ex_mln')\n",
    "        ppp = production_envelope(pathway_model,\n",
    "                    reactions='Ex_biomass',\n",
    "                    objective='Ex_mln')\n",
    "        df_yields[pairing[1]]=ppp.carbon_yield_maximum\n",
    "        df_max[pairing[1]]=[ppp.carbon_yield_maximum.max(),ppp.flux_maximum.max()]\n",
    "\n",
    "print('Table 3: Product yield of different pathways')\n",
    "display(df_max)\n",
    "df_yields['Ex_biomass'] = ppp.Ex_biomass\n",
    "df_yields.plot(x='Ex_biomass', y=[pairing[1] for pairing in models], title='Pathway carbon yields').set_ylabel('Carbon yield MA / Substrate')"
   ]
  },
  {
   "cell_type": "markdown",
   "metadata": {},
   "source": [
    "Table [X] and graph [Y] describe the absolute values for carbon yield and malonic acid production, as well as the dependency on growth rate. The beta-alanine and the malonyl-coa transferase pathway show the best performance with higher absolute values and a curvature that indicates higher production. Based on these results, the oxidoreductive malonly-coa and lactate pathways are not considered for further analysis."
   ]
  },
  {
   "cell_type": "markdown",
   "metadata": {},
   "source": [
    "***147 words for 4.2 until here***"
   ]
  },
  {
   "cell_type": "markdown",
   "metadata": {},
   "source": [
    "#### 4.2.3 Optimal O2 uptake\n",
    "Analysis of the influence of oxygen uptake on model performance. Three objective functions are investigated, the maximum malonic acid production, the maximum biomass growth and the maximum malonic acid production with a forced flux towards growth equal to half the maximum value."
   ]
  },
  {
   "cell_type": "markdown",
   "metadata": {},
   "source": [
    "*Table 4: Optimal oxygen uptake rate for the respective pathways and objective function in the form of (O2 uptake rate, maximum flux)*![O2 uptake table](https://raw.githubusercontent.com/27410/group-assignment-2021-group-8-malonic-acid-in-k-phaffii/main/img/o2_uptake_table.PNG \"O2 uptake table\")\n",
    "\n",
    "\n",
    "![O2 uptake graph](https://raw.githubusercontent.com/27410/group-assignment-2021-group-8-malonic-acid-in-k-phaffii/main/img/o2_uptake.png \"O2 uptake graph\")\n",
    "\n",
    "*Figure 4: Maximum flux as a function of the O2 uptake rate for both pathways and three different objective functions, biomass growth rate values are scaled by a factor of 20*\n",
    "\n"
   ]
  },
  {
   "cell_type": "markdown",
   "metadata": {},
   "source": [
    "The models seem to have identical oxygen uptake dynamics. Between the two objectives the optimal oxygen uptake is slightly higher for the biomass growth and a difference in the curvature is visible. Only for the analysis with constrained growth a slight difference between the two pathways can be observed in the peak of maximum flux.  \n",
    "  \n",
    "The optimal oxygen uptake rate depends on the metabolic objective and should therefore be determined for a fixed growth rate."
   ]
  },
  {
   "cell_type": "markdown",
   "metadata": {},
   "source": [
    "***117 words***"
   ]
  },
  {
   "cell_type": "markdown",
   "metadata": {},
   "source": [
    "#### 4.2.4 Optimal methanol uptake rate\n",
    "The same procedure as for the oxygen uptake rate was applied to determine the optimal methanol flux and determine optimal growth conditions. The constrained growth condition is dependent on the methanol uptake rate and can therefore not be imlemented in a meaningful way in this simulation."
   ]
  },
  {
   "cell_type": "markdown",
   "metadata": {},
   "source": [
    "*Table 5: Optimal methanol uptake rate for the respective pathways and objective function in the form of (meoh uptake rate, maximum flux)*\n",
    "![MeOH uptake table](https://raw.githubusercontent.com/27410/group-assignment-2021-group-8-malonic-acid-in-k-phaffii/main/img/meoh_uptake_table.PNG \"MeOH uptake table\")\n",
    "\n",
    "\n",
    "![MeOH uptake graph](https://raw.githubusercontent.com/27410/group-assignment-2021-group-8-malonic-acid-in-k-phaffii/main/img/meoh_uptake.png \"MeOH uptake graph\")\n",
    "\n",
    "*Figure 5: Maximum flux as a function of the methanol uptake rate for both pathways and two different objective functions*\n"
   ]
  },
  {
   "cell_type": "markdown",
   "metadata": {},
   "source": [
    "The results show that both pathways have the same dynamics. Between the two objecties the maximum flux for malonic acid production requires a higher uptake rate than biomass growth. The malonic acid flux is about a third of the methanol uptake rate at maximum flux, which is the same relation as the amount of carbon atoms between the two molecules.    \n",
    "It is interesting to see that a carbon source repression seems to happen after the maximum is reached. The exact reason for this phenomena is not clear, since no other substrate is limiting production. Furthermore, the decrease back to zero would mean that the cells die at to high methanol uptake rates."
   ]
  },
  {
   "cell_type": "markdown",
   "metadata": {},
   "source": [
    "***171 words***"
   ]
  },
  {
   "cell_type": "markdown",
   "metadata": {},
   "source": [
    "### 4.3 Further medium investigation\n",
    "A further investigation into the medium components is conducted to better understand the metabolism. All the used code to retrieve the data and graphs, as well as additional informations can be found in the script [substrate_alternatives](https://github.com/27410/group-assignment-2021-group-8-malonic-acid-in-k-phaffii/blob/main/scripts/Substrate_alternatives.ipynb)."
   ]
  },
  {
   "cell_type": "markdown",
   "metadata": {},
   "source": [
    "#### 4.3.1 Minimal media\n",
    "First the essential media components to achieve a specified growth rate or flux towards malonic acid production are obtained and shown below. \n",
    "The model needs only a few substrates to ensure the growth and production, with malonic acid production needing even fewer. In both cases substrate is the limiting factor. These results have to be assessed critically. For example, the complex additive Biotin does not seem essential, but it is known to be an important co-factor for some reactions in yeasts (Gasser 2010)."
   ]
  },
  {
   "cell_type": "markdown",
   "metadata": {},
   "source": [
    "*Table 6: Components of the minimal media for the respective pathwas and objective functions*\n",
    "![Minimal medium table](https://raw.githubusercontent.com/27410/group-assignment-2021-group-8-malonic-acid-in-k-phaffii/main/img/min_med_table.PNG \"Minimal medium table\")"
   ]
  },
  {
   "cell_type": "markdown",
   "metadata": {},
   "source": [
    "#### 4.3.2 Other carbon sources\n",
    "To further explore the potential of the cellfactory, all possible carbon sources are investigated and the obtained maximum fluxes are compared. An in depth analysis can be found in [substrate_alternatives](https://github.com/27410/group-assignment-2021-group-8-malonic-acid-in-k-phaffii/blob/main/scripts/Substrate_alternatives.ipynb). Here, only the malonic acid production with a growth constraint is discussed. Results are normalized by setting up the media with the same cmol based substrate flux."
   ]
  },
  {
   "cell_type": "markdown",
   "metadata": {},
   "source": [
    "\n",
    "![Substrates bargraph](https://raw.githubusercontent.com/27410/group-assignment-2021-group-8-malonic-acid-in-k-phaffii/main/img/substrates_bargraph.png \"Substrates bargraph\")\n",
    "\n",
    "*Figure 7: Comparison of the maximum malonic acid production with 50% growth rate for all feasible carbon sources in the model*\n"
   ]
  },
  {
   "cell_type": "markdown",
   "metadata": {},
   "source": [
    "Several substrates show better growth and production performance than methanol, which can be explained by the chemical energy contained in these substrates or the location where they enter the carbon metabolism. Clearly production and the growth can be increased by switching to a different substrate."
   ]
  },
  {
   "cell_type": "markdown",
   "metadata": {},
   "source": [
    "***219 words***"
   ]
  },
  {
   "cell_type": "markdown",
   "metadata": {},
   "source": [
    "### 4.4 Optimization"
   ]
  },
  {
   "cell_type": "markdown",
   "metadata": {},
   "source": [
    "***Methanol assimilation***:\n",
    "\n",
    "Optimal utilisation of methanol could indeed be a step towards more sustainable production and better process economics. The drawbacks behind methanol assimilation are therefore further investigated. For visualisation, the template escher map for the comparable *S. cerevisiae* was used. After curation of some reaction IDs, the methanol uptake pathway and the important reactions in the beta-alanine pathway could be added."
   ]
  },
  {
   "cell_type": "code",
   "execution_count": null,
   "metadata": {},
   "outputs": [],
   "source": [
    "with model:  \n",
    "    model.objective = model.reactions.biomass\n",
    "    solution = model.optimize()\n",
    "    import escher\n",
    "    from IPython.display import display\n",
    "    b = escher.Builder(map_json = 'misc/iMM904.Central_carbon_metabolism.json', reaction_data = solution.fluxes.to_dict(),highlight_missing=True, model=model)\n",
    "    display(b)"
   ]
  },
  {
   "cell_type": "markdown",
   "metadata": {},
   "source": [
    "![Escher plot](https://raw.githubusercontent.com/27410/group-assignment-2021-group-8-malonic-acid-in-k-phaffii/0c066bedec6c5fda0dbaf87301ad6637f749702a/img/saved_map.svg \"Escher plot\")\n",
    "*Figure 8: Escher with added pathways*"
   ]
  },
  {
   "cell_type": "markdown",
   "metadata": {},
   "source": [
    "Approximately a third of the formaldehyde flux is taken down the path and oxidized in reactions FALDH2 and FDH to produce reducing power in form of NADH (82.2% of all contribution NADH as seen in FVA analysis in the script associated with this [section](https://github.com/27410/group-assignment-2021-group-8-malonic-acid-in-k-phaffii/blob/main/scripts/Methanol_assmilation.ipynb)). It was also shown by (Schroer 2009) that FALDH2 is the main bottleneck for NADH generation. This illustrates why malonate is an interesting choice of product through the beta-alanine pathway; the final step regenerates NADH. Constraining the biomass formation to 50% and optimizing for malonate production, 29.18% of the necessary NADH is generated by MSADH and only 30.3% is thus needed from the formaldehyde oxidation steps. "
   ]
  },
  {
   "cell_type": "markdown",
   "metadata": {},
   "source": [
    "\n",
    "![Fva table](https://raw.githubusercontent.com/27410/group-assignment-2021-group-8-malonic-acid-in-k-phaffii/main/img/fva_pic.png \"Fva table\")\n",
    "*Figure 9: Extract of FVA analysis at 50% growth optimizing for Malonic acid*"
   ]
  },
  {
   "cell_type": "markdown",
   "metadata": {},
   "source": [
    "With the same setup, but instead having beta-alanine as the product optimized for, FALDH2 and FDH have to constitute 67.58% of NADH generation. The resulting yield of beta-alanine becomes 0.36 g ala_B/g meoh while it almost doubles for malonate (0.62 g mln/g meoh).\n",
    "\n",
    "It is clear that the NADH/NADPH balance is important for optimizing growth and improving productivity. Much experimentation with manual cofactor swaps was peformed to check for more optimal routes. It was managed to improve the base growth rate by swapping NADH with NADPH in GAPD in glycolysis, but only by 0.0022 h^-1 and it did not improve the phenotypic phase plane significantly."
   ]
  },
  {
   "cell_type": "markdown",
   "metadata": {},
   "source": [
    "***289 words***"
   ]
  },
  {
   "cell_type": "markdown",
   "metadata": {},
   "source": [
    "***Further opimization using computational tools***"
   ]
  },
  {
   "cell_type": "markdown",
   "metadata": {},
   "source": [
    "Multiple computational tools were then employed in an attempt to couple methanol growth and malonate production, reduce formation of byproducts and optimize cofactor balance. These were [OptKnock](https://github.com/27410/group-assignment-2021-group-8-malonic-acid-in-k-phaffii/blob/main/scripts/Optimization_OptKnock.ipynb) (Burgard 2003), [OptCouple](https://github.com/27410/group-assignment-2021-group-8-malonic-acid-in-k-phaffii/blob/main/scripts/Optimization_GrowthCouplingPotential.ipynb) (Jensen 2019), [OptGene](https://github.com/27410/group-assignment-2021-group-8-malonic-acid-in-k-phaffii/blob/main/scripts/Optimization_OptGene.ipynb) (Patil 2005) and [OptSwap](https://github.com/27410/group-assignment-2021-group-8-malonic-acid-in-k-phaffii/blob/main/scripts/Optimization_OptSwap.ipynb) (King 2013). Finally, [Flux Scanning based on Enforced Objective Flux](https://github.com/27410/group-assignment-2021-group-8-malonic-acid-in-k-phaffii/blob/main/scripts/Optimization_FSEOF.ipynb) (FSEOF) was used to analyse overall flux changes and identify potential targets for up- and downregulation.\n",
    "\n",
    "Both OptKnock and OptCouple encountered an error which could not be resolved. OptGene did not return any gene targets for gene knock-ins. OptSwap did not return any gene targets for altered cofactor specificity, either with or without enforced flux towards malonic acid production. With methanol as substrate FSEOF resulted in 53 reactions with a flux change over 0.01 (figure 9). All of the reactions involved in carbon metabolism as well as reactions directly towards the beta-alanine metabolism have increased fluxes, acetyl-CoA is produced from acetyl instead of pyruvate, the amino acid metabolism stops entirely and the cell starts to metabolize amino acids to maintain ATP requirements. \n",
    "\n",
    "\n",
    "![image.png](https://raw.githubusercontent.com/27410/group-assignment-2021-group-8-malonic-acid-in-k-phaffii/main/img/FSEOF.png)\n",
    " \n",
    "*Figure 9: Reactions with > 0.01 change in flux with a forced objective flux towards malonic acid production ranging form 0.18 to 1.8.*"
   ]
  },
  {
   "cell_type": "markdown",
   "metadata": {},
   "source": [
    "***Optimizing the use of malonic-semialdehyde***"
   ]
  },
  {
   "cell_type": "markdown",
   "metadata": {},
   "source": [
    "In an in-vivo context there are multiple considerations to be made. First off, FVA reveals that malonic-semialdehyde is not only used for malonate production but also conversion into acetyl-coa through MMSAD3. The gene coding for this reaction should be knocked out to avoid this occuring in the real biological system. Computationally, doing this does not affect the phenotypic phase plane either (cf code for this [section](https://github.com/27410/group-assignment-2021-group-8-malonic-acid-in-k-phaffii/blob/main/scripts/Optimizing_the_use_of_malonic-semialdehyde.ipynb))."
   ]
  },
  {
   "cell_type": "markdown",
   "metadata": {},
   "source": [
    "In a study (Borodina 2014) about 3-hydroxypropanoate production in *S. cerevisiae*, screening was peformed to identify the best hetereologous reaction for beta alinine to malonic-semialdehyde conversion (BABAT). Even though the reaction APAT2r is present in both *K. phaffii* and *S. cerevisiae* the conclusion was that a gene from *Bacillus cereus* should be inserted. However, FVA revealed that APAT2r and BABAT were equally effective in iMT1026.V3."
   ]
  },
  {
   "cell_type": "code",
   "execution_count": 18,
   "metadata": {},
   "outputs": [
    {
     "name": "stdout",
     "output_type": "stream",
     "text": [
      "Added beta alanine pathway\n",
      "msa_c\n",
      "=====\n",
      "Formula: C3H3O3\n",
      "\n",
      "Producing Reactions\n",
      "-------------------\n",
      "Percent    Flux       Range Reaction                           Definition\n",
      " 97.78%    1.12  [0; 1.145]   APAT2r  akg_c + ala_B_c --> glu_L_c + msa_c\n",
      "  2.22% 0.02544  [0; 1.145]    BABAT  ala_B_c + pyr_c --> ala_L_c + msa_c\n",
      "\n",
      "Consuming Reactions\n",
      "-------------------\n",
      "Percent   Flux             Range Reaction                                      Definition\n",
      "100.00% -1.145  [-1.145; -1.145]    MSADH  h2o_c + msa_c + nad_c --> h_c + mln_c + nadh_c\n"
     ]
    }
   ],
   "source": [
    "from cobra.flux_analysis import flux_variability_analysis\n",
    "with model:\n",
    "    # Removing malonic-semialdehyde consuming reaction\n",
    "    model.reactions.MMSAD3.upper_bound=0\n",
    "    \n",
    "    create_pathway(model,1)\n",
    "    new_reaction = Reaction('BABAT')\n",
    "    new_reaction.add_metabolites({model.metabolites.pyr_c: -1,\n",
    "                                  model.metabolites.ala_B_c: -1,\n",
    "                                  model.metabolites.ala_L_c: 1,\n",
    "                                  model.metabolites.msa_c: 1,\n",
    "                                 })\n",
    "    model.add_reactions([new_reaction])\n",
    "    \n",
    "    model.objective = model.reactions.Ex_biomass \n",
    "    specified_growth_rate = 0.5*model.optimize().objective_value\n",
    "    \n",
    "    constrained_growth = model.problem.Constraint(\n",
    "        model.reactions.get_by_id('Ex_biomass').flux_expression,\n",
    "        lb=specified_growth_rate,\n",
    "        ub=specified_growth_rate)\n",
    "    model.add_cons_vars(constrained_growth)\n",
    "    \n",
    "    model.objective = model.reactions.Ex_mln\n",
    "    solution = model.optimize()\n",
    "    print(model.metabolites.msa_c.summary(fva=1.0))"
   ]
  },
  {
   "cell_type": "markdown",
   "metadata": {},
   "source": [
    "This goes to show the limits of non-constrained FVA, as it points to APAT2r being sufficient for in vivo malonic-semialdehyde production, contrary to the findings of (Borodina 2014)."
   ]
  },
  {
   "cell_type": "markdown",
   "metadata": {},
   "source": [
    "***361 words***"
   ]
  },
  {
   "cell_type": "markdown",
   "metadata": {},
   "source": [
    "***Improving the aspartate supply***"
   ]
  },
  {
   "cell_type": "markdown",
   "metadata": {},
   "source": [
    "Aspartate is cf (Miao 2021) reported to have a large metabolic pool size in *K phaffii*. It is the goal to further improve this property to ensure a higher flux towards beta-alanine. In (Song 2016), E.coli was engineered for 3HP and MA production. Part of the strategy was to facilitate aspartate formation by introducing direct amination of fumarate by aspartase. This was also implemented in the model through the reaction ASPAML but yet again with no significant results other than being a possible route in FVA (see code for this [section](https://github.com/27410/group-assignment-2021-group-8-malonic-acid-in-k-phaffii/blob/main/scripts/Improving_aspartate_supply.ipynb))."
   ]
  },
  {
   "cell_type": "markdown",
   "metadata": {},
   "source": [
    "The strategy in (Miao 2021) is to improve aspartate availability by supply from OAA. From the escher plots and FVA it should be noticed that the opposite is occuring. By strengthening the OAA production through CO2 fixation these fluxes could possibly be redirected. This was done by introducing phosphoenolpyruvate carboxykinase from *A. succinogenes* (Hu 2018). This was the first change that actually improved the phenotypic phase plane, allowing for large malonic acid production rates while still maintaining growth."
   ]
  },
  {
   "cell_type": "code",
   "execution_count": 20,
   "metadata": {},
   "outputs": [
    {
     "name": "stdout",
     "output_type": "stream",
     "text": [
      "Added beta alanine pathway\n"
     ]
    },
    {
     "data": {
      "image/png": "[encoded data removed]",
      "text/plain": [
       "<Figure size 432x288 with 1 Axes>"
      ]
     },
     "metadata": {
      "needs_background": "light"
     },
     "output_type": "display_data"
    }
   ],
   "source": [
    "with model:\n",
    "    create_pathway(model,1)\n",
    "    \n",
    "    # Only allowing ATP forming enzyme to act\n",
    "    model.reactions.PPCK.lower_bound=-1000\n",
    "    model.reactions.PPCK.upper_bound=0\n",
    "    \n",
    "    prod_env = production_envelope(model, [\"Ex_biomass\"], objective=\"Ex_mln\", carbon_sources=\"Ex_meoh\")\n",
    "    prod_env.plot(x='Ex_biomass',y='flux_maximum')\n",
    "    "
   ]
  },
  {
   "cell_type": "markdown",
   "metadata": {},
   "source": [
    "How much it will improve the productivity in a real organism is however interesting, since the thermodynamics of the reaction may not allow such a big flux."
   ]
  },
  {
   "cell_type": "markdown",
   "metadata": {},
   "source": [
    "***169 words***"
   ]
  },
  {
   "cell_type": "markdown",
   "metadata": {},
   "source": [
    "## 5. Discussion (<500 words)\n",
    "\n",
    "From the analysis it was shown that it should be possible to efficiently synthesise malonic acid in *K. phaffii* using methanol as the substrate. Other substrates showed higher growth rates, but utilizing methanol does not compete with the food industry. Also the mthanol induced regulation of *K. phaffii* opens up the possiblity for a two stage process, where a sugar can be used to grow to high cell densities and then a substrate switch triggers the inducible promoter to start the malonic acid production (Miao 2021). The analyses for oxygen and methanol uptake rate show that biomass growth and malonic acid production have different optima. Methanol repression was detected at very high fluxes, but it is far from experimentally obtained values (Tomàs‐Gamisans 2018). Therefore an increase of the methanol uptake flux would linearly improve growth and production of malonic acid.\n",
    "\n",
    "The pathway of interest is through beta-alanine which was shown to aid in NADH regeneration. However, it was not possible to recreate the findings of (Miao 2021); that introduction of an alternative malonic-semialdehyde producing enzyme BABAT increased the flux towards the important precursor metabolite. Also, a knockout of malonic-semialdehyde consuming reactions did not change anything and the OptSwap algorithm could not find any targets to improve cofactor balance in favor of production. Linear programming mathematically identifies the maxima and will therefore redirect fluxes in a manner that is not necessarily possible in vivo. Without enzymatic constraints, and with flux boundaries set to +- 1000, a biologically unattainable snapshot of fluxes can be presented. Therefore, comparison of two reactions such as BABAT and APATr may not be constructive. \n",
    "\n",
    "Tools employed such as FSEOF, FVA and visualizing the changes of fluxes in escher gives a good overview of what metabolic engineering strategies to implement. The most crucial change is to downregulate FALDtx and upregulate DAS, in order to redirect flux of formaldehyde towards the central carbon metabolism. But also the importance of oxaloacetate as a precursor was underlined. Instead of drawing it into the TCA, the ASPTAm is an important reaction that provides aspartate, that can be recycled for precursor generation but also drawn out for beta alanine production that can be further processed to malonic acid. Here it was shown that introducing the combination of phosphoenolpytuvate carboxykinase (ATP generating PPCK) and aspartase acting upon fumarate (ASPAML) led to more optimal phenotypic phase planes where more malonic acid can be produced at higher growth rates. These changes were, as mentioned, implemented in papers for beta-alanine and 3HP production, so the chance of succeeding is good. However, it has to be noted that there is still a direct tradeoff between malonic acid production and growth.\n",
    "\n",
    "It should be investigated whether *K. Phaffii* actually can grow properly on methanol when genetically engineering a reroute of flux towards central carbon metabolism. It was shown in a study, that adaptive laboratory evolution induced a mutation upon the alcohol oxidase (AOD) and reduced formaldehyde formation, but still increased growth rate (Moser, 2017). The conclusion was that it is important to balance formaldehyde levels because it can be toxic to the organism. In theory, upregulation of DAS could aid in this balancing. This should be tested as the first thing, before implementing other changes in the production host.\n"
   ]
  },
  {
   "cell_type": "markdown",
   "metadata": {},
   "source": [
    "***540 words***"
   ]
  },
  {
   "cell_type": "markdown",
   "metadata": {},
   "source": [
    "## 6. Conclusion (<200 words)\n",
    "\n",
    "To generate a GSM of *K. Phaffii*, we first used KBase and CarveMe. The MEMOTE reports of those models either had a bad mass balance score or consisted of only three compartments. This led us to use the GSM iMT1026-v3 created by Tomàs-Gamisans et al in 2017 for further analysis. The pathways found in literature were compared and the most promising - the beta alanine pathway - was chosen for further analysis. Trying multiple model optimization techniques, we concluded that malonic acid production is possible using methanol as a substrate. This reaction has a severe impact on the growth of *K. Phaffii* and it was not possible to couple growth and production. Therefore, it seems that the most promising strategy for our cell factory is to use an inducible system, allowing the strain to accumulate biomass before switching to malonic acid production. If initial lab tests prove that our pathway is feasible, a cost-benefit analysis needs to be done. In case of a positive outcome, the system can be leveraged to become a competitor on the global malonic acid production market."
   ]
  },
  {
   "cell_type": "markdown",
   "metadata": {},
   "source": [
    "***186 words***"
   ]
  },
  {
   "cell_type": "markdown",
   "metadata": {},
   "source": [
    "## References"
   ]
  },
  {
   "cell_type": "markdown",
   "metadata": {},
   "source": [
    "Bernauer, Lukas; Radkohl, Astrid; Lehmayer, Leonie Gabriela Katharina; Emmerstorfer-Augustin, Anita (2020): Komagataella phaffii as Emerging Model Organism in Fundamental Research. In: Frontiers in microbiology 11, S. 607028. DOI: 10.3389/fmicb.2020.607028.\n",
    "\n",
    "Borodina, Irina; Kildegaard, Kanchana R.; Jensen, Niels B.; Blicher, Thomas H.; Maury, Jérôme; Sherstyk, Svetlana et al. (2015): Establishing a synthetic pathway for high-level production of 3-hydroxypropionic acid in Saccharomyces cerevisiae via β-alanine. In: Metabolic engineering 27, S. 57–64. DOI: 10.1016/j.ymben.2014.10.003.\n",
    "\n",
    "Burgard AP, Pharkya P, Maranas CD. Optknock: a bilevel programming framework for identifying gene knockout strategies for microbial strain optimization. Biotechnol Bioeng. 2003 Dec 20;84(6):647-57. doi: 10.1002/bit.10803. PMID: 14595777.\n",
    "\n",
    "Choi HS, Lee SY, Kim TY, Woo HM: In silico identification of gene amplification targets for improvement of lycopene production. Appl Environ Microbiol. 2010, 76: 3097-3105. 10.1128/AEM.00115-10.\n",
    "\n",
    "Encyclopædia Britannica/Malonic Acid. (2021). Retrieved 17 November 2021, from https://en.wikisource.org/wiki/1911_Encyclop%C3%A6dia_Britannica/Malonic_Acid\n",
    "\n",
    "Gasser, Brigitte; Dragosits, Martin; Mattanovich, Diethard (2010): Engineering of biotin-prototrophy in Pichia pastoris for robust production processes. In: Metabolic engineering 12 (6), S. 573–580. DOI: 10.1016/j.ymben.2010.07.002.\n",
    "\n",
    "Gasser, Brigitte; Mattanovich, Diethard (2018): A yeast for all seasons - Is Pichia pastoris a suitable chassis organism for future bioproduction? In: FEMS microbiology letters 365 (17). DOI: 10.1093/femsle/fny181.\n",
    "\n",
    "Global Industry Report | Malonic Acid Market. (2021). Retrieved 17 November 2021, from https://www.transparencymarketresearch.com/malonic-acid-market.html\n",
    "\n",
    "Heistinger, Lina; Gasser, Brigitte; Mattanovich, Diethard (2020): Microbe Profile: Komagataella phaffii: a methanol devouring biotech yeast formerly known as Pichia pastoris. In: Microbiology (Reading, England) 166 (7), S. 614–616. DOI: 10.1099/mic.0.000958.\n",
    "\n",
    "Hildbrand, S., & Pollak, P. (2001). Malonic Acid and Derivatives. Ullmann's Encyclopedia Of Industrial Chemistry. doi: 10.1002/14356007.a16_063\n",
    "\n",
    "Irani, Z., Kerkhoven, E., Shojaosadati, S., & Nielsen, J. (2015). Genome-scale metabolic model of Pichia pastoris with native and humanized glycosylation of recombinant proteins. Biotechnology And Bioengineering, 113(5), 961-969. doi: 10.1002/bit.25863\n",
    "\n",
    "Jensen, K., Broeken, V., Hansen, A. S. L., Sonnenschein, N., & Herrgård, M. J. (2019). OptCouple: Joint simulation of gene knockouts, insertions and medium modifications for prediction of growth-coupled strain designs. Metabolic Engineering Communications, 8, [e00087]. https://doi.org/10.1016/j.mec.2019.e00087\n",
    "\n",
    "Kanehisa, M. Toward understanding the origin and evolution of cellular organisms. Protein Science. 2019; 28: 1947– 1951. https://doi.org/10.1002/pro.3715\n",
    "\n",
    "King, Z. A., & Feist, A. (2013). Optimizing Cofactor Specificity of Oxidoreductase Enzymes for the Generation of Microbial Production Strains—OptSwap. Industrial Biotechnology, 9(4), 236. https://doi.org/10.1089/ind.2013.0005\n",
    "\n",
    "Malonic Acid Market 2021 Comprehensive Report: Demand Analysis with Covid-19 Impact, Industry Size, Latest Trend Analysis, Impact of Covid-19, Top Players, Revenue Expectation, Development Status and Forecast to 2027. (2021). Retrieved 15 November 2021, from https://www.wboc.com/story/44796231/malonic-acid-market-2021-comprehensive-report-demand-analysis-with-covid-19-impact-industry-size-latest-trend-analysis-impact-of-covid-19-top-players\n",
    "\n",
    "Miao, L., Li, Y., & Zhu, T. (2021). Metabolic engineering of methylotrophic Pichia pastoris for the production of β-alanine. Bioresources And Bioprocessing, 8(1). doi: 10.1186/s40643-021-00444-9\n",
    "\n",
    "Miao, Liangtian; Li, Yin; Zhu, Taicheng (2021): Metabolic engineering of methylotrophic Pichia pastoris for the production of β-alanine. In: Bioresour. Bioprocess. 8 (1), S. 15. DOI: 10.1186/s40643-021-00444-9.\n",
    "\n",
    "Minoru Kanehisa, Miho Furumichi, Yoko Sato, Mari Ishiguro-Watanabe, Mao\n",
    "\n",
    "Minoru Kanehisa, Susumu Goto, KEGG: Kyoto Encyclopedia of Genes and Genomes, Nucleic Acids Research, Volume 28, Issue 1, 1 January 2000, Pages 27–30, https://doi.org/10.1093/nar/28.1.27\n",
    "\n",
    "Moser, J.W., Prielhofer, R., Gerner, S.M. et al. Implications of evolutionary engineering for growth and recombinant protein production in methanol-based growth media in the yeast Pichia pastoris . Microb Cell Fact 16, 49 (2017). https://doi.org/10.1186/s12934-017-0661-5\n",
    "\n",
    "Patil, K.R., Rocha, I., Förster, J. et al. Evolutionary programming as a platform for in silico metabolic engineering. BMC Bioinformatics 6, 308 (2005). https://doi.org/10.1186/1471-2105-6-308\n",
    "\n",
    "Peters, E., Schlakman, G., & Yang, E. (2018). Production of Malonic Acid through the Fermentation of Glucose. Senior Design Reports.\n",
    "\n",
    "Song, Chan Woo; Kim, Je Woong; Cho, In Jin; Lee, Sang Yup (2016): Metabolic Engineering of Escherichia coli for the Production of 3-Hydroxypropionic Acid and Malonic Acid through β-Alanine Route. In: ACS synthetic biology 5 (11), S. 1256–1263. DOI: 10.1021/acssynbio.6b00007.\n",
    "\n",
    "Tanabe, KEGG: integrating viruses and cellular organisms, Nucleic Acids Research, Volume 49, Issue D1, 8 January 2021, Pages D545–D551, https://doi.org/10.1093/nar/gkaa970\n",
    "\n",
    "Tomàs-Gamisans, M., Ferrer, P., & Albiol, J. (2016). Integration and Validation of the Genome-Scale Metabolic Models of Pichia pastoris: A Comprehensive Update of Protein Glycosylation Pathways, Lipid and Energy Metabolism. PLOS ONE, 11(1), e0148031. doi: 10.1371/journal.pone.0148031\n",
    "\n",
    "Tomàs-Gamisans, M., Ferrer, P., & Albiol, J. (2017). Fine-tuning the P. pastoris iMT1026 genome-scale metabolic model for improved prediction of growth on methanol or glycerol as sole carbon sources. Microbial Biotechnology, 11(1), 224-237. doi: 10.1111/1751-7915.12871\n",
    "\n",
    "Werpy, Todd A.; Holladay, John E.; White, James F. (August 2004). Top Value Added Chemicals from Biomass Volume I - Results of Screening for Potential Candidates from Sugars and Synthesis Gas. [https://www.pnnl.gov/main/publications/external/technical_reports/PNNL-14808.pdf]\n"
   ]
  }
 ],
 "metadata": {
  "kernelspec": {
   "display_name": "Python 3",
   "language": "python",
   "name": "python3"
  },
  "language_info": {
   "codemirror_mode": {
    "name": "ipython",
    "version": 3
   },
   "file_extension": ".py",
   "mimetype": "text/x-python",
   "name": "python",
   "nbconvert_exporter": "python",
   "pygments_lexer": "ipython3",
   "version": "3.6.13"
  }
 },
 "nbformat": 4,
 "nbformat_minor": 4
}
