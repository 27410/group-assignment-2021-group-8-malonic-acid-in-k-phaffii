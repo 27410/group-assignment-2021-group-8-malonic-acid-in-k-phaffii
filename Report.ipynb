{
 "cells": [
  {
   "cell_type": "markdown",
   "metadata": {},
   "source": [
    "# Enhancing GSM of Komagataella pfaffii for production of malonic acid"
   ]
  },
  {
   "cell_type": "markdown",
   "metadata": {},
   "source": [
    "## 1. Introduction"
   ]
  },
  {
   "cell_type": "markdown",
   "metadata": {},
   "source": [
    "### 1.1 Literature review of the compound (<500 words)\n",
    "\n",
    "The natural occurring substance malonic acid was first discovered in beetroots. Even though is was first prepared in 1858 [1], its relevance in todays market is not declining. Malonic acid is traditionally produced synthetically from nonrenewable petroleum feedstock. During this process ester groups have to be added using an alcohol (Hildbrand, 2001). Using non renewable resources is neither environmentally friendly, nor will it be financially lucrative in the future. The company Lygos Inc. has therefore developed a patented method to produce malonic acid through fermentation of genetically modified *Pichia Kudriavzevii* yeast cells (Peters, 2018). These efforts have been taken on due to the vast amount of uses for malonic acid in modern industry.\n",
    "\n",
    "![Malonic acid](img/malonic_acid.png)\n",
    "\n",
    "*Figure 1*:  Molecular Structure of Malonic Acid.\n",
    "\n",
    "The molecule is often used as a precursor, as it can be converted into 1,3 propanediol - a precursor for polyesters and polymers. Furthermore malonic acid is used in the electronics, flavor, pharmaceutical, fragrance and coating industry. According to market research, the rising interest in the compound will lead to an increase in sales of the compound [4]. Political pressure to utilize bio-based synthetic compounds will further expand the market for malonic acid. It is predicted to go from USD 46 million in 2020 to USD 55 million by the end of 2027 [5].\n",
    "\n",
    "The US Department of Energy listed malonic acid as one of the top 30 chemicals to be produced from biomass [6]. According to their research it is best produced via 3-Hydroxypropionate from sugars like Glucose, Fructose, Xylose,Arabinose, Lactose, Sucrose or Starch. The compound can be derived from beta alanine, which can efficiently be produced from methanol (Miao, 2021). Our goal is therefore to use methanol as the substrate. In modern sustainable production, methanol is considered to be a promising feedstock, since it provides highly reduced carbon and is not competing with food sources.\n",
    "\n",
    "\n",
    "[1]: 1911 Encyclopædia Britannica/Malonic Acid [https://en.wikisource.org/wiki/1911_Encyclop%C3%A6dia_Britannica/Malonic_Acid]\n",
    "\n",
    "Hildbrand, S.; Pollak, P. Malonic Acid & Derivatives. March 15, 2001. Ullmann's Encyclopedia of Industrial Chemistry [http://dx.doi.org/10.1002/14356007.a16_063.pub2]\n",
    "\n",
    " Peters, 2018\n",
    "\n",
    "[4]: Transparency Market Research [https://www.transparencymarketresearch.com/malonic-acid-market.html]\n",
    "\n",
    "[5]: https://www.wboc.com/story/44796231/malonic-acid-market-2021-comprehensive-report-demand-analysis-with-covid-19-impact-industry-size-latest-trend-analysis-impact-of-covid-19-top-players\n",
    "\n",
    "[6]: Werpy, Todd A.; Holladay, John E.; White, James F. (August 2004). [https://www.pnnl.gov/main/publications/external/technical_reports/PNNL-14808.pdf]\n",
    "\n",
    "Miao, L., Li, Y. & Zhu, T. Metabolic engineering of methylotrophic Pichia pastoris for the production of β-alanine. Bioresour. Bioprocess. 8, 89 (2021). https://doi.org/10.1186/s40643-021-00444-9 Titel anhand dieser DOI in Citavi-Projekt übernehmen"
   ]
  },
  {
   "cell_type": "markdown",
   "metadata": {},
   "source": [
    "### 1.2 Literature review of the cell factory (<500 words)"
   ]
  },
  {
   "cell_type": "markdown",
   "metadata": {},
   "source": [
    "#### 1.2.1 Introduction to Komagataella phaffii\n",
    "The organism chosen as a cell chassis in this report is the methylotrophic yeast _Komagataella phaffii_, also know under its outdated name _Pichia Pastoris_, which is still often used in applied sciences. The genus _Komagataella_ comprises of 7 species, of which _K. phaffii_ and _K. pastoris_ are most used and only ones that have been studied in detail. (Heistinger 2020).\n",
    "\n",
    "![Komagataella phaffii](img/komagataella_phaffii.png)\n",
    "\n",
    "*K phaffii*:  _K phaffii_ Source: https://www.hcp-detection.org/expression-systems-for-therapeutic-biopharmaceuticals/expression-system-pichia-pastoris/#prettyPhoto/0/"
   ]
  },
  {
   "cell_type": "markdown",
   "metadata": {},
   "source": [
    "#### 1.2.2\tGeneral Advantages\n",
    "_Komagataella phaffii_ is a methylotrophic, Crabtree negative yeast, that is non-pathogenic and widely used as a cell factory. The organism grows very fast on glucose or glycerol to high biomass concentrations and can use ammonium as a nitrogen source (Heistinger 2020). _K. phaffii_ is a robust cell chassis with high genetic stability and endurance against mechanical and physiological stress (Gasser 2018). It is also able to grow on methanol as the only carbon source, due to its strong methanol-inducible promoters on the respective pathway gene (Heistinger 2020). This is exploited in metabolic engineering by introducing recombinant genes into the methanol assimilation pathway region (Bernauer 2021) and using these inducing and non-inducing genes to promote the production of a target metabolite. _K. phaffii_ also owns other, methanol free pathways that can be used in this way. The cells allow the production of biopharmaceuticals with complex human like glycan structures (Heistinger 2020). There are well-established and precises genetic modification strategies and new advances opened _K. phaffii_ as a viable model organism. Recently it was also managed to synthetically implement a pathway similar to the CBB-Cycle into a strain, that allowed the growth of _K. phaffii_ on CO2 as carbon source alone (Bernauer 2021)."
   ]
  },
  {
   "cell_type": "markdown",
   "metadata": {},
   "source": [
    "#### 1.2.3\tGeneral Disadvantages\n",
    "As a Crabtree-negative yeast _K. phaffii_ is not capable of fermentative process under anaerobic conditions. This makes the cells very dependent and sensitive on oxygen supply. To ensure such high growth rates, the sufficient aeration of the broth can be the limiting factor (Bernauer 2021). The high oxygen uptake for assimilating methanol also results in substantial biochemical reaction heat formation and cause troubles for process control and tank design (Gasser 2018). Furthermore the cells show a need for biotin supplemented to the feeding media (Bernauer 2021). In general _K. phaffii_ is less researched than _S. cerevisiae_, which has been in use for centuries and its processes are refined and proven (Gasser 2018)."
   ]
  },
  {
   "cell_type": "markdown",
   "metadata": {},
   "source": [
    "#### 1.2.4\tSuitability of the cell factory for the product\n",
    "The existing metabolism already produces beta-alanine, a key precursor for the desired pathway to malonic acid. It is only necessary to introduce two more reactions and therefore enzymes to enable the production (Miao 2021, Song 2016). The biggest advantage of _K. phaffii_ is the already existing methanol assimilation capability of the organism. The genetic code for the needed promoters also offer the opportunity to introduce methanol-inducible enzyme and providing an interesting dynamic for two stage fermentation (Gasser 2018, Bernauer 2021). For example, first the cell density would be increased fast and to a high level, then a switch of the substrate to methanol induces the production of the desired metabolite."
   ]
  },
  {
   "cell_type": "markdown",
   "metadata": {},
   "source": [
    "## 2. Problem definition (<300 words)"
   ]
  },
  {
   "cell_type": "markdown",
   "metadata": {},
   "source": [
    "## 3. *If Project category I:* Reconstruction of a new GSM for your cell factory host of interest (<1500 words)"
   ]
  },
  {
   "cell_type": "markdown",
   "metadata": {},
   "source": [
    "or"
   ]
  },
  {
   "cell_type": "markdown",
   "metadata": {},
   "source": [
    "## 3. *If Project category II:* Selection and assessment of existing GSM (<500 words)"
   ]
  },
  {
   "cell_type": "markdown",
   "metadata": {},
   "source": [
    "## 4. Computer-Aided Cell Factory Engineering (<1500 words if Category II project; <500 words for Category I project)"
   ]
  },
  {
   "cell_type": "markdown",
   "metadata": {},
   "source": [
    "## 5. Discussion (<500 words)"
   ]
  },
  {
   "cell_type": "markdown",
   "metadata": {},
   "source": [
    "## 6. Conclusion (<200 words)"
   ]
  },
  {
   "cell_type": "markdown",
   "metadata": {},
   "source": [
    "## References"
   ]
  },
  {
   "cell_type": "code",
   "execution_count": null,
   "metadata": {},
   "outputs": [],
   "source": []
  }
 ],
 "metadata": {
  "kernelspec": {
   "display_name": "Python 3",
   "language": "python",
   "name": "python3"
  },
  "language_info": {
   "codemirror_mode": {
    "name": "ipython",
    "version": 3
   },
   "file_extension": ".py",
   "mimetype": "text/x-python",
   "name": "python",
   "nbconvert_exporter": "python",
   "pygments_lexer": "ipython3",
   "version": "3.6.13"
  }
 },
 "nbformat": 4,
 "nbformat_minor": 4
}
