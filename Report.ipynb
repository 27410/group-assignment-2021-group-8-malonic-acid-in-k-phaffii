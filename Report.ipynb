{
 "cells": [
  {
   "cell_type": "markdown",
   "metadata": {},
   "source": [
    "# Enhancing GSM of Komagataella pfaffii for production of malonic acid"
   ]
  },
  {
   "cell_type": "markdown",
   "metadata": {},
   "source": [
    "## 1. Introduction"
   ]
  },
  {
   "cell_type": "markdown",
   "metadata": {},
   "source": [
    "### 1.1 Literature review of the compound"
   ]
  },
  {
   "cell_type": "markdown",
   "metadata": {},
   "source": [
    "The natural occurring substance malonic acid was first discovered in beetroots. Even though is was first prepared in 1858 (Encyclopædia Britannica), its relevance in todays market is not declining. Malonic acid is traditionally produced synthetically from nonrenewable petroleum feedstock. During this process ester groups have to be added using an alcohol (Hildbrand, 2001). Using non renewable resources is neither environmentally friendly, nor will it be financially lucrative in the future. The company Lygos Inc. has therefore developed a patented method to produce malonic acid through fermentation of genetically modified *Pichia Kudriavzevii* yeast cells (Peters, 2018). These efforts have been taken on due to the vast amount of uses for malonic acid in modern industry.\n",
    "\n",
    "\n",
    "![Malonic acid](https://raw.githubusercontent.com/27410/group-assignment-2021-group-8-malonic-acid-in-k-phaffii/main/img/malonic_acid.png?token=AFITQ5WD4ATJULL32TF6LELBUJ3AU \"Malonic acid\")\n",
    "\n",
    "*Figure 1*:  Molecular Structure of Malonic Acid.\n",
    "\n",
    "\n",
    "#### Use of malonic acid\n",
    "\n",
    "The molecule is often used as a precursor, as it can be converted into 1,3 propanediol - a precursor for polyesters and polymers. Furthermore malonic acid is used in the electronics, flavor, pharmaceutical, fragrance and coating industry. According to market research, the rising interest in the compound will lead to an increase in sales of the compound (Global Industry Report). Political pressure to utilize bio-based synthetic compounds will further expand the market for malonic acid. It is predicted to go from USD 46 million in 2020 to USD 55 million by the end of 2027 (Malonic Acid Market 2021 Comprehensive Report).\n",
    "\n",
    "The US Department of Energy listed malonic acid as one of the top 30 chemicals to be produced from biomass (Werpy, 2004). According to their research it is best produced via 3-Hydroxypropionate from sugars like Glucose, Fructose, Xylose,Arabinose, Lactose, Sucrose or Starch. The compound can be derived from beta alanine, which can efficiently be produced from methanol (Miao, 2021). Our goal is therefore to use methanol as the substrate. In modern sustainable production, methanol is considered to be a promising feedstock, since it provides highly reduced carbon and is not competing with food sources.\n"
   ]
  },
  {
   "cell_type": "markdown",
   "metadata": {},
   "source": [
    "### 1.2 Literature review of the cell factory"
   ]
  },
  {
   "cell_type": "markdown",
   "metadata": {},
   "source": [
    "#### 1.2.1 Introduction to Komagataella phaffii\n",
    "The organism chosen as a cell chassis in this report is the methylotrophic yeast _Komagataella phaffii_, also know under its outdated name _Pichia Pastoris_, which is still often used in applied sciences. The genus _Komagataella_ comprises of 7 species, of which _K. phaffii_ and _K. pastoris_ are most used and only ones that have been studied in detail. (Heistinger 2020).\n",
    "\n",
    "\n",
    "![Komagataella phaffii](https://raw.githubusercontent.com/27410/group-assignment-2021-group-8-malonic-acid-in-k-phaffii/main/img/komagataella_phaffii.png?token=AFITQ5UF4AFCE7NLBJHUK7TBUJ2XS \"Komagataella phaffii\")\n",
    "\n",
    "*Figure 2*: *K. phaffii* Source: https://www.hcp-detection.org/expression-systems-for-therapeutic-biopharmaceuticals/expression-system-pichia-pastoris/#prettyPhoto/0/\n"
   ]
  },
  {
   "cell_type": "markdown",
   "metadata": {},
   "source": [
    "#### 1.2.2\tGeneral Advantages\n",
    "_Komagataella phaffii_ is a methylotrophic, Crabtree negative yeast, that is non-pathogenic and widely used as a cell factory. The organism grows very fast on glucose or glycerol to high biomass concentrations and can use ammonium as a nitrogen source (Heistinger 2020). _K. phaffii_ is a robust cell chassis with high genetic stability and endurance against mechanical and physiological stress (Gasser 2018). It is also able to grow on methanol as the only carbon source, due to its strong methanol-inducible promoters on the respective pathway gene (Heistinger 2020). This is exploited in metabolic engineering by introducing recombinant genes into the methanol assimilation pathway region (Bernauer 2021) and using these inducing and non-inducing genes to promote the production of a target metabolite. _K. phaffii_ also owns other, methanol free pathways that can be used in this way. The cells allow the production of biopharmaceuticals with complex human like glycan structures (Heistinger 2020). There are well-established and precises genetic modification strategies and new advances opened _K. phaffii_ as a viable model organism. Recently it was also managed to synthetically implement a pathway similar to the CBB-Cycle into a strain, that allowed the growth of _K. phaffii_ on CO2 as carbon source alone (Bernauer 2021)."
   ]
  },
  {
   "cell_type": "markdown",
   "metadata": {},
   "source": [
    "#### 1.2.3\tGeneral Disadvantages\n",
    "As a Crabtree-negative yeast _K. phaffii_ is not capable of fermentative process under anaerobic conditions. This makes the cells very dependent and sensitive on oxygen supply. To ensure such high growth rates, the sufficient aeration of the broth can be the limiting factor (Bernauer 2021). The high oxygen uptake for assimilating methanol also results in substantial biochemical reaction heat formation and cause troubles for process control and tank design (Gasser 2018). Furthermore the cells show a need for biotin supplemented to the feeding media (Bernauer 2021). In general _K. phaffii_ is less researched than _S. cerevisiae_, which has been in use for centuries and its processes are refined and proven (Gasser 2018)."
   ]
  },
  {
   "cell_type": "markdown",
   "metadata": {},
   "source": [
    "#### 1.2.4\tSuitability of the cell factory for the product\n",
    "The existing metabolism already produces beta-alanine, a key precursor for the desired pathway to malonic acid. It is only necessary to introduce two more reactions and therefore enzymes to enable the production (Miao 2021, Song 2016). The biggest advantage of _K. phaffii_ is the already existing methanol assimilation capability of the organism. The genetic code for the needed promoters also offer the opportunity to introduce methanol-inducible enzyme and providing an interesting dynamic for two stage fermentation (Gasser 2018, Bernauer 2021). For example, first the cell density would be increased fast and to a high level, then a switch of the substrate to methanol induces the production of the desired metabolite."
   ]
  },
  {
   "cell_type": "markdown",
   "metadata": {},
   "source": [
    "## 2. Problem definition (<300 words)"
   ]
  },
  {
   "cell_type": "markdown",
   "metadata": {},
   "source": [
    "The goal of this project is to model and optimize a hypothetical _K. phaffii_ strain for the production of malonic acid. K phaffii does not natively produce malonic acid, thus the enzymes responsible for the missing metabolic steps need to be introduced in the strain. The genes will be integrated into the metabolic model [placeholder model], previously described by [placeholder author]. The strain will be optimized for growth on [placholder substrate] as a cheap substrate. Finally, as _K. phaffii_ has the tendency to invest resources into growth rather than production of secondary metabolites, through the knockout of competing, non-vital pathways we will try to optimize the metabolic flux towards the product, while maintaining growth rate at a reasonable level."
   ]
  },
  {
   "cell_type": "markdown",
   "metadata": {},
   "source": [
    "## 3. Selection and assessment of existing GSM (<500 words)\n",
    "\n",
    "For _Pichia Pastoris_, three GEM models were published between 2010-2012 which became the most complete and acknowledged models in literature at the time (Tomàs-Gamisans, 2016). We found all three, imported them through COBRA and ran tests on MEMOTE to check their quality. The memote reports can be found [here](https://github.com/27410/group-assignment-2021-group-8-malonic-acid-in-k-phaffii/tree/main/reports).\n",
    "\n",
    "*Table 1*: \n",
    "\n",
    "|                            | PpaMBEL1254 | iPP668 | iLC915 |\n",
    "|----------------------------|-------------|--------|--------|\n",
    "| __Number of metabolites__  | 1058        | 1178   | 2301   |\n",
    "| __Number of reactions__    | 1254        | 1361   | 1506   |\n",
    "| __Number of compartments__ | 1           | 8      | 8      |\n",
    "| __Memote overall score__   | 19%         | 20%    | 27%    |\n",
    "\n",
    "\n",
    "There has since been improvements and reconstructions of these three models. Among others was on update from 2016 for more accurate predictions to native and humanized glycosylation of recombinant proteins(Irani, 2015). Here, the number of metabolites and reactions were increased to 1443 and 1595 respectively and mass balance was improved with 19.7% (cf. memote reports). In 2016 the three models were also merged together, to form the model iMT1026 (Tomàs-Gamisans, 2016). This model was later improved for better predictions of growth on methanol (Tomàs-Gamisans, 2017) iMT1026.V3 which is relevant for our case study. The reconstruction tools CarveMe and KBase was also experimented with. While CarveMe yields impressive memote results, including correct annotation that iMT1026 lacks, it produces a model with only three compartments which is not representative for a fungal organism such as P. Pastoris. After a lot of effort, Kbase was successfully used to create a fungal model from the K. phaffii refseq from NCBI. The memote results were however not very promising. A script was set up to test if the two models predicted growth on the minimal medium proposed in (Tomàs-Gamisans, 2017) with methanol as sole carbon source. It was not possible for either. Collecting the non-carbon medium components necessary for growth and adding that to the base medium, allowed the CarveMe model to have small but positive growth rates while the Kbase model still could not utilize methanol. Finally, iMT1026.V3 was selected for our project as it represents some of the most recent advancement in the P. pastoris reconstruction field and has been validated experimentally for growth on methanol. It, hopefully, implies that the mechanisms of the central metabolism have been accurately replicated. The introduction of malonate producing pathways mostly relies on this metabolic regime being representative, since the reactions do not branch far away from the central metabolism. The model only gets an overall memote score of 19%, but this is due to missing annotation and charge balancing. It has 100% metabolite connectivity and 90.6% mass balancing and should be able to produce reliable predictions to some extent. A concern however arises from the missing charge balance, causing errors in the non-growth associated maintenance reaction. It is known that maintenance becomes more relevant for low growth rates in fermentation and genetically engineered P. pastoris growing on methanol is expected to be quite slow. Hopefully, this will not influence the results too much but should nonetheless be kept in mind."
   ]
  },
  {
   "cell_type": "markdown",
   "metadata": {},
   "source": [
    "## 4. Computer-Aided Cell Factory Engineering (<1500 Words)"
   ]
  },
  {
   "cell_type": "markdown",
   "metadata": {},
   "source": [
    "### 4.1 Add heterologous pathway to GSM"
   ]
  },
  {
   "cell_type": "markdown",
   "metadata": {},
   "source": [
    "Borodina et al. describe 4 different pathways to get to 3-hydroxy propionic acid with *Komatogaella phaffii*, where most of them go through malonic semialdehyde (Borodina 2014). This metabolite can serve as a precursor for both, malonic acid and 3-hydroxy propionic acid and therfore these pathways serve as a starting point for this cell factory project (CITATION KEGG??). The described routes and the included are:\n",
    "- Beta-Alanine\n",
    "- Malonyl-CoA\n",
    "- Lactate\n",
    "- Glycerol\n",
    "  \n",
    "The pathways are established in the model by inserting one or several new enzyms and deleting competing ones that draw from the pathway.\n",
    "###### Beta-Alanine\n",
    "For this pathway two steps are necessary, first beta-alanine is changed int malonate semialdehyde by transferring its amino group onto alpha-ketoglutaric acid. For this reaction beta-alanine-oxoglutarate aminotransferase is need, which is already implemented in the used model.  \n",
    "For the second step the enzym malonate-semialdehyde dehydrogenase is used, which hydrolises the malonate semialdehyde to malonic acid and uses NADP+ as a cofactor.\n",
    "###### Malonyl-CoA\n",
    "For malonyl-coa as a precursor, two pathways were identified and both are implemented. The first one directly switches the malonic acid group with an acetate molecule to create malonic acid and acetyl-coa. It uses  \t\n",
    "Acetyl-CoA:malonate CoA-transferase.  \n",
    "  \n",
    "The second option is a two step process, where malonyl-coa is split into malonate semialdehyde and co-enzym A while using NADPH through 3-oxopropanoate:NADP+ oxidoreductase (CoA-malonylating). Afterwards the same enzym as in the beta-alanine pathway is used to produce malonic acid. In order to force the model to work through this pathway, the enzym beta-alanine-oxoglutarate aminotransferase has to be shut down, which is described in the beta-alanine pathway as well.  \n",
    "###### Lactate\n",
    "In order to produce malonic acid through lactate several enzyms have to be included. Initially lactate is transfered onto co-enzym A, followed by several hydratase steps leading up to 3Hydroxypropyionyl-CoA. From here it is fragmented into 3HP and CoA, where 3HP will be transformed to malonate semialdehyde and finally to malonic acid. The included enzyms are consecutively propionate CoA-transferase, lactoyl-CoA dehydratase, 3-Hydroxypropionyl-CoA hydro-lyase, 3-hydroxyisobutyryl-CoA hydrolase, 3-hydroxypropanoate:NAD+ oxidoreductase and finally and 3-hydroxypropionyl-CoA:NADP+ oxidoreductase.\n",
    "\n",
    "###### Glycerol\n",
    "The glycerol route was dropped because it needs B12 as a cofactor, which is not natural in *K. phaffii*.  \n",
    "\n",
    "\n",
    "These pathways are added using the script [create_pathway](https://github.com/27410/group-assignment-2021-group-8-malonic-acid-in-k-phaffii/blob/main/scripts/create_pathway.ipynb). "
   ]
  },
  {
   "cell_type": "code",
   "execution_count": 2,
   "metadata": {},
   "outputs": [],
   "source": [
    "# Importing used packages and model\n",
    "%matplotlib inline \n",
    "from cobra.io import read_sbml_model\n",
    "from cobra import Reaction, Metabolite\n",
    "import pandas as pd\n",
    "model = read_sbml_model('src/models/gen/iMT1026-v3.1.xml')\n",
    "%run -i scripts/create_pathway.ipynb  # runs other script with included function to alter model by including pathways"
   ]
  },
  {
   "cell_type": "code",
   "execution_count": 3,
   "metadata": {},
   "outputs": [
    {
     "name": "stdout",
     "output_type": "stream",
     "text": [
      "Added beta alanine pathway\n",
      "Added trans malonyl-CoA pathway\n",
      "Added red malonyl-CoA pathway\n",
      "Added lactate pathway\n"
     ]
    }
   ],
   "source": [
    "# creating the models with the respective pathways\n",
    "beta_model = create_pathway(model.copy(),1)\n",
    "trn_malonyl_model = create_pathway(model.copy(),2)\n",
    "red_malonyl_model = create_pathway(model.copy(),3)\n",
    "lactate_model = create_pathway(model.copy(),4)\n",
    "models = [(beta_model,'Beta-Alanine'),(trn_malonyl_model,'Malonyl-CoA Transferase'),(red_malonyl_model,'Malonyl-CoA Oxidored'),(lactate_model,'Lactate')]"
   ]
  },
  {
   "cell_type": "code",
   "execution_count": 10,
   "metadata": {},
   "outputs": [
    {
     "data": {
      "text/html": [
       "\n",
       "        <table>\n",
       "            <tr>\n",
       "                <td><strong>Reaction identifier</strong></td><td>APAT2r</td>\n",
       "            </tr><tr>\n",
       "                <td><strong>Name</strong></td><td>beta-alanine:2-oxoglutarate aminotransferase</td>\n",
       "            </tr><tr>\n",
       "                <td><strong>Memory address</strong></td>\n",
       "                <td>0x024a225c0898</td>\n",
       "            </tr><tr>\n",
       "                <td><strong>Stoichiometry</strong></td>\n",
       "                <td>\n",
       "                    <p style='text-align:right'>akg_c + ala_B_c --> glu_L_c + msa_c</p>\n",
       "                    <p style='text-align:right'>2-Oxoglutarate + beta-Alanine --> L-Glutamate + 3-Oxopropanoate</p>\n",
       "                </td>\n",
       "            </tr><tr>\n",
       "                <td><strong>GPR</strong></td><td>PAS_chr2-1_0107 or PAS_chr4_0677</td>\n",
       "            </tr><tr>\n",
       "                <td><strong>Lower bound</strong></td><td>0.0</td>\n",
       "            </tr><tr>\n",
       "                <td><strong>Upper bound</strong></td><td>1000.0</td>\n",
       "            </tr>\n",
       "        </table>\n",
       "        "
      ],
      "text/plain": [
       "<Reaction APAT2r at 0x24a225c0898>"
      ]
     },
     "execution_count": 10,
     "metadata": {},
     "output_type": "execute_result"
    }
   ],
   "source": [
    "model.reactions.APAT2r"
   ]
  },
  {
   "cell_type": "markdown",
   "metadata": {},
   "source": [
    "### 4.2 Analyzing the pathways"
   ]
  },
  {
   "cell_type": "markdown",
   "metadata": {},
   "source": [
    "#### 4.2.1 Defining the medium\n",
    "  \n",
    "*TEXTEEXT*"
   ]
  },
  {
   "cell_type": "code",
   "execution_count": 4,
   "metadata": {},
   "outputs": [
    {
     "data": {
      "text/html": [
       "<div>\n",
       "<style scoped>\n",
       "    .dataframe tbody tr th:only-of-type {\n",
       "        vertical-align: middle;\n",
       "    }\n",
       "\n",
       "    .dataframe tbody tr th {\n",
       "        vertical-align: top;\n",
       "    }\n",
       "\n",
       "    .dataframe thead th {\n",
       "        text-align: right;\n",
       "    }\n",
       "</style>\n",
       "<table border=\"1\" class=\"dataframe\">\n",
       "  <thead>\n",
       "    <tr style=\"text-align: right;\">\n",
       "      <th></th>\n",
       "      <th>Ex_h2o</th>\n",
       "      <th>Ex_nh4</th>\n",
       "      <th>Ex_pi</th>\n",
       "      <th>Ex_h</th>\n",
       "      <th>Ex_o2</th>\n",
       "      <th>Ex_so4</th>\n",
       "      <th>Ex_glyc</th>\n",
       "      <th>Ex_fe2</th>\n",
       "      <th>Ex_btn</th>\n",
       "      <th>Ex_k</th>\n",
       "      <th>Ex_meoh</th>\n",
       "    </tr>\n",
       "  </thead>\n",
       "  <tbody>\n",
       "    <tr>\n",
       "      <th>name</th>\n",
       "      <td>H2O</td>\n",
       "      <td>Ammonium</td>\n",
       "      <td>Phosphate</td>\n",
       "      <td>H+</td>\n",
       "      <td>Oxygen</td>\n",
       "      <td>Sulfate</td>\n",
       "      <td>Glycerol</td>\n",
       "      <td>Fe2+</td>\n",
       "      <td>Biotin</td>\n",
       "      <td>potassium</td>\n",
       "      <td>Methanol</td>\n",
       "    </tr>\n",
       "    <tr>\n",
       "      <th>uptake</th>\n",
       "      <td>1000</td>\n",
       "      <td>1000</td>\n",
       "      <td>1000</td>\n",
       "      <td>1000</td>\n",
       "      <td>1000</td>\n",
       "      <td>1000</td>\n",
       "      <td>0</td>\n",
       "      <td>1000</td>\n",
       "      <td>4e-05</td>\n",
       "      <td>1000</td>\n",
       "      <td>6</td>\n",
       "    </tr>\n",
       "  </tbody>\n",
       "</table>\n",
       "</div>"
      ],
      "text/plain": [
       "       Ex_h2o    Ex_nh4      Ex_pi  Ex_h   Ex_o2   Ex_so4   Ex_glyc Ex_fe2  \\\n",
       "name      H2O  Ammonium  Phosphate    H+  Oxygen  Sulfate  Glycerol   Fe2+   \n",
       "uptake   1000      1000       1000  1000    1000     1000         0   1000   \n",
       "\n",
       "        Ex_btn       Ex_k   Ex_meoh  \n",
       "name    Biotin  potassium  Methanol  \n",
       "uptake   4e-05       1000         6  "
      ]
     },
     "metadata": {},
     "output_type": "display_data"
    }
   ],
   "source": [
    "# General medium for all models based on the unchanged vanilla model (=same medium as in all derived models)\n",
    "medium = model.medium\n",
    "medium['Ex_meoh'] = 6  # 6 = Realistic methanol uptake rates cf.Tomàs‐Gamisans 2018\n",
    "medium['Ex_glyc'] = 0  # setting the other carbon source gylcerol to zero\n",
    "\n",
    "# create a data frame to plot a table\n",
    "med_names = dict()\n",
    "for flux in medium:\n",
    "    meta = model.reactions.get_by_id(flux).metabolites\n",
    "    for element in meta:\n",
    "        med_names[flux] = element.name\n",
    "df_med = pd.DataFrame(medium, index=['uptake'])\n",
    "df_names = pd.DataFrame(med_names, index=['name'])\n",
    "display(pd.concat([df_names,df_med]))"
   ]
  },
  {
   "cell_type": "markdown",
   "metadata": {},
   "source": [
    "#### 4.2.2 Theoretical maximum yields\n",
    "A phenotypic phaseplane is constructed to see the interconnections between the malonic acid production and the biomass growth rate."
   ]
  },
  {
   "cell_type": "code",
   "execution_count": 5,
   "metadata": {},
   "outputs": [
    {
     "name": "stdout",
     "output_type": "stream",
     "text": [
      "General maximum biomass growth 0.0951 mmol/gDW*h\n"
     ]
    },
    {
     "data": {
      "text/html": [
       "<div>\n",
       "<style scoped>\n",
       "    .dataframe tbody tr th:only-of-type {\n",
       "        vertical-align: middle;\n",
       "    }\n",
       "\n",
       "    .dataframe tbody tr th {\n",
       "        vertical-align: top;\n",
       "    }\n",
       "\n",
       "    .dataframe thead th {\n",
       "        text-align: right;\n",
       "    }\n",
       "</style>\n",
       "<table border=\"1\" class=\"dataframe\">\n",
       "  <thead>\n",
       "    <tr style=\"text-align: right;\">\n",
       "      <th></th>\n",
       "      <th>Beta-Alanine</th>\n",
       "      <th>Malonyl-CoA Transferase</th>\n",
       "      <th>Malonyl-CoA Oxidored</th>\n",
       "      <th>Lactate</th>\n",
       "    </tr>\n",
       "    <tr>\n",
       "      <th>Maximum</th>\n",
       "      <th></th>\n",
       "      <th></th>\n",
       "      <th></th>\n",
       "      <th></th>\n",
       "    </tr>\n",
       "  </thead>\n",
       "  <tbody>\n",
       "    <tr>\n",
       "      <th>carbon yield</th>\n",
       "      <td>1.0</td>\n",
       "      <td>1.0</td>\n",
       "      <td>0.982837</td>\n",
       "      <td>0.881316</td>\n",
       "    </tr>\n",
       "    <tr>\n",
       "      <th>MA flux in mmol/gDW*h</th>\n",
       "      <td>2.0</td>\n",
       "      <td>2.0</td>\n",
       "      <td>1.965673</td>\n",
       "      <td>1.762632</td>\n",
       "    </tr>\n",
       "  </tbody>\n",
       "</table>\n",
       "</div>"
      ],
      "text/plain": [
       "                       Beta-Alanine  Malonyl-CoA Transferase  \\\n",
       "Maximum                                                        \n",
       "carbon yield                    1.0                      1.0   \n",
       "MA flux in mmol/gDW*h           2.0                      2.0   \n",
       "\n",
       "                       Malonyl-CoA Oxidored   Lactate  \n",
       "Maximum                                                \n",
       "carbon yield                       0.982837  0.881316  \n",
       "MA flux in mmol/gDW*h              1.965673  1.762632  "
      ]
     },
     "metadata": {},
     "output_type": "display_data"
    },
    {
     "data": {
      "text/plain": [
       "Text(0, 0.5, 'Carbon yield MA / Substrate')"
      ]
     },
     "execution_count": 5,
     "metadata": {},
     "output_type": "execute_result"
    },
    {
     "data": {
      "image/png": "[encoded data removed]",
      "text/plain": [
       "<Figure size 432x288 with 1 Axes>"
      ]
     },
     "metadata": {
      "needs_background": "light"
     },
     "output_type": "display_data"
    }
   ],
   "source": [
    "from cobra.flux_analysis.phenotype_phase_plane import production_envelope\n",
    "\n",
    "model.medium = medium\n",
    "model.objective = model.reactions.get_by_id('Ex_biomass')\n",
    "\n",
    "df_yields = pd.DataFrame()\n",
    "df_max = pd.DataFrame(index=['carbon yield','MA flux in mmol/gDW*h'])\n",
    "df_max.index.name = 'Maximum'\n",
    "max_growth = model.slim_optimize()\n",
    "print('General maximum biomass growth',round(max_growth,4),'mmol/gDW*h')\n",
    "\n",
    "for pairing in models:\n",
    "    pathway_model = pairing[0]\n",
    "    with pathway_model:\n",
    "        pathway_model.medium = medium\n",
    "        pathway_model.objective = pathway_model.reactions.get_by_id('Ex_mln')\n",
    "        ppp = production_envelope(pathway_model,\n",
    "                    reactions='Ex_biomass',\n",
    "                    objective='Ex_mln')\n",
    "        df_yields[pairing[1]]=ppp.carbon_yield_maximum\n",
    "        df_max[pairing[1]]=[ppp.carbon_yield_maximum.max(),ppp.flux_maximum.max()]\n",
    "\n",
    "display(df_max)\n",
    "df_yields['Ex_biomass'] = ppp.Ex_biomass\n",
    "df_yields.plot(x='Ex_biomass', y=[pairing[1] for pairing in models], title='Pathway carbon yields').set_ylabel('Carbon yield MA / Substrate')"
   ]
  },
  {
   "cell_type": "markdown",
   "metadata": {},
   "source": [
    "#### 4.2.3 Optimal O2 uptake"
   ]
  },
  {
   "cell_type": "markdown",
   "metadata": {},
   "source": [
    "![O2 uptake table](https://raw.githubusercontent.com/27410/group-assignment-2021-group-8-malonic-acid-in-k-phaffii/main/img/o2_uptake_table.PNG \"O2 uptake table\")\n",
    "\n",
    "*Figure 3*:\n",
    "\n",
    "![O2 uptake graph](https://raw.githubusercontent.com/27410/group-assignment-2021-group-8-malonic-acid-in-k-phaffii/main/img/o2_uptake.png \"O2 uptake graph\")\n",
    "\n",
    "*Figure 4*:"
   ]
  },
  {
   "cell_type": "markdown",
   "metadata": {},
   "source": [
    "#### 4.2.4 Optimal methanol uptake rate"
   ]
  },
  {
   "cell_type": "markdown",
   "metadata": {},
   "source": [
    "![MeOH uptake table](https://raw.githubusercontent.com/27410/group-assignment-2021-group-8-malonic-acid-in-k-phaffii/main/img/meoh_uptake_table.PNG \"MeOH uptake table\")\n",
    "\n",
    "*Figure 5*:\n",
    "\n",
    "\n",
    "![MeOH uptake graph](https://raw.githubusercontent.com/27410/group-assignment-2021-group-8-malonic-acid-in-k-phaffii/main/img/meoh_uptake.png \"MeOH uptake graph\")\n",
    "\n",
    "*Figure 6*:\n"
   ]
  },
  {
   "cell_type": "markdown",
   "metadata": {},
   "source": [
    "The results for the two pathways for the oxygen dependency are equal. Both the malonic acid production and the biomass growth rate seem to have the same oxygen dependency for both pathways.  \n",
    "Interestingly the oxygen demand varys between the two objectives malonic acdi producation and biomass growth. The optimal uptake is slightly higher for the biomass growth. Also a difference in the curvature is visible."
   ]
  },
  {
   "cell_type": "markdown",
   "metadata": {},
   "source": [
    "### 4.3 Further medium investigation"
   ]
  },
  {
   "cell_type": "markdown",
   "metadata": {},
   "source": [
    "#### 4.3.1 Minimal media"
   ]
  },
  {
   "cell_type": "markdown",
   "metadata": {},
   "source": [
    "#### 4.3.2 Other carbon sources"
   ]
  },
  {
   "cell_type": "markdown",
   "metadata": {},
   "source": [
    "\n",
    "![Substrates bargraph](https://raw.githubusercontent.com/27410/group-assignment-2021-group-8-malonic-acid-in-k-phaffii/main/img/substrates_bargraph.png \"Substrates bargraph\")\n",
    "\n",
    "*Figure 7*:\n"
   ]
  },
  {
   "cell_type": "markdown",
   "metadata": {},
   "source": [
    "### 4.4 Optimization"
   ]
  },
  {
   "cell_type": "markdown",
   "metadata": {},
   "source": [
    "***Methanol assimilation***:\n",
    "\n",
    "As mentioned, utilising methanol as a substrate could be a great alternative and a step towards more for sustainable processes. However, both growth and product titers are significantly lowered compared to other substrates. Miao manages to produce 5.6 g/L of beta-alanine in _P. pastoris_ grown on methanol which they state is the highest metabolite titer reached for the conditions. Up to 43.12 has been reached with glucose.\n",
    "\n",
    "For investigation of the drawbacks behind methanol utilisation the pathway is drawn in escher for fluxes under optimized growth. "
   ]
  },
  {
   "cell_type": "code",
   "execution_count": 9,
   "metadata": {},
   "outputs": [
    {
     "data": {
      "application/vnd.jupyter.widget-view+json": {
       "model_id": "3255c5c5555d4826ad4693641850c630",
       "version_major": 2,
       "version_minor": 0
      },
      "text/plain": [
       "Builder(highlight_missing=True, reaction_data={'ADPtn': 0.0, 'ATPtn': 0.0, 'FACOAE140': 0.005761167339669901, …"
      ]
     },
     "metadata": {},
     "output_type": "display_data"
    }
   ],
   "source": [
    "with model:  \n",
    "    solution = model.optimize()\n",
    "    import escher\n",
    "    from IPython.display import display\n",
    "    b = escher.Builder(map_json = 'misc/iMM904.Central_carbon_metabolism.json', reaction_data = solution.fluxes.to_dict(),highlight_missing=True, model=model)\n",
    "    display(b)"
   ]
  },
  {
   "cell_type": "markdown",
   "metadata": {},
   "source": [
    "![Escher plot](https://raw.githubusercontent.com/27410/group-assignment-2021-group-8-malonic-acid-in-k-phaffii/4a9df0d9b9168bbb670f017c3f1298cf69e7ba56/img/saved_map.svg \"Escher plot\")"
   ]
  },
  {
   "cell_type": "markdown",
   "metadata": {},
   "source": [
    "As seen, approximately a third of the formaldehyde flux is taken down the path and oxidized in reactions FALDH2 and FDH to produce reducing power in form of NADH (82.2% NADH of all contribution). Shown in Schroer 2009 that FLD is the main bottleneck for NADH generation. At this point it becomes clear why malonate is an interesting product of choice through the use of the beta-alanine pathway; the end step is a NADH regenerator. Constraining the biomass formation to 50% and optimizing for malonate production, 29.18% of the necessary NADH is generated by MSADH and only 30.3% is thus needed from the formaldehyde oxidation steps. With the same setup, but instead having beta-alanine as the product optimized for, FALDH2 and FDH have to constitute 67.58% of NADH generation (maybe put a table). The resulting yield of beta-alanine becomes 0.36 g ala_B/g meoh while it almost doubles for malonate (0.62 g mln/g meoh).\n",
    "\n",
    "It is clear that the NADH/NADPH balance is important for optimizing growth and improving productivity. Much experimentation with manual cofactor swaps was peformed to check for more optimal routes. It was managed to improve the base growth rate by swapping NADH with NADPH in GAPD in glycolysis, but only by 0.0022 h^-1 and it did not improve the phenotypic phase plane significantly. OPTSwap was employed for algorithmic predictions instead but with no result either (show in github).\n"
   ]
  },
  {
   "cell_type": "markdown",
   "metadata": {},
   "source": [
    "***Optimizing the use of malonic-semialdehyde***"
   ]
  },
  {
   "cell_type": "markdown",
   "metadata": {},
   "source": [
    "In an in-vivo context there are multiple considerations to be made. First off, FVA reveals that malonic-semialdehyde is not only used for malonate production but also conversion into acetyl-coa through MMSAD3. The gene coding for this reaction is should be knocked out to avoid this occuring in the real biological system. Computationally, doing this does not affect the phenotypic phase plane either."
   ]
  },
  {
   "cell_type": "markdown",
   "metadata": {},
   "source": [
    "In a study (Borodina 2014) about 3-hydroxypropanoate production in S. cerevisiae, screening was peformed to identify the best hetereologous reaction for beta alinine to malonic-semialdehyde conversion (BABAT). Even though the reaction APAT2r is present in both P. pastoris and S. cerevisiae the conclusion was that a gene from B cerus should be inserted. However, FVA revealed that APAT2r and BABAT were equally effective. This goes to show the limits of non-constrained Fva. Here it points to APAT2r being sufficient for in vivo msa production, contrary to the findings of Borodina."
   ]
  },
  {
   "cell_type": "markdown",
   "metadata": {},
   "source": [
    "Several additional tools were used in an attempt to further optimize the model. OptKnock is an algorithm which aims to couple the production of a desired product with biomass accumulation by simulating knockout combinations in the model and comparing resulting flux balances (Burgard 2003). In a similar fashion OptGene simulates the addition of metabolic pathways to increase product yield and decrease flux towards undesired by-products (Patil 2005). OptCouple combines the previously mentioned strategies as well as optimizing medium composition (Jensen 2019). OptSwap optimizes cofactor utilization by altering the NAD(H) and NADP(H) specificity of oxidoreductase enzymes (King 2013). Finally, Flux Scanning based on Enforced Objective Flux (FSEOF) optimizes a model for biomass accumulation and then gradually forces flux towards a target metabolite to display the overall changes in flux balance, indicating potential gene targets for up- and downregulation (Choi 2010).\n",
    "\n",
    "Both OptKnock and OptCouple encountered an error which could not be resolved. OptGene did not return any gene targets for gene knock-ins. As the final step in malonic acid production reduces NADP+ to NADPH, we suspect the overproduction of malonic acid has a drastic effect on cofactor balance. Unfortunately OptSwap did not return any gene targets for altered cofactor specificity, either with or without enforced flux towards malonic acid production. In an attempt to manually optimize cofactor usage the specificity of glyceraldehyde-3-phsophate dehydrogenase was changed from NAD(H) to NADP(H), which resulted in a slight increase in flux towards biomass accumulation. With methanol as a substrate FSEOF resulted in 53 reactions with a flux change over 0.01 (figure 1). All of the reactions involved in carbon metabolism as well as reactions directly towards the beta-alanine metabolism have increased fluxes, acetyl-CoA is produced from acetyl instead of pyruvate, the amino acid metabolism stops entirely and the cell starts to metabolize amino acids to maintain ATP requirements. \n",
    "\n",
    "\n",
    "![image.png](https://raw.githubusercontent.com/27410/group-assignment-2021-group-8-malonic-acid-in-k-phaffii/main/img/FSEOF.png)\n",
    " \n",
    "*Figure 8*: Reactions with > 0.01 change in flux with a forced objective flux towards malonic acid production ranging form 0.18 to 1.8.\n"
   ]
  },
  {
   "cell_type": "markdown",
   "metadata": {},
   "source": [
    "***Improving the aspartate supply***"
   ]
  },
  {
   "cell_type": "markdown",
   "metadata": {},
   "source": [
    "Aspartate is cf Miao 2021 reported to have a large metabolic pool size in P pastoris also makes the reaction favorable. It is the goal to further improve this property to ensure a higher flux towards beta-alanine. Song 2016 engineered E.coli for 3HP and MA production. Part of the strategy was to facilitate aspartate formation by introducing direct amination of fumarate by aspartase. This was also implemented in the model through the reaction ASPAML but yet again with no significant results other than being a possible route in Fva."
   ]
  },
  {
   "cell_type": "markdown",
   "metadata": {},
   "source": [
    "Miao 2021 also works with improving aspartate availability but instead by improving supply from OAA. From the escher plots and fva it should be noticed that the opposite is occuring. By strengthening the OAA production through CO2 fixation these fluxes could possibly be redirected. This was done by introducing phosphoenolpyruvate carboxykinase from A. succinogenes (Hu 2018). How much it will improve the productivity in a real organism is however interesting, since the thermodynamics of the reaction may not allow such a big flux through this reaction."
   ]
  },
  {
   "cell_type": "markdown",
   "metadata": {},
   "source": [
    "## 5. Discussion (<500 words)\n",
    "\n",
    "From the analysis it was shown that it should be possible to efficiently synthesise Malonic acid in *K. phaffii* using methanol as the substrate. The pathway of interest is through beta-alanine which was shown to be the most optimal of the ones experimented with. This was also in line with what was found in literature. However, it was not possible to recreate the findings of Miao; that introduction of an alternative malonic-semialdehyde producing enzyme BABAT increased the flux towards the important precursor metabolite. Also, a knockout of malonic-semialdehyde consuming reactions did not change anything. Linear programming mathematically identifies the maxima and will therefore redirect fluxes in a manner that is not necessarily possible in vivo. Without enzymatic constraints, and with flux boundaries set to +- 1000, a biologically unattainable snapshot of fluxes can be presented. Therefore, comparison of two reactions such as BABAT and APATr may not be constructive. \n",
    "\n",
    "However, tools employed such as FSEOF, FVA and visualizing the changes of fluxes in escher gives a good overview of what metabolic engineering strategies to implement. The most crucial change is to downregulate FALDtx and upregulate DAS, in order to redirect flux of formaldehyde towards the central carbon metabolism. But also the importance of oxaloacetate as a precursor was underlined. Instead of drawing it into the TCA, the ASPTAm is an important reaction that provides aspartate, that can be recycled for precursor generation but also drawn out for beta alanine production that can be further processed to malonic acid. Here it was shown that introducing the combination of phosphoenolpytuvate carboxykinase (ATP generating PPCK) and aspartase acting upon fumarate (ASPAML) led to more optimal phenotypic phase planes where more malonic acid can be produced at higher growth rates. These changes were, as mentioned implemented, in papers for beta-alanine and 3HP production, so the chance of succeeding is good.\n",
    "\n",
    "It should be investigated whether *K. Phaffii* actually can grow properly on methanol when genetically engineering a reroute of flux towards central carbon metabolism. It was shown in a study, that adaptive laboratory evolution induced a mutation upon the alcohol oxidase (AOD) and reduced formaldehyde formation, but still increased growth rate (https://microbialcellfactories.biomedcentral.com/articles/10.1186/s12934-017-0661-5). The conclusion was that it is important to balance formaldehyde levels because it can be toxic to the organism. In theory, upregulation of DAS could aid in this balancing. This should be tested as the first thing, before implementing other changes in the production host.\n"
   ]
  },
  {
   "cell_type": "markdown",
   "metadata": {},
   "source": [
    "## 6. Conclusion (<200 words)\n",
    "\n",
    "To generate a GSM of *K. Phaffii*, we first used KBase and CarveMe. The MEMOTE reports of those models either had a bad mass balance score or consisted of only three compartments. This led us to use the GSM iMT1026-v3 created by Tomàs-Gamisans et al in 2017 for further analysis. The pathways found in literature were compared and the most promising - the beta alanine pathway - was chosen for further analysis. Trying multiple model optimization techniques, we concluded that malonic acid production is possible using methanol as a substrate. This reaction has a severe impact on the growth of *K. Phaffii*. Therefore, it seems that the most promising strategy for our cell factory is to use an inducible system, allowing the strain to accumulate biomass before switching to malonic acid production. If initial lab tests prove that our pathway is feasible, a cost-benefit analysis needs to be done. In case of a positive outcome, the system can be leveraged to become a competitor on the global malonic acid production market."
   ]
  },
  {
   "cell_type": "markdown",
   "metadata": {},
   "source": [
    "## References"
   ]
  },
  {
   "cell_type": "markdown",
   "metadata": {},
   "source": [
    "Encyclopædia Britannica/Malonic Acid. (2021). Retrieved 17 November 2021, from https://en.wikisource.org/wiki/1911_Encyclop%C3%A6dia_Britannica/Malonic_Acid\n",
    "\n",
    "Global Industry Report | Malonic Acid Market. (2021). Retrieved 17 November 2021, from https://www.transparencymarketresearch.com/malonic-acid-market.html\n",
    "\n",
    "Hildbrand, S., & Pollak, P. (2001). Malonic Acid and Derivatives. Ullmann's Encyclopedia Of Industrial Chemistry. doi: 10.1002/14356007.a16_063\n",
    "\n",
    "Irani, Z., Kerkhoven, E., Shojaosadati, S., & Nielsen, J. (2015). Genome-scale metabolic model of Pichia pastoris with native and humanized glycosylation of recombinant proteins. Biotechnology And Bioengineering, 113(5), 961-969. doi: 10.1002/bit.25863\n",
    "\n",
    "Malonic Acid Market 2021 Comprehensive Report: Demand Analysis with Covid-19 Impact, Industry Size, Latest Trend Analysis, Impact of Covid-19, Top Players, Revenue Expectation, Development Status and Forecast to 2027. (2021). Retrieved 15 November 2021, from https://www.wboc.com/story/44796231/malonic-acid-market-2021-comprehensive-report-demand-analysis-with-covid-19-impact-industry-size-latest-trend-analysis-impact-of-covid-19-top-players\n",
    "\n",
    "Miao, L., Li, Y., & Zhu, T. (2021). Metabolic engineering of methylotrophic Pichia pastoris for the production of β-alanine. Bioresources And Bioprocessing, 8(1). doi: 10.1186/s40643-021-00444-9\n",
    "\n",
    "Peters, E., Schlakman, G., & Yang, E. (2018). Production of Malonic Acid through the Fermentation of Glucose. Senior Design Reports.\n",
    "\n",
    "Tomàs-Gamisans, M., Ferrer, P., & Albiol, J. (2016). Integration and Validation of the Genome-Scale Metabolic Models of Pichia pastoris: A Comprehensive Update of Protein Glycosylation Pathways, Lipid and Energy Metabolism. PLOS ONE, 11(1), e0148031. doi: 10.1371/journal.pone.0148031\n",
    "\n",
    "Tomàs-Gamisans, M., Ferrer, P., & Albiol, J. (2017). Fine-tuning the P. pastoris iMT1026 genome-scale metabolic model for improved prediction of growth on methanol or glycerol as sole carbon sources. Microbial Biotechnology, 11(1), 224-237. doi: 10.1111/1751-7915.12871\n",
    "\n",
    "Werpy, Todd A.; Holladay, John E.; White, James F. (August 2004). Top Value Added Chemicals from Biomass Volume I - Results of Screening for Potential Candidates from Sugars and Synthesis Gas. [https://www.pnnl.gov/main/publications/external/technical_reports/PNNL-14808.pdf]\n",
    "\n",
    "Burgard AP, Pharkya P, Maranas CD. Optknock: a bilevel programming framework for identifying gene knockout strategies for microbial strain optimization. Biotechnol Bioeng. 2003 Dec 20;84(6):647-57. doi: 10.1002/bit.10803. PMID: 14595777.\n",
    "\n",
    "Patil, K.R., Rocha, I., Förster, J. et al. Evolutionary programming as a platform for in silico metabolic engineering. BMC Bioinformatics 6, 308 (2005). https://doi.org/10.1186/1471-2105-6-308\n",
    "\n",
    "Jensen, K., Broeken, V., Hansen, A. S. L., Sonnenschein, N., & Herrgård, M. J. (2019). OptCouple: Joint simulation of gene knockouts, insertions and medium modifications for prediction of growth-coupled strain designs. Metabolic Engineering Communications, 8, [e00087]. https://doi.org/10.1016/j.mec.2019.e00087\n",
    "\n",
    "King, Z. A., & Feist, A. (2013). Optimizing Cofactor Specificity of Oxidoreductase Enzymes for the Generation of Microbial Production Strains—OptSwap. Industrial Biotechnology, 9(4), 236. https://doi.org/10.1089/ind.2013.0005\n",
    "\n",
    "Choi HS, Lee SY, Kim TY, Woo HM: In silico identification of gene amplification targets for improvement of lycopene production. Appl Environ Microbiol. 2010, 76: 3097-3105. 10.1128/AEM.00115-10.\n"
   ]
  },
  {
   "cell_type": "code",
   "execution_count": null,
   "metadata": {},
   "outputs": [],
   "source": []
  }
 ],
 "metadata": {
  "kernelspec": {
   "display_name": "Python 3",
   "language": "python",
   "name": "python3"
  },
  "language_info": {
   "codemirror_mode": {
    "name": "ipython",
    "version": 3
   },
   "file_extension": ".py",
   "mimetype": "text/x-python",
   "name": "python",
   "nbconvert_exporter": "python",
   "pygments_lexer": "ipython3",
   "version": "3.6.13"
  }
 },
 "nbformat": 4,
 "nbformat_minor": 4
}
