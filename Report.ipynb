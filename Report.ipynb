{
 "cells": [
  {
   "cell_type": "markdown",
   "metadata": {},
   "source": [
    "# Enhancing GSM of Komagataella pfaffii for production of malonic acid"
   ]
  },
  {
   "cell_type": "markdown",
   "metadata": {},
   "source": [
    "## 1. Introduction"
   ]
  },
  {
   "cell_type": "markdown",
   "metadata": {},
   "source": [
    "### 1.1 Literature review of the compound"
   ]
  },
  {
   "cell_type": "markdown",
   "metadata": {},
   "source": [
    "The natural occurring substance malonic acid was first discovered in beetroots. Even though is was first prepared in 1858 (Encyclopædia Britannica), its relevance in todays market is not declining. Malonic acid is traditionally produced synthetically from nonrenewable petroleum feedstock. During this process ester groups have to be added using an alcohol (Hildbrand, 2001). Using non renewable resources is neither environmentally friendly, nor will it be financially lucrative in the future. The company Lygos Inc. has therefore developed a patented method to produce malonic acid through fermentation of genetically modified *Pichia Kudriavzevii* yeast cells (Peters, 2018). These efforts have been taken on due to the vast amount of uses for malonic acid in modern industry.\n",
    "\n",
    "\n",
    "![Malonic acid](https://raw.githubusercontent.com/27410/group-assignment-2021-group-8-malonic-acid-in-k-phaffii/reorganizer/img/malonic_acid.png?token=AFITQ5RTCIM3PIYMH76PEN3BTQASG \"Malonic acid\")\n",
    "\n",
    "*Figure 1*:  Molecular Structure of Malonic Acid.\n",
    "\n",
    "The molecule is often used as a precursor, as it can be converted into 1,3 propanediol - a precursor for polyesters and polymers. Furthermore malonic acid is used in the electronics, flavor, pharmaceutical, fragrance and coating industry. According to market research, the rising interest in the compound will lead to an increase in sales of the compound (Global Industry Report). Political pressure to utilize bio-based synthetic compounds will further expand the market for malonic acid. It is predicted to go from USD 46 million in 2020 to USD 55 million by the end of 2027 (Malonic Acid Market 2021 Comprehensive Report).\n",
    "\n",
    "The US Department of Energy listed malonic acid as one of the top 30 chemicals to be produced from biomass (Werpy, 2004). According to their research it is best produced via 3-Hydroxypropionate from sugars like Glucose, Fructose, Xylose,Arabinose, Lactose, Sucrose or Starch. The compound can be derived from beta alanine, which can efficiently be produced from methanol (Miao, 2021). Our goal is therefore to use methanol as the substrate. In modern sustainable production, methanol is considered to be a promising feedstock, since it provides highly reduced carbon and is not competing with food sources.\n"
   ]
  },
  {
   "cell_type": "markdown",
   "metadata": {},
   "source": [
    "### 1.2 Literature review of the cell factory"
   ]
  },
  {
   "cell_type": "markdown",
   "metadata": {},
   "source": [
    "#### 1.2.1 Introduction to Komagataella phaffii\n",
    "The organism chosen as a cell chassis in this report is the methylotrophic yeast _Komagataella phaffii_, also know under its outdated name _Pichia Pastoris_, which is still often used in applied sciences. The genus _Komagataella_ comprises of 7 species, of which _K. phaffii_ and _K. pastoris_ are most used and only ones that have been studied in detail. (Heistinger 2020).\n",
    "\n",
    "![Komagataella phaffii](https://raw.githubusercontent.com/27410/group-assignment-2021-group-8-malonic-acid-in-k-phaffii/reorganizer/img/komagataella_phaffii.png?token=AFITQ5UYSC7POD7R5XN3Z4TBTQADY \"Komagataella phaffii\")\n",
    "\n",
    "*K phaffii*: Source: https://www.hcp-detection.org/expression-systems-for-therapeutic-biopharmaceuticals/expression-system-pichia-pastoris/#prettyPhoto/0/"
   ]
  },
  {
   "cell_type": "markdown",
   "metadata": {},
   "source": [
    "#### 1.2.2\tGeneral Advantages\n",
    "_Komagataella phaffii_ is a methylotrophic, Crabtree negative yeast, that is non-pathogenic and widely used as a cell factory. The organism grows very fast on glucose or glycerol to high biomass concentrations and can use ammonium as a nitrogen source (Heistinger 2020). _K. phaffii_ is a robust cell chassis with high genetic stability and endurance against mechanical and physiological stress (Gasser 2018). It is also able to grow on methanol as the only carbon source, due to its strong methanol-inducible promoters on the respective pathway gene (Heistinger 2020). This is exploited in metabolic engineering by introducing recombinant genes into the methanol assimilation pathway region (Bernauer 2021) and using these inducing and non-inducing genes to promote the production of a target metabolite. _K. phaffii_ also owns other, methanol free pathways that can be used in this way. The cells allow the production of biopharmaceuticals with complex human like glycan structures (Heistinger 2020). There are well-established and precises genetic modification strategies and new advances opened _K. phaffii_ as a viable model organism. Recently it was also managed to synthetically implement a pathway similar to the CBB-Cycle into a strain, that allowed the growth of _K. phaffii_ on CO2 as carbon source alone (Bernauer 2021)."
   ]
  },
  {
   "cell_type": "markdown",
   "metadata": {},
   "source": [
    "#### 1.2.3\tGeneral Disadvantages\n",
    "As a Crabtree-negative yeast _K. phaffii_ is not capable of fermentative process under anaerobic conditions. This makes the cells very dependent and sensitive on oxygen supply. To ensure such high growth rates, the sufficient aeration of the broth can be the limiting factor (Bernauer 2021). The high oxygen uptake for assimilating methanol also results in substantial biochemical reaction heat formation and cause troubles for process control and tank design (Gasser 2018). Furthermore the cells show a need for biotin supplemented to the feeding media (Bernauer 2021). In general _K. phaffii_ is less researched than _S. cerevisiae_, which has been in use for centuries and its processes are refined and proven (Gasser 2018)."
   ]
  },
  {
   "cell_type": "markdown",
   "metadata": {},
   "source": [
    "#### 1.2.4\tSuitability of the cell factory for the product\n",
    "The existing metabolism already produces beta-alanine, a key precursor for the desired pathway to malonic acid. It is only necessary to introduce two more reactions and therefore enzymes to enable the production (Miao 2021, Song 2016). The biggest advantage of _K. phaffii_ is the already existing methanol assimilation capability of the organism. The genetic code for the needed promoters also offer the opportunity to introduce methanol-inducible enzyme and providing an interesting dynamic for two stage fermentation (Gasser 2018, Bernauer 2021). For example, first the cell density would be increased fast and to a high level, then a switch of the substrate to methanol induces the production of the desired metabolite."
   ]
  },
  {
   "cell_type": "markdown",
   "metadata": {},
   "source": [
    "## 2. Problem definition (<300 words)"
   ]
  },
  {
   "cell_type": "markdown",
   "metadata": {},
   "source": [
    "## 3. Selection and assessment of existing GSM (<500 words)\n",
    "\n",
    "For _Pichia Pastoris_, three GEM models were published between 2010-2012 which became the most complete and acknowledged models in literature at the time (Tomàs-Gamisans, 2016). We found all three, imported them through COBRA and ran tests on MEMOTE to check their quality.\n",
    "\n",
    "|                        | PpaMBEL1254 | iPP668 | iLC915 |\n",
    "|------------------------|-------------|--------|--------|\n",
    "| __Number of metabolites__  | 1058        | 1178   | 2301   |\n",
    "| __Number of reactions__    | 1254        | 1361   | 1506   |\n",
    "| __Number of compartments__ | 1           | 8      | 8      |\n",
    "| __Memote overall score__   | 19%         | 20%    | 27%    |\n",
    "\n",
    "There has since been improvements and reconstructions of these three models. Among others was on update from 2016 for more accurate predictions to native and humanized glycosylation of recombinant proteins(Irani, 2015). Here, the number of metabolites and reactions were increased to 1443 and 1595 respectively and mass balance was improved with 19.7% (cf. memote reports). In 2016 the three models were also merged together, to form the model iMT1026 (Tomàs-Gamisans, 2016). This model was later improved for better predictions of growth on methanol (Tomàs-Gamisans, 2017) iMT1026.V3 which is relevant for our case study. The reconstruction tools CarveMe and KBase was also experimented with. While CarveMe yields impressive memote results, including correct annotation that iMT1026 lacks, it produces a model with only three compartments which is not representative for a fungal organism such as P. Pastoris. After a lot of effort, Kbase was successfully used to create a fungal model from the K. phaffii refseq from NCBI. The memote results were however not very promising. A script was set up to test if the two models predicted growth on the minimal medium proposed in (Tomàs-Gamisans, 2017) with methanol as sole carbon source. It was not possible for either. Collecting the non-carbon medium components necessary for growth and adding that to the base medium, allowed the CarveMe model to have small but positive growth rates while the Kbase model still could not utilize methanol. Finally, iMT1026.V3 was selected for our project as it represents some of the most recent advancement in the P. pastoris reconstruction field and has been validated experimentally for growth on methanol. It, hopefully, implies that the mechanisms of the central metabolism have been accurately replicated. The introduction of malonate producing pathways mostly relies on this metabolic regime being representative, since the reactions do not branch far away from the central metabolism. The model only gets an overall memote score of 19%, but this is due to missing annotation and charge balancing. It has 100% metabolite connectivity and 90.6% mass balancing and should be able to produce reliable predictions to some extent. A concern however arises from the missing charge balance, causing errors in the non-growth associated maintenance reaction. It is known that maintenance becomes more relevant for low growth rates in fermentation and genetically engineered P. pastoris growing on methanol is expected to be quite slow. Hopefully, this will not influence the results too much but should nonetheless be kept in mind."
   ]
  },
  {
   "cell_type": "markdown",
   "metadata": {},
   "source": [
    "## 4. Computer-Aided Cell Factory Engineering (<1500 Words)"
   ]
  },
  {
   "cell_type": "markdown",
   "metadata": {},
   "source": [
    "In order to "
   ]
  },
  {
   "cell_type": "code",
   "execution_count": null,
   "metadata": {},
   "outputs": [],
   "source": [
    "from cobra.io import read_sbml_model\n",
    "\n",
    "# An update to iMT1026 from 2017\n",
    "# Fine‐tuning the P. pastoris iMT1026 genome‐scale metabolic model for improved prediction of growth on methanol or glycerol as sole carbon sources\n",
    "model = read_sbml_model('src\\models\\lit\\iMT1026-v3.xml')"
   ]
  },
  {
   "cell_type": "code",
   "execution_count": 3,
   "metadata": {},
   "outputs": [
    {
     "name": "stdout",
     "output_type": "stream",
     "text": [
      "0.058662013203856875\n"
     ]
    }
   ],
   "source": [
    "with model:\n",
    "    model.objective = model.reactions.Ex_biomass\n",
    "    print(model.optimize().objective_value)"
   ]
  },
  {
   "cell_type": "code",
   "execution_count": 6,
   "metadata": {},
   "outputs": [
    {
     "name": "stdout",
     "output_type": "stream",
     "text": [
      "0.12279086435715253 gDW/(gDW*h)\n"
     ]
    }
   ],
   "source": [
    "# From https://pubmed.ncbi.nlm.nih.gov/10940857/ they find that at maximum methanol uptake of \n",
    "# 0.0682 g/(GWCW*h) a growth rate of 0.0719 is found. \n",
    "# One gram of wet cells is equivalent to approximately 0.28 g dry cell weight and the growth rate\n",
    "# on methanol can thus be checked\n",
    "medium = model.medium\n",
    "with model:\n",
    "    medium['Ex_glyc'] = 0\n",
    "    medium['Ex_meoh'] = 7.6    # mmolMeOH/(gDW*h)\n",
    "    model.medium = medium\n",
    "    solution = model.optimize()\n",
    "    print(solution.fluxes['Ex_biomass'], \"gDW/(gDW*h)\" )"
   ]
  },
  {
   "cell_type": "markdown",
   "metadata": {},
   "source": [
    "## 5. Discussion (<500 words)"
   ]
  },
  {
   "cell_type": "markdown",
   "metadata": {},
   "source": [
    "## 6. Conclusion (<200 words)"
   ]
  },
  {
   "cell_type": "markdown",
   "metadata": {},
   "source": [
    "## References"
   ]
  },
  {
   "cell_type": "markdown",
   "metadata": {},
   "source": [
    "Encyclopædia Britannica/Malonic Acid. (2021). Retrieved 17 November 2021, from https://en.wikisource.org/wiki/1911_Encyclop%C3%A6dia_Britannica/Malonic_Acid\n",
    "\n",
    "Global Industry Report | Malonic Acid Market. (2021). Retrieved 17 November 2021, from https://www.transparencymarketresearch.com/malonic-acid-market.html\n",
    "\n",
    "Hildbrand, S., & Pollak, P. (2001). Malonic Acid and Derivatives. Ullmann's Encyclopedia Of Industrial Chemistry. doi: 10.1002/14356007.a16_063\n",
    "\n",
    "Irani, Z., Kerkhoven, E., Shojaosadati, S., & Nielsen, J. (2015). Genome-scale metabolic model of Pichia pastoris with native and humanized glycosylation of recombinant proteins. Biotechnology And Bioengineering, 113(5), 961-969. doi: 10.1002/bit.25863\n",
    "\n",
    "Malonic Acid Market 2021 Comprehensive Report: Demand Analysis with Covid-19 Impact, Industry Size, Latest Trend Analysis, Impact of Covid-19, Top Players, Revenue Expectation, Development Status and Forecast to 2027. (2021). Retrieved 15 November 2021, from https://www.wboc.com/story/44796231/malonic-acid-market-2021-comprehensive-report-demand-analysis-with-covid-19-impact-industry-size-latest-trend-analysis-impact-of-covid-19-top-players\n",
    "\n",
    "Miao, L., Li, Y., & Zhu, T. (2021). Metabolic engineering of methylotrophic Pichia pastoris for the production of β-alanine. Bioresources And Bioprocessing, 8(1). doi: 10.1186/s40643-021-00444-9\n",
    "\n",
    "Peters, E., Schlakman, G., & Yang, E. (2018). Production of Malonic Acid through the Fermentation of Glucose. Senior Design Reports.\n",
    "\n",
    "Tomàs-Gamisans, M., Ferrer, P., & Albiol, J. (2016). Integration and Validation of the Genome-Scale Metabolic Models of Pichia pastoris: A Comprehensive Update of Protein Glycosylation Pathways, Lipid and Energy Metabolism. PLOS ONE, 11(1), e0148031. doi: 10.1371/journal.pone.0148031\n",
    "\n",
    "Tomàs-Gamisans, M., Ferrer, P., & Albiol, J. (2017). Fine-tuning the P. pastoris iMT1026 genome-scale metabolic model for improved prediction of growth on methanol or glycerol as sole carbon sources. Microbial Biotechnology, 11(1), 224-237. doi: 10.1111/1751-7915.12871\n",
    "\n",
    "Werpy, Todd A.; Holladay, John E.; White, James F. (August 2004). Top Value Added Chemicals from Biomass Volume I - Results of Screening for Potential Candidates from Sugars and Synthesis Gas. [https://www.pnnl.gov/main/publications/external/technical_reports/PNNL-14808.pdf]\n"
   ]
  }
 ],
 "metadata": {
  "kernelspec": {
   "display_name": "Python 3",
   "language": "python",
   "name": "python3"
  },
  "language_info": {
   "codemirror_mode": {
    "name": "ipython",
    "version": 3
   },
   "file_extension": ".py",
   "mimetype": "text/x-python",
   "name": "python",
   "nbconvert_exporter": "python",
   "pygments_lexer": "ipython3",
<<<<<<< HEAD
   "version": "3.6.13"
=======
   "version": "3.8.1"
>>>>>>> 8d1591f7ee490ec97212eb9528a8641df6f5dcae
  }
 },
 "nbformat": 4,
 "nbformat_minor": 4
}
